{
 "cells": [
  {
   "cell_type": "markdown",
   "id": "12c08be2-6386-417b-b4d9-08becff8c7a7",
   "metadata": {},
   "source": [
    "# 3 - Replacing Observed Data with Test Statistics and 2-Dimensional Inference in $\\theta - \\nu$ Space\n",
    "\n",
    "## Pivotal Likelihood-Free Inference for Count Data in Particle Physics\n",
    "\n",
    "Ali Al Kadhim and Harrison B. Prosper <br>\n",
    "Department of Physics, Florida State University <br>\n",
    "\n",
    "\n",
    "## under construction, check back here soon :)"
   ]
  },
  {
   "cell_type": "code",
   "execution_count": 1,
   "id": "569fa6ac-ef83-4c90-9db3-ddeff9001944",
   "metadata": {
    "tags": []
   },
   "outputs": [
    {
     "data": {
      "application/vnd.jupyter.widget-view+json": {
       "model_id": "68dd32ffd039495185403f7810a39c53",
       "version_major": 2,
       "version_minor": 0
      },
      "text/plain": [
       "HTMLMath(value='$\\\\LaTeX$')"
      ]
     },
     "metadata": {},
     "output_type": "display_data"
    }
   ],
   "source": [
    "import numpy as np; import pandas as pd\n",
    "import scipy as sp; import scipy.stats as st\n",
    "import torch; import torch.nn as nn\n",
    "#use numba's just-in-time compiler to speed things up\n",
    "from numba import njit\n",
    "from sklearn.preprocessing import StandardScaler; from sklearn.model_selection import train_test_split\n",
    "import matplotlib as mp; import matplotlib.pyplot as plt; \n",
    "#reset matplotlib stle/parameters\n",
    "import matplotlib as mpl\n",
    "mpl.rcParams.update(mpl.rcParamsDefault)\n",
    "plt.style.use('seaborn-deep')\n",
    "mp.rcParams['agg.path.chunksize'] = 10000\n",
    "font_legend = 15; font_axes=15\n",
    "# %matplotlib inline\n",
    "import copy; import sys; import os\n",
    "from IPython.display import Image, display\n",
    "from importlib import import_module\n",
    "\n",
    "try:\n",
    "    import optuna\n",
    "except Exception:\n",
    "    print('optuna is only used for hyperparameter tuning, not critical!')\n",
    "    pass\n",
    "# import sympy as sy\n",
    "#sometimes jupyter doesnt initialize MathJax automatically for latex, so do this\n",
    "import ipywidgets as wid; wid.HTMLMath('$\\LaTeX$')"
   ]
  },
  {
   "cell_type": "markdown",
   "id": "d4d1661d-b514-4832-9282-06d5ca5774fc",
   "metadata": {},
   "source": [
    "### import utils"
   ]
  },
  {
   "cell_type": "code",
   "execution_count": 2,
   "id": "43461136-422e-4c07-b2c7-697658087dc1",
   "metadata": {
    "tags": []
   },
   "outputs": [
    {
     "name": "stdout",
     "output_type": "stream",
     "text": [
      "BASE directoy properly set =  /home/ali/Desktop/Pulled_Github_Repositories/LFI_HEP\n"
     ]
    }
   ],
   "source": [
    "try:\n",
    "    LFI_PIVOT_BASE = os.environ['LFI_PIVOT_BASE']\n",
    "    print('BASE directoy properly set = ', LFI_PIVOT_BASE)\n",
    "    utils_dir = os.path.join(LFI_PIVOT_BASE, 'utils')\n",
    "    sys.path.append(utils_dir)\n",
    "    import utils\n",
    "    #usually its not recommended to import everything from a module, but we know\n",
    "    #whats in it so its fine\n",
    "    from utils import *\n",
    "except Exception:\n",
    "    print(\"\"\"BASE directory not properly set. Read repo README.\\\n",
    "    If you need a function from utils, use the decorator below, or add utils to sys.path\"\"\")\n",
    "    pass"
   ]
  }
 ],
 "metadata": {
  "kernelspec": {
   "display_name": "Python 3 (ipykernel)",
   "language": "python",
   "name": "python3"
  },
  "language_info": {
   "codemirror_mode": {
    "name": "ipython",
    "version": 3
   },
   "file_extension": ".py",
   "mimetype": "text/x-python",
   "name": "python",
   "nbconvert_exporter": "python",
   "pygments_lexer": "ipython3",
   "version": "3.7.10"
  }
 },
 "nbformat": 4,
 "nbformat_minor": 5
}