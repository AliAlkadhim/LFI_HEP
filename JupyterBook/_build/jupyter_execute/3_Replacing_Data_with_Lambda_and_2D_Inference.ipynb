{
 "cells": [
  {
   "cell_type": "markdown",
   "id": "12c08be2-6386-417b-b4d9-08becff8c7a7",
   "metadata": {},
   "source": [
    "# 3 - Replacing Observed Data with Test Statistics and 2-Dimensional Inference in $\\theta - \\nu$ Space\n",
    "\n",
    "## Pivotal Likelihood-Free Inference for Count Data in Particle Physics\n",
    "\n",
    "Ali Al Kadhim and Harrison B. Prosper <br>\n",
    "Department of Physics, Florida State University <br>\n",
    "\n",
    "\n",
    "## under construction, check back here soon :)"
   ]
  },
  {
   "cell_type": "code",
   "execution_count": null,
   "id": "da0260f0-8af9-4cc1-b10f-13f45f6daddb",
   "metadata": {},
   "outputs": [],
   "source": []
  }
 ],
 "metadata": {
  "kernelspec": {
   "display_name": "Python 3 (ipykernel)",
   "language": "python",
   "name": "python3"
  },
  "language_info": {
   "codemirror_mode": {
    "name": "ipython",
    "version": 3
   },
   "file_extension": ".py",
   "mimetype": "text/x-python",
   "name": "python",
   "nbconvert_exporter": "python",
   "pygments_lexer": "ipython3",
   "version": "3.7.10"
  }
 },
 "nbformat": 4,
 "nbformat_minor": 5
}