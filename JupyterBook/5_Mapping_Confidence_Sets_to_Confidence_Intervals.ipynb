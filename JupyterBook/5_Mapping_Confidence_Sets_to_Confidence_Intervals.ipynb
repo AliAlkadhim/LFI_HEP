{
 "cells": [
  {
   "cell_type": "markdown",
   "id": "b9dd3360-1a51-4e2f-bea9-54c3ed3e23b8",
   "metadata": {},
   "source": [
    "# 5 - Mapping Confidence Sets to Confidence Intervals\n",
    "\n",
    "# Pivotal Likelihood-Free Inference for Count Data in Particle Physics\n",
    "\n",
    "Ali Al Kadhim and Harrison B. Prosper <br>\n",
    "Department of Physics, Florida State University <br>\n",
    "\n",
    "The paper's 4th and final algorithm.\n",
    "\n",
    "## under construction, check back here soon :)"
   ]
  },
  {
   "cell_type": "code",
   "execution_count": null,
   "id": "adcf1efb-1fb1-45a0-adf2-1dd7266c00cf",
   "metadata": {},
   "outputs": [],
   "source": []
  }
 ],
 "metadata": {
  "kernelspec": {
   "display_name": "Python 3 (ipykernel)",
   "language": "python",
   "name": "python3"
  },
  "language_info": {
   "codemirror_mode": {
    "name": "ipython",
    "version": 3
   },
   "file_extension": ".py",
   "mimetype": "text/x-python",
   "name": "python",
   "nbconvert_exporter": "python",
   "pygments_lexer": "ipython3",
   "version": "3.7.10"
  }
 },
 "nbformat": 4,
 "nbformat_minor": 5
}
