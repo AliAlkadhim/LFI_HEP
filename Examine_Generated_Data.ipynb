{
 "cells": [
  {
   "cell_type": "markdown",
   "id": "b99b5973-4049-488a-9083-a6c07faee768",
   "metadata": {},
   "source": [
    "## Examine Results Dataframe"
   ]
  },
  {
   "cell_type": "code",
   "execution_count": 1,
   "id": "28fd99a6-e2de-4e0e-81cd-0b0254302354",
   "metadata": {},
   "outputs": [],
   "source": [
    "import numpy as np\n",
    "import scipy as sp\n",
    "import scipy.stats as st\n",
    "import torch\n",
    "from sklearn.preprocessing import StandardScaler\n",
    "from sklearn.model_selection import train_test_split\n",
    "import matplotlib as mp\n",
    "import matplotlib.pyplot as plt\n",
    "# force inline plots\n",
    "%matplotlib inline\n",
    "plt.style.use('seaborn-deep')\n",
    "import torch.nn as nn\n",
    "import copy\n",
    "import pandas as pd"
   ]
  },
  {
   "cell_type": "code",
   "execution_count": 4,
   "id": "2816c349-b974-468b-b131-089955a599aa",
   "metadata": {},
   "outputs": [
    {
     "data": {
      "text/html": [
       "<div>\n",
       "<style scoped>\n",
       "    .dataframe tbody tr th:only-of-type {\n",
       "        vertical-align: middle;\n",
       "    }\n",
       "\n",
       "    .dataframe tbody tr th {\n",
       "        vertical-align: top;\n",
       "    }\n",
       "\n",
       "    .dataframe thead th {\n",
       "        text-align: right;\n",
       "    }\n",
       "</style>\n",
       "<table border=\"1\" class=\"dataframe\">\n",
       "  <thead>\n",
       "    <tr style=\"text-align: right;\">\n",
       "      <th></th>\n",
       "      <th>Unnamed: 0</th>\n",
       "      <th>theta</th>\n",
       "      <th>calulated_p</th>\n",
       "      <th>phat</th>\n",
       "      <th>Dicrepancy_percnt</th>\n",
       "    </tr>\n",
       "  </thead>\n",
       "  <tbody>\n",
       "    <tr>\n",
       "      <th>0</th>\n",
       "      <td>0</td>\n",
       "      <td>3.000000</td>\n",
       "      <td>0.199148</td>\n",
       "      <td>4.965052e-04</td>\n",
       "      <td>4.001001e+04</td>\n",
       "    </tr>\n",
       "    <tr>\n",
       "      <th>1</th>\n",
       "      <td>1</td>\n",
       "      <td>3.001668</td>\n",
       "      <td>0.198899</td>\n",
       "      <td>4.934131e-04</td>\n",
       "      <td>4.021090e+04</td>\n",
       "    </tr>\n",
       "    <tr>\n",
       "      <th>2</th>\n",
       "      <td>2</td>\n",
       "      <td>3.003336</td>\n",
       "      <td>0.198651</td>\n",
       "      <td>4.903402e-04</td>\n",
       "      <td>4.041280e+04</td>\n",
       "    </tr>\n",
       "    <tr>\n",
       "      <th>3</th>\n",
       "      <td>3</td>\n",
       "      <td>3.005004</td>\n",
       "      <td>0.198402</td>\n",
       "      <td>4.872853e-04</td>\n",
       "      <td>4.061580e+04</td>\n",
       "    </tr>\n",
       "    <tr>\n",
       "      <th>4</th>\n",
       "      <td>4</td>\n",
       "      <td>3.006672</td>\n",
       "      <td>0.198154</td>\n",
       "      <td>4.842505e-04</td>\n",
       "      <td>4.081971e+04</td>\n",
       "    </tr>\n",
       "    <tr>\n",
       "      <th>...</th>\n",
       "      <td>...</td>\n",
       "      <td>...</td>\n",
       "      <td>...</td>\n",
       "      <td>...</td>\n",
       "      <td>...</td>\n",
       "    </tr>\n",
       "    <tr>\n",
       "      <th>1195</th>\n",
       "      <td>1195</td>\n",
       "      <td>4.993328</td>\n",
       "      <td>0.040653</td>\n",
       "      <td>2.657829e-07</td>\n",
       "      <td>1.529549e+07</td>\n",
       "    </tr>\n",
       "    <tr>\n",
       "      <th>1196</th>\n",
       "      <td>1196</td>\n",
       "      <td>4.994996</td>\n",
       "      <td>0.040597</td>\n",
       "      <td>2.641056e-07</td>\n",
       "      <td>1.537125e+07</td>\n",
       "    </tr>\n",
       "    <tr>\n",
       "      <th>1197</th>\n",
       "      <td>1197</td>\n",
       "      <td>4.996664</td>\n",
       "      <td>0.040540</td>\n",
       "      <td>2.624375e-07</td>\n",
       "      <td>1.544747e+07</td>\n",
       "    </tr>\n",
       "    <tr>\n",
       "      <th>1198</th>\n",
       "      <td>1198</td>\n",
       "      <td>4.998332</td>\n",
       "      <td>0.040484</td>\n",
       "      <td>2.607816e-07</td>\n",
       "      <td>1.552397e+07</td>\n",
       "    </tr>\n",
       "    <tr>\n",
       "      <th>1199</th>\n",
       "      <td>1199</td>\n",
       "      <td>5.000000</td>\n",
       "      <td>0.040428</td>\n",
       "      <td>2.591355e-07</td>\n",
       "      <td>1.560088e+07</td>\n",
       "    </tr>\n",
       "  </tbody>\n",
       "</table>\n",
       "<p>1200 rows × 5 columns</p>\n",
       "</div>"
      ],
      "text/plain": [
       "      Unnamed: 0     theta  calulated_p          phat  Dicrepancy_percnt\n",
       "0              0  3.000000     0.199148  4.965052e-04       4.001001e+04\n",
       "1              1  3.001668     0.198899  4.934131e-04       4.021090e+04\n",
       "2              2  3.003336     0.198651  4.903402e-04       4.041280e+04\n",
       "3              3  3.005004     0.198402  4.872853e-04       4.061580e+04\n",
       "4              4  3.006672     0.198154  4.842505e-04       4.081971e+04\n",
       "...          ...       ...          ...           ...                ...\n",
       "1195        1195  4.993328     0.040653  2.657829e-07       1.529549e+07\n",
       "1196        1196  4.994996     0.040597  2.641056e-07       1.537125e+07\n",
       "1197        1197  4.996664     0.040540  2.624375e-07       1.544747e+07\n",
       "1198        1198  4.998332     0.040484  2.607816e-07       1.552397e+07\n",
       "1199        1199  5.000000     0.040428  2.591355e-07       1.560088e+07\n",
       "\n",
       "[1200 rows x 5 columns]"
      ]
     },
     "execution_count": 4,
     "metadata": {},
     "output_type": "execute_result"
    }
   ],
   "source": [
    "inference_df = pd.read_csv('data/results/inference_df.csv')\n",
    "inference_df"
   ]
  },
  {
   "cell_type": "code",
   "execution_count": 7,
   "id": "b3b906bd-c40e-475f-a701-a0a0da983cc7",
   "metadata": {},
   "outputs": [
    {
     "data": {
      "text/plain": [
       "<matplotlib.legend.Legend at 0x7f49be1c8b90>"
      ]
     },
     "execution_count": 7,
     "metadata": {},
     "output_type": "execute_result"
    },
    {
     "data": {
      "image/png": "[encoded data removed]",
      "text/plain": [
       "<Figure size 432x288 with 1 Axes>"
      ]
     },
     "metadata": {
      "needs_background": "light"
     },
     "output_type": "display_data"
    }
   ],
   "source": [
    "plt.scatter(inference_df.theta, inference_df.calulated_p, label='calculated p-value')\n",
    "# plt.scatter(inference_df.theta, inference_df.phat, label=r'$\\hat{p}$')\n",
    "plt.legend()"
   ]
  },
  {
   "cell_type": "code",
   "execution_count": 26,
   "id": "2ac80876-6d62-45b6-a101-ff1edb6b5b07",
   "metadata": {},
   "outputs": [
    {
     "data": {
      "text/plain": [
       "0.006891715075240962"
      ]
     },
     "execution_count": 26,
     "metadata": {},
     "output_type": "execute_result"
    }
   ],
   "source": [
    "np.sum([st.poisson.pmf(k=N, mu=theta) for N in range(1)])"
   ]
  },
  {
   "cell_type": "code",
   "execution_count": 28,
   "id": "46154966-003e-46f5-ad1e-a0094bdce644",
   "metadata": {},
   "outputs": [
    {
     "data": {
      "text/plain": [
       "0.04119478098583651"
      ]
     },
     "execution_count": 28,
     "metadata": {},
     "output_type": "execute_result"
    }
   ],
   "source": [
    "1-sp.special.gammainc(1+1, theta)"
   ]
  },
  {
   "cell_type": "code",
   "execution_count": 52,
   "id": "54f9fc3d-ac31-4278-9575-20ea62569cf5",
   "metadata": {},
   "outputs": [
    {
     "data": {
      "text/plain": [
       "Text(0, 0.5, 'calculated p-value')"
      ]
     },
     "execution_count": 52,
     "metadata": {},
     "output_type": "execute_result"
    },
    {
     "data": {
      "image/png": "[encoded data removed]",
      "text/plain": [
       "<Figure size 1440x504 with 2 Axes>"
      ]
     },
     "metadata": {
      "needs_background": "light"
     },
     "output_type": "display_data"
    }
   ],
   "source": [
    "fig, ax = plt.subplots(1,2,figsize=(20,7))\n",
    "data_df = pd.read_csv('data/UNIFORM_5K_CDFD_eq_3.csv')\n",
    "hist_counts, b = np.histogram(data_df.theta, density=True, weights=data_df.Z, bins=100)\n",
    "bin_centers = (b[1:]+b[:-1])/2\n",
    "calculated_p_value =[]\n",
    "D=3\n",
    "for theta in bin_centers:\n",
    "    # calculated_p_value.append((1-sp.special.gammainc(1+1, theta)))\n",
    "    p_cal=np.sum([st.poisson.pmf(k=N, mu=theta) for N in range(D)])\n",
    "    calculated_p_value.append(p_cal)\n",
    "ax[0].plot(bin_centers, hist_counts, label='data hist')\n",
    "\n",
    "ax[0].plot(bin_centers, calculated_p_value, label='calculated')\n",
    "ax[0].legend()\n",
    "ax[1].scatter(data_df.theta, (1-sp.special.gammainc(1+1, data_df.theta)))\n",
    "ax[1].set_xlabel(r'data $\\theta$'); ax[1].set_ylabel('calculated p-value')"
   ]
  },
  {
   "cell_type": "code",
   "execution_count": null,
   "id": "75b0dbd2-72f7-48e6-9e01-3497dfd8c821",
   "metadata": {},
   "outputs": [],
   "source": []
  }
 ],
 "metadata": {
  "kernelspec": {
   "display_name": "Python 3 (ipykernel)",
   "language": "python",
   "name": "python3"
  },
  "language_info": {
   "codemirror_mode": {
    "name": "ipython",
    "version": 3
   },
   "file_extension": ".py",
   "mimetype": "text/x-python",
   "name": "python",
   "nbconvert_exporter": "python",
   "pygments_lexer": "ipython3",
   "version": "3.7.7"
  }
 },
 "nbformat": 4,
 "nbformat_minor": 5
}
