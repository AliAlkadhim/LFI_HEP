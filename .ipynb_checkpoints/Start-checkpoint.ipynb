{
 "cells": [
  {
   "cell_type": "code",
   "execution_count": 66,
   "id": "0cb77096-2352-4a60-b6dc-0534d87ee583",
   "metadata": {},
   "outputs": [],
   "source": [
    "import numpy as np\n",
    "import scipy as sp\n",
    "import scipy.stats as st\n",
    "import torch\n",
    "from sklearn.preprocessing import StandardScaler\n",
    "from sklearn.model_selection import train_test_split\n",
    "import matplotlib as mp\n",
    "import matplotlib.pyplot as plt\n",
    "# force inline plots\n",
    "%matplotlib inline\n",
    "plt.style.use('seaborn-deep')\n",
    "import torch.nn as nn\n",
    "import copy"
   ]
  },
  {
   "cell_type": "markdown",
   "id": "6ff3b70d-895e-4b92-a8f9-0525383c863b",
   "metadata": {},
   "source": [
    "\n",
    "In particle physics, the most important experiment is a counting experiment, represented by a Poisson probability model, where $N$ is the observed count and $\\theta$ is a nuissance parameter, hence the probability model is $P(N|\\theta) = \\text{Poisson}(N,\\theta)$.\n",
    "where the most important parameter is the cross section $\\sigma$, which is related to the mean event count \n",
    "\n",
    "$$\\mu = \\sigma \\mathcal{L} +b$$\n",
    "\n",
    "(more fully it is $\\mu = \\varepsilon \\sigma \\mathcal{L} +b$ where $\\varepsilon = \\prod_i \\varepsilon_i$ is the product of all the efficiencies for the signal). Here the interesting parameter is only the cross section, whereas $\\mathcal{L}, \\ b$ are nuissance parameters. In a Bayesian context, one could eliminate the nuissance parameters by marginalization, i.e. by integrating the probability with respect to the nuissance parameters."
   ]
  },
  {
   "cell_type": "markdown",
   "id": "b4b4c213-561e-4581-8e0c-a0208b1881cc",
   "metadata": {},
   "source": [
    "$$ P(N, \\mathcal{L}, b| \\sigma, \\mathcal{L}_{truee}, b_{true}) =L(\\sigma, \\mathcal{L}_{truee}, b_{true})= \\frac{e^{-(\\sigma \\mathcal{L} +b)}(\\sigma \\mathcal{L} +b)^N}{N !} \\ Gamma(\\mathcal{L}_{true}) \\ Gamma(b_{true})$$\n",
    "\n",
    "Therefore we have 3 pieces of data:\n",
    "\n",
    "* Observed count $N$\n",
    "* the estimated luminosity\n",
    "* The estimated background\n",
    "\n",
    "We also have 3 parameters:\n",
    "* The cross section $\\sigma$\n",
    "* The true luminosity $\\mathcal{L}$\n",
    "* The true background $b$"
   ]
  },
  {
   "cell_type": "markdown",
   "id": "7c799654-f35c-4437-b6ee-025f1a6f2cbf",
   "metadata": {},
   "source": [
    "We want to construct a test to that the probability of making a type I error (rejecting the null hypothesis when it is true) is bounded, it cannot be larger than $\\alpha$. This is done by defining a critical region $R(D)$ where $D$ is the observed data, which is composed of all the values of $\\theta$ that are not rejected by the test $\\delta$\n",
    "\n",
    "$$ R(D) = \\{ \\theta_0 \\in \\Theta \\mid \\text{test } \\delta_{\\theta_o} \\text{ does not reject the null hypothesis} \\}$$"
   ]
  },
  {
   "cell_type": "code",
   "execution_count": null,
   "id": "30157296-6547-4f09-b5a9-6271be536326",
   "metadata": {},
   "outputs": [],
   "source": []
  },
  {
   "cell_type": "markdown",
   "id": "b2276c10-143d-4413-b9a1-3074a9ff559a",
   "metadata": {},
   "source": [
    "# Starting Simple: Using Algorithm 2 to calculate the $p$-value of a Poisson distribution.\n",
    "\n",
    "We start with the very simple likelihood \n",
    "$$L(\\theta) = \\frac{e^{-\\theta} \\theta^N}{N !}$$"
   ]
  },
  {
   "cell_type": "code",
   "execution_count": 21,
   "id": "188e5602-20c8-450b-9b82-c0fefce42c13",
   "metadata": {},
   "outputs": [
    {
     "name": "stdout",
     "output_type": "stream",
     "text": [
      "The size of B:  10000\n",
      "The observed signal signal D or N:  10\n",
      "The observed luminosity:  30\n"
     ]
    }
   ],
   "source": [
    "Bprime=10000\n",
    "D = 10\n",
    "L_obs=30 \n",
    "#b= mean background\n",
    "print('The size of B: ', Bprime)\n",
    "print('The observed signal signal D or N: ', D)\n",
    "print('The observed luminosity: ', L_obs)\n",
    "# print('The observed background'"
   ]
  },
  {
   "cell_type": "markdown",
   "id": "ef8020d4-7f06-4a2b-9283-1cbf24f62c0a",
   "metadata": {},
   "source": [
    "Note that $D$ is only a constant and appeard only in the calculation of the test statistic $\\lambda (D, \\theta_0)$\n",
    "\n",
    "Test statistic could be the likelihood ratio, which is the ratio of the likelihood to the profiled likelihood (likelihood computed at an MLE estimate of one of the parameters), or $t=-2log (this ratio)$"
   ]
  },
  {
   "cell_type": "markdown",
   "id": "430b3745-9243-468d-af1f-1fc81c2ec981",
   "metadata": {},
   "source": [
    "### Test statistic $\\lambda$\n",
    "\n",
    "We have several options for this statistic, such as the likelihood ratio, etc. as is shown by Ann Lee's paper. In our case we'd probably like to use the likelihood ratio"
   ]
  },
  {
   "cell_type": "code",
   "execution_count": 12,
   "id": "9a68fbb0-9452-4683-bed5-1aec416536f9",
   "metadata": {},
   "outputs": [],
   "source": [
    "def lambd(D, theta, thetahat=1):#test statistic\n",
    "    L_num = st.norm.pdf(D, loc= theta, scale=1)#the gaussian pdf of D counts\n",
    "    return L_num"
   ]
  },
  {
   "cell_type": "markdown",
   "id": "68dd5741-7b5c-4a6a-aef8-df00af5bd552",
   "metadata": {},
   "source": [
    "For our simple example we draw a single $X ~ F_{\\theta}$"
   ]
  },
  {
   "cell_type": "code",
   "execution_count": 13,
   "id": "7208fa75-3058-4dbe-8dac-b94f967ec2b0",
   "metadata": {},
   "outputs": [],
   "source": [
    "#T=[[theta_i],[Z_i]]\n",
    "T = [[],[]]\n",
    "for i in range(Bprime):\n",
    "    theta = round(np.random.normal(10))#draw a count theta from a radom poisson prior, it has to be count because its an input to a poisson. This prior should also be close to the cound D\n",
    "    X_mean = np.random.poisson(lam=theta) #draw count samples randomly from a poisson distribution\n",
    "    lam_true = lambd(D, theta)\n",
    "    lam_i = lambd(X_mean, theta)\n",
    "    if lam_i < lam_true:\n",
    "        Z_i=1\n",
    "    else:\n",
    "        Z_i=0\n",
    "    T[0].append(theta)\n",
    "    T[1].append(Z_i)"
   ]
  },
  {
   "cell_type": "markdown",
   "id": "a212c131-d472-4f11-aded-54c91ea8d7aa",
   "metadata": {},
   "source": [
    "$\\widehat{\\mathbb{E}}[Z \\mid \\theta] = \\frac{N_{Z=1}}{N_{Z, \\ total}}$"
   ]
  },
  {
   "cell_type": "code",
   "execution_count": 14,
   "id": "0a2e1b04-ef21-4606-b585-0f77fc81e481",
   "metadata": {},
   "outputs": [],
   "source": [
    "def E_hat(T):\n",
    "    \"\"\"The expectation value of Z as a relative frequency, this should equal p_hat, the learned parameterized distribution at a given theta\"\"\"\n",
    "    num = np.array(T[1]).sum()\n",
    "    den = Bprime\n",
    "    return num/den"
   ]
  },
  {
   "cell_type": "code",
   "execution_count": 15,
   "id": "cf839d13-1674-475f-8150-728159f0e7b0",
   "metadata": {},
   "outputs": [
    {
     "data": {
      "text/plain": [
       "0.6959"
      ]
     },
     "execution_count": 15,
     "metadata": {},
     "output_type": "execute_result"
    }
   ],
   "source": [
    "E_hat(T)"
   ]
  },
  {
   "cell_type": "markdown",
   "id": "89fe930c-958a-47e1-a374-d0c00181e809",
   "metadata": {},
   "source": [
    "The actual p-value is $p = \\int P(N|\\theta) d\\theta$ or in our case $p=\\sum_{k=D}^{\\infty} \\text{Poisson}(k|\\theta) = scipy.special.gammainc(D, \\theta)$"
   ]
  },
  {
   "cell_type": "code",
   "execution_count": 16,
   "id": "965af919-e478-490e-bf34-7108bbcee516",
   "metadata": {},
   "outputs": [],
   "source": [
    "def p_calculated(theta):\n",
    "    return sp.special.gammainc(D, theta)"
   ]
  },
  {
   "cell_type": "code",
   "execution_count": 23,
   "id": "5fb3ddd4-55e1-4652-baa9-6a95aa4b609c",
   "metadata": {},
   "outputs": [
    {
     "data": {
      "text/plain": [
       "0.6594893575343392"
      ]
     },
     "execution_count": 23,
     "metadata": {},
     "output_type": "execute_result"
    }
   ],
   "source": [
    "p = p_calculated(theta = round(np.random.normal(10))); p"
   ]
  },
  {
   "cell_type": "code",
   "execution_count": 18,
   "id": "0e97f2f4-04af-44f4-8ead-67be9b9c5007",
   "metadata": {},
   "outputs": [
    {
     "data": {
      "text/plain": [
       "11.185435114067817"
      ]
     },
     "execution_count": 18,
     "metadata": {},
     "output_type": "execute_result"
    }
   ],
   "source": [
    "np.random.gamma(5)"
   ]
  },
  {
   "cell_type": "markdown",
   "id": "b6ce52de-413c-4208-8903-5fc6a5e4b1ce",
   "metadata": {},
   "source": [
    "train_dataset[0]Now that we've built up the dataset, we now need to learn the function $\\hat{p}(D;\\theta)=\\hat{p}(\\theta)$ which is the output of a machine learning regression model, where the training data are $\\vec{\\theta}, \\vec{Z}$ so that the target is $Z$ and the (input) features is $\\theta$, so that the NN model's only parameter is $\\theta$, not $D$ because it's just a fixed constant.\n",
    "## Pytorch Regression Model"
   ]
  },
  {
   "cell_type": "code",
   "execution_count": 27,
   "id": "868640c3-37f4-4f51-af06-1896aee55c74",
   "metadata": {},
   "outputs": [],
   "source": [
    "data, targets = np.array(T[0]), np.array(T[1])"
   ]
  },
  {
   "cell_type": "code",
   "execution_count": 33,
   "id": "6bad899b-b6c6-4408-8c53-f1531cfeb88f",
   "metadata": {},
   "outputs": [
    {
     "name": "stdout",
     "output_type": "stream",
     "text": [
      "[[0]\n",
      " [1]\n",
      " [0]\n",
      " ...\n",
      " [0]\n",
      " [1]\n",
      " [0]] [[10]\n",
      " [ 9]\n",
      " [ 8]\n",
      " ...\n",
      " [12]\n",
      " [11]\n",
      " [ 9]]\n"
     ]
    }
   ],
   "source": [
    "ntargets = 1\n",
    "from sklearn.model_selection import train_test_split\n",
    "train_data, test_data, train_targets, test_targets = train_test_split(data, \n",
    "                                                                      targets, \n",
    "                                                                      stratify=targets)\n",
    "#Reshape the targets to have shape (something, 1)\n",
    "train_targets = train_targets.reshape(-1,1)\n",
    "test_targets = test_targets.reshape(-1,1)\n",
    "train_data = train_data.reshape(-1,1)\n",
    "test_data = test_data.reshape(-1,1)\n",
    "print(test_targets, test_data)"
   ]
  },
  {
   "cell_type": "code",
   "execution_count": 34,
   "id": "727bdcae-7659-4d8f-89b5-4ac654a26dc3",
   "metadata": {},
   "outputs": [
    {
     "data": {
      "text/plain": [
       "(2.0368891758456205e-16, 1.0)"
      ]
     },
     "execution_count": 34,
     "metadata": {},
     "output_type": "execute_result"
    }
   ],
   "source": [
    "sc = StandardScaler()#this is always recommended for logistic regression\n",
    "train_data= sc.fit_transform(train_data)\n",
    "test_data = sc.transform(test_data)\n",
    "train_data.mean(), (train_data.std())**2#check to make sure mean=0, std=1"
   ]
  },
  {
   "cell_type": "code",
   "execution_count": 59,
   "id": "e61d6cc3-3580-4d96-8dad-2d4044b11067",
   "metadata": {},
   "outputs": [
    {
     "data": {
      "text/plain": [
       "'This takes the index for the data and target and gives dictionary of tensors of data and targets.\\n    For example we could do train_dataset = CustomDataset(train_data, train_targets); test_dataset = CustomDataset(test_data, test_targets)\\n where train and test_dataset are np array that are reshaped to (-1,1)'"
      ]
     },
     "execution_count": 59,
     "metadata": {},
     "output_type": "execute_result"
    }
   ],
   "source": [
    "import mymodels #this library can be found at https://github.com/AliAlkadhim/MyMLFramework/blob/main/mymodels.py\n",
    "mymodels.CustomDataset.__doc__"
   ]
  },
  {
   "cell_type": "code",
   "execution_count": 38,
   "id": "cad3da38-6e59-4062-bf98-9914afb32d5e",
   "metadata": {},
   "outputs": [
    {
     "data": {
      "text/plain": [
       "{'x': tensor([0.9755]), 'y': tensor([1.])}"
      ]
     },
     "execution_count": 38,
     "metadata": {},
     "output_type": "execute_result"
    }
   ],
   "source": [
    "from mymodels import CustomDataset\n",
    "train_dataset = CustomDataset(train_data, train_targets)\n",
    "test_dataset = CustomDataset(test_data, test_targets)\n",
    "train_dataset[0]"
   ]
  },
  {
   "cell_type": "code",
   "execution_count": 39,
   "id": "3af9efe5-0ca6-4383-a890-cf9ea891a2d9",
   "metadata": {},
   "outputs": [],
   "source": [
    "\n",
    "train_loader = torch.utils.data.DataLoader(train_dataset, \n",
    "                                           batch_size=10, \n",
    "                                           num_workers=2, \n",
    "                                           shuffle=True)\n",
    "\n",
    "test_loader = torch.utils.data.DataLoader(test_dataset, \n",
    "                                          batch_size=10, num_workers=2)"
   ]
  },
  {
   "cell_type": "markdown",
   "id": "d02531fe-3ba4-4425-a2ac-7c70ed5bb01c",
   "metadata": {},
   "source": [
    "Compare with Directly computing the $p$-value for the Poisson distribution $PoisS(D|\\lambda=\\theta_0)$. So say we use counts $D=0....20$, then we have 20 jobs running in parallel, each working on a different value of $D$. It might be worth generalizing it so that the model is a parameterized function of both $\\theta$ and $D$.\n",
    "\n",
    "For our case, the goal is to generalize step 3, where we have 3 parameters as opposed to 1, $\\theta =\\{\\sigma, \\mathcal{L}, b \\}$ so that we'd have priors for each of these parameters, so at the end, at a fixed $D$, we'd have the output being the p-value being a function of all 3 $\\hat{p}(D; \\sigma, \\mathcal{L}, b)$. Then we can use section 3.4 to construct the confidence interval for the cross section that properly takes into account the two nuissance parameters $\\mathcal{L}, b$"
   ]
  },
  {
   "cell_type": "code",
   "execution_count": 51,
   "id": "2d9ce303-2b53-475b-9baf-0a5b8e665d9f",
   "metadata": {},
   "outputs": [],
   "source": [
    "# from mymodels import RegressionModel\n",
    "class RegressionModel(nn.Module):\n",
    "    def __init__(self, nfeatures, ntargets, nlayers, hidden_size, dropout):\n",
    "        super().__init__()\n",
    "        layers = []\n",
    "        for _ in range(nlayers):\n",
    "            if len(layers) ==0:\n",
    "                #inital layer has to have size of input features as its input layer\n",
    "                #its output layer can have any size but it must match the size of the input layer of the next linear layer\n",
    "                #here we choose its output layer as the hidden size (fully connected)\n",
    "                layers.append(nn.Linear(nfeatures, hidden_size))\n",
    "                #batch normalization\n",
    "                layers.append(nn.BatchNorm1d(hidden_size))\n",
    "                layers.append(nn.Dropout(dropout))\n",
    "                #ReLU activation \n",
    "                layers.append(nn.ReLU())\n",
    "            else:\n",
    "                #if this is not the first layer (we dont have layers)\n",
    "                layers.append(nn.Linear(hidden_size, hidden_size))\n",
    "                layers.append(nn.BatchNorm1d(hidden_size))\n",
    "                layers.append(nn.Dropout(dropout))\n",
    "                layers.append(nn.ReLU())\n",
    "                #output layer:\n",
    "        layers.append(nn.Linear(hidden_size, ntargets)) \n",
    "        \n",
    "        layers.append(nn.Sigmoid())\n",
    "            #we have defined sequential model using the layers in oulist \n",
    "        self.model = nn.Sequential(*layers)\n",
    "            \n",
    "    \n",
    "    def forward(self, x):\n",
    "        return self.model(x)"
   ]
  },
  {
   "cell_type": "code",
   "execution_count": 52,
   "id": "8de18693-6e71-418e-aa75-a9d896e26853",
   "metadata": {},
   "outputs": [
    {
     "name": "stdout",
     "output_type": "stream",
     "text": [
      "RegressionModel(\n",
      "  (model): Sequential(\n",
      "    (0): Linear(in_features=1, out_features=128, bias=True)\n",
      "    (1): BatchNorm1d(128, eps=1e-05, momentum=0.1, affine=True, track_running_stats=True)\n",
      "    (2): Dropout(p=0.3, inplace=False)\n",
      "    (3): ReLU()\n",
      "    (4): Linear(in_features=128, out_features=128, bias=True)\n",
      "    (5): BatchNorm1d(128, eps=1e-05, momentum=0.1, affine=True, track_running_stats=True)\n",
      "    (6): Dropout(p=0.3, inplace=False)\n",
      "    (7): ReLU()\n",
      "    (8): Linear(in_features=128, out_features=128, bias=True)\n",
      "    (9): BatchNorm1d(128, eps=1e-05, momentum=0.1, affine=True, track_running_stats=True)\n",
      "    (10): Dropout(p=0.3, inplace=False)\n",
      "    (11): ReLU()\n",
      "    (12): Linear(in_features=128, out_features=128, bias=True)\n",
      "    (13): BatchNorm1d(128, eps=1e-05, momentum=0.1, affine=True, track_running_stats=True)\n",
      "    (14): Dropout(p=0.3, inplace=False)\n",
      "    (15): ReLU()\n",
      "    (16): Linear(in_features=128, out_features=128, bias=True)\n",
      "    (17): BatchNorm1d(128, eps=1e-05, momentum=0.1, affine=True, track_running_stats=True)\n",
      "    (18): Dropout(p=0.3, inplace=False)\n",
      "    (19): ReLU()\n",
      "    (20): Linear(in_features=128, out_features=1, bias=True)\n",
      "    (21): Sigmoid()\n",
      "  )\n",
      ")\n"
     ]
    }
   ],
   "source": [
    "model =  RegressionModel(nfeatures=train_data.shape[1], \n",
    "               ntargets=1,\n",
    "               nlayers=5, \n",
    "               hidden_size=128, \n",
    "               dropout=0.3)\n",
    "print(model)"
   ]
  },
  {
   "cell_type": "code",
   "execution_count": 62,
   "id": "f3c5fbca-f306-42ba-874b-5615d1e3e439",
   "metadata": {},
   "outputs": [],
   "source": [
    "class RegressionEngine:\n",
    "    \"\"\"loss, training and evaluation\"\"\"\n",
    "    def __init__(self, model, optimizer):\n",
    "                 #, device):\n",
    "        self.model = model\n",
    "        #self.device= device\n",
    "        self.optimizer = optimizer\n",
    "        \n",
    "    #the loss function returns the loss function. It is a static method so it doesn't need self\n",
    "    @staticmethod\n",
    "    def loss_fun(targets, outputs):\n",
    "         return nn.MSELoss()(outputs, targets)\n",
    "\n",
    "\n",
    "    def train(self, data_loader):\n",
    "        \"\"\"the training function: takes the training dataloader\"\"\"\n",
    "        self.model.train()\n",
    "        final_loss = 0\n",
    "        for data in data_loader:\n",
    "            self.optimizer.zero_grad()\n",
    "            inputs = data[\"x\"]#.to(self.device)\n",
    "            targets = data[\"y\"]#.to(self.device)\n",
    "            outputs = self.model(inputs)\n",
    "            loss = self.loss_fun(targets, outputs)\n",
    "            loss.backward()\n",
    "            self.optimizer.step()\n",
    "            final_loss += loss.item()\n",
    "            return final_loss / len(data_loader)\n",
    "\n",
    "    \n",
    "    def evaluate(self, data_loader):\n",
    "        \"\"\"the training function: takes the training dataloader\"\"\"\n",
    "        self.model.eval()\n",
    "        final_loss = 0\n",
    "        for data in data_loader:\n",
    "            inputs = data[\"x\"]#.to(self.device)\n",
    "            targets = data[\"y\"]#.to(self.device)\n",
    "            outputs = self.model(inputs)\n",
    "            loss = self.loss_fun(targets, outputs)\n",
    "            final_loss += loss.item()\n",
    "            return outputs\n",
    "            #return final_loss / len(data_loader)"
   ]
  },
  {
   "cell_type": "code",
   "execution_count": 63,
   "id": "0bc2639f-6e67-47d6-9d6f-c5c2ef552ba2",
   "metadata": {},
   "outputs": [],
   "source": [
    "optimizer = torch.optim.Adam(model.parameters(), lr = 0.001)\n",
    "eng = RegressionEngine(model=model, optimizer = optimizer)\n",
    "best_loss = np.inf\n",
    "early_stopping_iter = 10\n",
    "early_stopping_counter = 0\n",
    "EPOCHS=22"
   ]
  },
  {
   "cell_type": "code",
   "execution_count": 64,
   "id": "c3c8e579-b7d5-454c-bdd4-17fff48597c4",
   "metadata": {},
   "outputs": [
    {
     "name": "stdout",
     "output_type": "stream",
     "text": [
      "Epoch : 0         , Training Loss: 0.000408847, Test Loss: 0.00105222\n",
      "Epoch : 1         , Training Loss: 0.00028409, Test Loss: 0.000915958\n",
      "Epoch : 2         , Training Loss: 0.000286773, Test Loss: 0.000869398\n",
      "Epoch : 3         , Training Loss: 0.000402892, Test Loss: 0.00144139\n",
      "Epoch : 4         , Training Loss: 0.000307841, Test Loss: 0.000986041\n",
      "Epoch : 5         , Training Loss: 0.00034197, Test Loss: 0.00076567\n",
      "Epoch : 6         , Training Loss: 0.000310439, Test Loss: 0.000989265\n",
      "Epoch : 7         , Training Loss: 0.000297197, Test Loss: 0.000813849\n",
      "Epoch : 8         , Training Loss: 0.000384276, Test Loss: 0.00094127\n",
      "Epoch : 9         , Training Loss: 0.000251631, Test Loss: 0.000587939\n",
      "Epoch : 10        , Training Loss: 0.000477164, Test Loss: 0.000555949\n",
      "Epoch : 11        , Training Loss: 0.000343835, Test Loss: 0.000746557\n",
      "Epoch : 12        , Training Loss: 0.000372936, Test Loss: 0.000922841\n",
      "Epoch : 13        , Training Loss: 0.000325631, Test Loss: 0.000758718\n",
      "Epoch : 14        , Training Loss: 0.000376629, Test Loss: 0.000659325\n",
      "Epoch : 15        , Training Loss: 0.000289744, Test Loss: 0.000861  \n",
      "Epoch : 16        , Training Loss: 0.000258172, Test Loss: 0.000649499\n"
     ]
    }
   ],
   "source": [
    "for epoch in range(EPOCHS):\n",
    "    train_loss = eng.train(train_loader)\n",
    "    test_loss = eng.train(test_loader)\n",
    "    print(\"Epoch : %-10g, Training Loss: %-10g, Test Loss: %-10g\" % (epoch, train_loss, test_loss))\n",
    "    #print(f\"{epoch}, {train_loss}, {test_loss}\")\n",
    "    if test_loss < best_loss:\n",
    "        best_loss = test_loss\n",
    "        \n",
    "    else:\n",
    "        early_stopping_counter += 1\n",
    "    \n",
    "    if early_stopping_counter > early_stopping_iter:\n",
    "        #if we are not improving for 10 iterations then break the loop\n",
    "        #we could save best model here\n",
    "        break"
   ]
  },
  {
   "cell_type": "code",
   "execution_count": 68,
   "id": "3fc537f3-02e9-4e0c-9cbc-5fca8d0d2d4c",
   "metadata": {},
   "outputs": [
    {
     "data": {
      "text/plain": [
       "[tensor([[0.5863],\n",
       "         [0.3795],\n",
       "         [0.2159],\n",
       "         [0.3967],\n",
       "         [0.7747],\n",
       "         [0.7936],\n",
       "         [0.6855],\n",
       "         [0.7426],\n",
       "         [0.3960],\n",
       "         [0.7034]]),\n",
       " tensor([[0.5861],\n",
       "         [0.8277],\n",
       "         [0.7988],\n",
       "         [0.6008],\n",
       "         [0.8735],\n",
       "         [0.4286],\n",
       "         [0.6666],\n",
       "         [0.6455],\n",
       "         [0.6496],\n",
       "         [0.0751]])]"
      ]
     },
     "execution_count": 68,
     "metadata": {},
     "output_type": "execute_result"
    }
   ],
   "source": [
    "outputs = []\n",
    "labels = []\n",
    "accuracies = []\n",
    "\n",
    "#evaluate\n",
    "with torch.no_grad():\n",
    "    for data in test_loader:\n",
    "        data_cp = copy.deepcopy(data)\n",
    "        \n",
    "        xtest = data_cp[\"x\"]\n",
    "        ytest = data_cp[\"y\"]\n",
    "        output = model(xtest)\n",
    "        labels.append(ytest)\n",
    "        outputs.append(output)\n",
    "        \n",
    "        y_predicted_cls = output.round()\n",
    "        acc = y_predicted_cls.eq(ytest).sum() / float(ytest.shape[0])#bumber of correct predictions/sizeofytest\n",
    "        #accuracies.append(acc.numpy())\n",
    "        #print(f'accuracy: {acc.item():.4f}')\n",
    "        \n",
    "        del data_cp\n",
    "\n",
    "#     acc = y_predicted_cls.eq(ytest).sum() / float(ytest.shape[0])\n",
    "#     print(f'accuracy: {acc.item():.4f}')\n",
    "outputs[0:2]"
   ]
  },
  {
   "cell_type": "code",
   "execution_count": 70,
   "id": "129f98e0-2280-4e18-ab29-336489821710",
   "metadata": {},
   "outputs": [
    {
     "name": "stdout",
     "output_type": "stream",
     "text": [
      "[0.58625966 0.3795342  0.21585454 ... 0.85125905 0.8080859  0.63989043] [0. 1. 0. ... 0. 1. 0.]\n"
     ]
    },
    {
     "data": {
      "image/png": "[encoded data removed]",
      "text/plain": [
       "<Figure size 432x432 with 1 Axes>"
      ]
     },
     "metadata": {
      "needs_background": "light"
     },
     "output_type": "display_data"
    }
   ],
   "source": [
    "OUTPUTS = torch.cat(outputs).view(-1).numpy()\n",
    "\n",
    "LABELS = torch.cat(labels).view(-1).numpy()\n",
    "print(OUTPUTS, LABELS)\n",
    "plt.rcParams[\"figure.figsize\"] = (6,6)\n",
    "plt.hist(OUTPUTS, bins=50, density=True, label = \"Outputs $\\hat{y}$\")\n",
    "plt.hist(LABELS, bins=50,density=True, label = \"Labels $y$\")\n",
    "plt.legend()\n",
    "plt.show()"
   ]
  },
  {
   "cell_type": "code",
   "execution_count": 72,
   "id": "c9db500b-a11e-4eac-be17-92706d8e6163",
   "metadata": {},
   "outputs": [
    {
     "name": "stdout",
     "output_type": "stream",
     "text": [
      "[0.73431224 0.44496882 0.18356903 ... 0.70291984 0.65752524 0.44496882]\n"
     ]
    },
    {
     "data": {
      "text/plain": [
       "<matplotlib.legend.Legend at 0x7fda582bf490>"
      ]
     },
     "execution_count": 72,
     "metadata": {},
     "output_type": "execute_result"
    },
    {
     "data": {
      "image/png": "[encoded data removed]",
      "text/plain": [
       "<Figure size 432x432 with 1 Axes>"
      ]
     },
     "metadata": {
      "needs_background": "light"
     },
     "output_type": "display_data"
    }
   ],
   "source": [
    "def compute_prob(model, xx):\n",
    "    # convert from numpy array to a torch tensor of type float\n",
    "    \"\"\"Gives P(y=1|x)\"\"\"\n",
    "    x = torch.from_numpy(xx).float()#.to(device)\n",
    "\n",
    "    # compute p(1|x)\n",
    "    model.eval() # evaluation mode\n",
    "    p = model(x)#.to(device)\n",
    "\n",
    "    # squeeze() removes extraneous dimensions\n",
    "    p = p.squeeze()\n",
    "\n",
    "    # detach().numpy() converts back to a numpy array\n",
    "    p = p.detach().cpu().numpy()\n",
    "    return p\n",
    "p = compute_prob(model, test_data)\n",
    "print(p)\n",
    "plt.hist(p[p>0.5], bins=50, color='g',\n",
    "            histtype='stepfilled',\n",
    "            alpha=0.3,label = '$t = 1$')\n",
    "plt.hist(p[p<0.5], bins=50, color='r',\n",
    "            histtype='stepfilled',\n",
    "            alpha=0.3,label = '$t = 0$')\n",
    "plt.xlabel('$p(y=1|x)$', fontsize=13)\n",
    "plt.legend()"
   ]
  },
  {
   "cell_type": "code",
   "execution_count": null,
   "id": "4b52abc0-cb90-44a4-8ebc-d5ea084a41d1",
   "metadata": {},
   "outputs": [],
   "source": [
    "def Algorithm2(D=2, theta_0):\n",
    "    \n",
    "    \n",
    "    \n",
    "    return actual_p_value, regressed_p_value"
   ]
  }
 ],
 "metadata": {
  "kernelspec": {
   "display_name": "Python 3 (ipykernel)",
   "language": "python",
   "name": "python3"
  },
  "language_info": {
   "codemirror_mode": {
    "name": "ipython",
    "version": 3
   },
   "file_extension": ".py",
   "mimetype": "text/x-python",
   "name": "python",
   "nbconvert_exporter": "python",
   "pygments_lexer": "ipython3",
   "version": "3.7.7"
  }
 },
 "nbformat": 4,
 "nbformat_minor": 5
}
