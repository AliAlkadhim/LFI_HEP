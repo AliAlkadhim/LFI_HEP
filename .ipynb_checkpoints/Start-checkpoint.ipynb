{
 "cells": [
  {
   "cell_type": "code",
   "execution_count": 1,
   "id": "0cb77096-2352-4a60-b6dc-0534d87ee583",
   "metadata": {},
   "outputs": [],
   "source": [
    "import numpy as np\n",
    "import scipy.stats as st"
   ]
  },
  {
   "cell_type": "markdown",
   "id": "b4b4c213-561e-4581-8e0c-a0208b1881cc",
   "metadata": {},
   "source": [
    "$$ L(N, \\mathcal{L}, b| \\sigma, \\mathcal{L}_{truee}, b_{true}) = \\frac{e^{-(\\sigma \\mathcal{L} +b)}(\\sigma \\mathcal{L} +b)^N}{N !} \\ Gamma(\\mathcal{L}_{true}) \\ Gamma(b_{true})$$"
   ]
  },
  {
   "cell_type": "code",
   "execution_count": 43,
   "id": "188e5602-20c8-450b-9b82-c0fefce42c13",
   "metadata": {},
   "outputs": [
    {
     "name": "stdout",
     "output_type": "stream",
     "text": [
      "The size of $B'$:  10000\n",
      "The observed signal signal $D$ or $N$:  10\n",
      "The observed luminosity:  30\n"
     ]
    }
   ],
   "source": [
    "Bprime=10000\n",
    "D = 10\n",
    "L_obs=30 \n",
    "print('The size of $B\\'$: ', Bprime)\n",
    "print('The observed signal signal $D$ or $N$: ', D)\n",
    "print('The observed luminosity: ', L_obs)\n",
    "# print('The observed background'"
   ]
  },
  {
   "cell_type": "markdown",
   "id": "ef8020d4-7f06-4a2b-9283-1cbf24f62c0a",
   "metadata": {},
   "source": [
    "Note that $D$ is only a constant and appeard only in the calculation of the test statistic $\\lambda (D, \\theta_0)$"
   ]
  },
  {
   "cell_type": "code",
   "execution_count": null,
   "id": "bddd8256-5689-459c-b577-8d2b86a3ea2b",
   "metadata": {},
   "outputs": [],
   "source": []
  },
  {
   "cell_type": "code",
   "execution_count": 44,
   "id": "9a68fbb0-9452-4683-bed5-1aec416536f9",
   "metadata": {},
   "outputs": [],
   "source": [
    "def lambd(D, theta, thetahat=1):#test statistic\n",
    "    L_num = st.norm.pdf(D, loc= theta, scale=1)#the gaussian pdf of D counts\n",
    "    return L_num"
   ]
  },
  {
   "cell_type": "code",
   "execution_count": 45,
   "id": "7208fa75-3058-4dbe-8dac-b94f967ec2b0",
   "metadata": {},
   "outputs": [],
   "source": [
    "#T=[[theta_i],[Z_i]]\n",
    "T = [[],[]]\n",
    "for i in range(Bprime):\n",
    "    theta = np.random.poisson(500)#draw a count theta from a radom poisson prior, it has to be count because its an input to a poisson\n",
    "    X_mean = np.random.poisson(lam=theta) #draw count samples randomly from a poisson distribution\n",
    "    lam_true = lambd(D, theta)\n",
    "    lam_i = lambd(X_mean, theta)\n",
    "    if lam_i < lam_true:\n",
    "        Z_i=1\n",
    "    else:\n",
    "        Z_i=0\n",
    "    T[0].append(theta)\n",
    "    T[1].append(Z_i)"
   ]
  },
  {
   "cell_type": "code",
   "execution_count": 49,
   "id": "0a2e1b04-ef21-4606-b585-0f77fc81e481",
   "metadata": {},
   "outputs": [
    {
     "data": {
      "text/plain": [
       "0"
      ]
     },
     "execution_count": 49,
     "metadata": {},
     "output_type": "execute_result"
    }
   ],
   "source": [
    "np.array(T[1]).sum()"
   ]
  },
  {
   "cell_type": "code",
   "execution_count": 39,
   "id": "00486166-ac04-4e7c-b652-25d8d6c01c54",
   "metadata": {},
   "outputs": [
    {
     "data": {
      "text/plain": [
       "492"
      ]
     },
     "execution_count": 39,
     "metadata": {},
     "output_type": "execute_result"
    }
   ],
   "source": [
    "np.random.poisson(lam=500)"
   ]
  },
  {
   "cell_type": "code",
   "execution_count": 36,
   "id": "0e97f2f4-04af-44f4-8ead-67be9b9c5007",
   "metadata": {},
   "outputs": [
    {
     "data": {
      "text/plain": [
       "2.7332109015434845"
      ]
     },
     "execution_count": 36,
     "metadata": {},
     "output_type": "execute_result"
    }
   ],
   "source": [
    "np.random.gamma(5)"
   ]
  },
  {
   "cell_type": "markdown",
   "id": "b6ce52de-413c-4208-8903-5fc6a5e4b1ce",
   "metadata": {},
   "source": [
    "Now that we've built up the dataset, we now need to learn the function $\\hat{p}(D;\\theta)=\\hat{p}(\\theta)$ which is the output of a machine learning regression model, where the training data are $\\vec{\\theta}, \\vec{Z}$ so that the target is $Z$ and the features is $\\theta$, so that the NN model's only parameter is $\\theta$, not $D$ because it's just a constant."
   ]
  },
  {
   "cell_type": "markdown",
   "id": "d02531fe-3ba4-4425-a2ac-7c70ed5bb01c",
   "metadata": {},
   "source": [
    "Compare with Directly computing the $p$-value for the Poisson distribution $PoisS(D|\\lambda=\\theta_0)$. So say we use counts $D=0....20$, then we have 20 jobs running in parallel, each working on a different value of $D$. It might be worth generalizing it so that the model is a parameterized function of bt"
   ]
  },
  {
   "cell_type": "code",
   "execution_count": null,
   "id": "76e5cd4c-9693-4d4d-b4e2-37cc7140066f",
   "metadata": {},
   "outputs": [],
   "source": []
  }
 ],
 "metadata": {
  "kernelspec": {
   "display_name": "Python 3 (ipykernel)",
   "language": "python",
   "name": "python3"
  },
  "language_info": {
   "codemirror_mode": {
    "name": "ipython",
    "version": 3
   },
   "file_extension": ".py",
   "mimetype": "text/x-python",
   "name": "python",
   "nbconvert_exporter": "python",
   "pygments_lexer": "ipython3",
   "version": "3.7.7"
  }
 },
 "nbformat": 4,
 "nbformat_minor": 5
}
