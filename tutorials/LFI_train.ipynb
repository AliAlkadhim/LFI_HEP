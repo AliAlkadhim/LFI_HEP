{
 "cells": [
  {
   "cell_type": "markdown",
   "metadata": {
    "id": "40Yb47zJQglm",
    "tags": []
   },
   "source": [
    "# Likelihood-Free Inference - Model Training\n",
    "\n",
    "Ali Al Kadhim and Harrison B. Prosper<br>\n",
    "Department of Physics, Florida State University<br>\n",
    "Date: 22 April 2022\n",
    "\n",
    "## Introduction\n",
    "\n",
    "The jargon likelihood-free inference (LFI) is somewhat unfortunate. For any Monte Carlo-based simulation there is clearly an underlying probability model from which we are implicitly sampling. \n",
    "The likelihood, that is, the probability model after data have been entered into it exists in the same sense that $\\pi$ exists. While it is impossible to write down all of the digits of $\\pi$, these digits exist nevertheless! Likewise the likelihood, though typically intractable, exists also.\n",
    "\n",
    "A better name, perhaps, for this inference approach is __Simulation-Based Inference (SBI)__, which better expresses the idea that one makes inferences directly from accurate simulations of the data generation mechanism without the need for explicit knowledge of the likelihood. The key idea is that the ensemble of simulations constitute a point-cloud approximation to the probability model. \n",
    "\n",
    "LFI focuses directly on the statistical quantities that are of direct interest such as p-values and confidence intervals in a frequentist setting or summaries of posterior densities such as the first few moments or its quantiles. The key insight (see, for example, Ann Lee et al. [1]) is that it is generally easier to compute integrals of densities than the densities themselves.\n",
    "\n",
    "In this project, we use a classic problem in statistics to investigate different ways of accounting for nuisance parameters inspired by the paper cited above.\n",
    "\n",
    "## The Poisson Problem: A Single Count\n",
    "\n",
    "Computing confidence intervals with exact coverage for the parameter $\\theta$ of the Poisson distribution\n",
    "\n",
    "\\begin{align}\n",
    "\\textrm{Poisson}(n, \\theta) & = \\frac{e^{-\\theta} \\theta^n}{n!}, \n",
    "\\end{align}\n",
    "\n",
    "is a classic problem in statistics. Exact coverage means that the following is true\n",
    "\n",
    "\\begin{align}\n",
    "    P\\{ \\theta \\in [ \\, \\underline{\\theta}(n), \\, \\overline{\\theta}(n) \\, ] \\, \\} \\geq 1 - \\alpha, \\forall \\, \\theta\n",
    "\\end{align}\n",
    "\n",
    "where $P$ is the __coverage probability__, $1 - \\alpha$ the confidence level (CL), and $\\alpha$ is the size of the associated hypothesis test. The quantity $[ \\, \\underline{\\theta}(n), \\, \\overline{\\theta}(n) \\, ]$ is a *random* interval. The statement above means that in an infinite ensemble of experiments, each of which may be associated with a different *fixed* value of the parameter $\\theta$, the fraction of intervals that include $\\theta$, that is, that *cover* $\\theta$, is bounded below by the confidence level (CL). Moreover, this holds true irrespective of the distribution of $\\theta$ values over the ensemble of experiments. \n",
    "\n",
    "Jerzy Neyman[2], the inventor of confidence intervals, required coverage probabilities to be bounded from below by the confidence level whatever the true values of *all* the parameters of the problem. In general, however, it is difficult to create random intervals with this property for multi-parameter problems. But for 1-parameter problems confidence intervals with exact coverage can be constructed. In his 1937 paper[2], Neyman provided a simple algorithm to compute such intervals, which in this tutorial we illustrate by applying it to the Poisson distribution.\n",
    "\n",
    "### Algorithm\n",
    "Define the *right* and *left* cumulative distribution functions of the Poisson distribution,\n",
    " \\begin{align}\n",
    "      D_R(D, \\theta) & = \\sum_{k=D}^\\infty \\textrm{Poisson}(k, \\theta) = P(D, \\theta),\\\\\n",
    "      \\textrm{and   } D_L(D, \\theta) & = \\sum_{k=0}^D \\textrm{Poisson}(k, \\theta) = 1 - P(D+1, \\theta).\n",
    " \\end{align}\n",
    "The function $P(s, \\theta)$ is the *normalized* lower incomplete gamma function[3], $P(\\alpha, x)=\\int_{0}^{x} t^{\\alpha-1} \\exp (-t) d t / \\Gamma(\\alpha)$.\n",
    "We use the function $D_L$ to compute __upper limits__ and $D_R$ to compute __lower limits__ by solving the equations\n",
    "\\begin{align}\n",
    "    D_R(D, \\underline{\\theta}) & = \\alpha_R,\\\\\n",
    "    D_L(D, \\overline{\\theta}) & =  \\alpha_L,\n",
    "\\end{align}\n",
    "\n",
    "where $\\text{CL} + \\alpha_R + \\alpha_L = 1$. Clearly there are infinitely many ensembles of exact condidence intervals that can be computed for any 1-parameter distribution. It is, therefore, a matter of convention which one is reported. Very often, the following convention is used: one sets $\\alpha_R = \\alpha_L = (1 - \\text{CL})/2$ to arrive at __central intervals__.\n",
    "\n",
    "\n",
    "In this notebook, we use the method of Ref.[1] to approximate $E(Z | \\theta, D)$, that is, $D_L(D, \\theta)$ using a simple deep neural network trained, that is, fitted, to data comprising the triplets $(Z_i, \\theta_i, D_i)$ (see notebook __LFI_generate_data.ipynb__).\n",
    "\n",
    "This tutorial is about a 1-parameter problem. \n",
    "\n",
    "\n",
    "## Research Question\n",
    "However, the goal of our project is to investigate the following 2-parameter problem\n",
    "\n",
    "\\begin{align}\n",
    "    p(n, m| \\theta, \\nu) & = \\textrm{Poisson}(n, \\theta + \\nu)\\, \\textrm{Poisson}(m, \\nu),\n",
    "\\end{align}\n",
    "\n",
    "which contains one nuisance parameter, namely, $\\nu$. Although this is the simplest Poisson problem with a constrained nuisance parameter, surprisingly, none of the standard methods yield upper limits for $\\theta$ with exact coverage! One of our goals is to tackle this problem starting with a slight generalization of the method of Ref.[1]. \n",
    "\n",
    "We shall build a model that approximates $E(Z | \\theta, \\nu, n, m)$,\n",
    "where \n",
    "\n",
    "$$Z = I[ \\lambda^\\prime(n, m) \\leq \\lambda(N, M) ],$$ \n",
    "\n",
    "and the single count $D$ is replaced by the counts $N$ and $M$ and $\\lambda(n, m)$ is a test statistic. The research question is: can we find a function $\\lambda$ modeled with a neural network such that\n",
    "\n",
    "\\begin{align}\n",
    "    \\frac{\\partial E(Z | \\theta, \\nu, n, m)}{\\partial \\nu} & = 0, \\quad\\forall \\, \\theta, n, \\text{ and } m \n",
    "\\end{align}\n",
    "\n",
    "that is, such that the expectation value of $Z$ is insensitive to, and ideally independent of, the nuisance parameter $\\nu$. In other words, can we find a functional form for $\\lambda$ whose distribution is independent of $\\nu$?\n",
    "\n",
    "\n",
    "### References\n",
    "  1. Anne Lee et al., https://arxiv.org/abs/2107.03920\n",
    "  2. Neyman, Jerzy (1937). \"Outline of a Theory of Statistical Estimation Based on the Classical Theory of Probability\". Philosophical Transactions of the Royal Society of London. Series A, Mathematical and Physical Sciences. 236 (767): 333–380. doi:10.1098/rsta.1937.0005.\n",
    "  3. https://en.wikipedia.org/wiki/Incomplete_gamma_function. The normalized function is the unnormalized function divided by $\\Gamma(s)$ and can be computed using scipy.special.gammainc($s$, $\\theta$)."
   ]
  },
  {
   "cell_type": "code",
   "execution_count": 1,
   "metadata": {
    "id": "FA1Y5VCv20XZ"
   },
   "outputs": [],
   "source": [
    "import os, sys\n",
    "\n",
    "# the standard module for tabular data\n",
    "import pandas as pd\n",
    "\n",
    "# the standard module for array manipulation\n",
    "import numpy as np\n",
    "\n",
    "# the standard modules for high-quality plots\n",
    "import matplotlib as mp\n",
    "import matplotlib.pyplot as plt\n",
    "\n",
    "# standard scientific python module\n",
    "import scipy as sp\n",
    "import scipy.stats as st\n",
    "\n",
    "# standard symbolic algebra module\n",
    "import sympy as sm\n",
    "sm.init_printing()\n",
    "\n",
    "#  a function to save results\n",
    "import joblib as jb\n",
    "\n",
    "# pytorch\n",
    "import torch\n",
    "import torch.nn as nn\n",
    "from torch.utils.data import Dataset\n",
    "\n",
    "#  split data into a training set and a test set\n",
    "from sklearn.model_selection import train_test_split\n",
    "\n",
    "# to reload modules\n",
    "import importlib\n",
    "\n",
    "%matplotlib inline"
   ]
  },
  {
   "cell_type": "code",
   "execution_count": 2,
   "metadata": {},
   "outputs": [],
   "source": [
    "# update fonts\n",
    "FONTSIZE = 14\n",
    "font = {'family' : 'serif',\n",
    "        'weight' : 'normal',\n",
    "        'size'   : FONTSIZE}\n",
    "mp.rc('font', **font)\n",
    "\n",
    "# set a seed to ensure reproducibility\n",
    "seed = 128\n",
    "rnd  = np.random.RandomState(seed)"
   ]
  },
  {
   "cell_type": "markdown",
   "metadata": {},
   "source": [
    "### Load data"
   ]
  },
  {
   "cell_type": "code",
   "execution_count": 13,
   "metadata": {},
   "outputs": [
    {
     "name": "stdout",
     "output_type": "stream",
     "text": [
      "loading data.db\n",
      "N_{Z=1}/N_{Z, all} =  0.27374313725490196\n",
      "   Z      theta  D\n",
      "0  0   5.971480  0\n",
      "1  0  14.569709  8\n",
      "2  0  14.296514  5\n",
      "3  0  14.785094  5\n",
      "4  1   4.034170  5\n"
     ]
    }
   ],
   "source": [
    "datafile = 'data.db'\n",
    "print('loading %s' % datafile)\n",
    "data = jb.load(datafile)\n",
    "\n",
    "inputs = ['theta', 'D']\n",
    "\n",
    "print('N_{Z=1}/N_{Z, all} = ', sum(data.Z)/len(data.Z))\n",
    "print(data[:5])"
   ]
  },
  {
   "cell_type": "markdown",
   "metadata": {},
   "source": [
    "$\n",
    "\\begin{align}\n",
    "      D_R(D, \\theta) & = \\sum_{k=D}^\\infty \\textrm{Poisson}(k, \\theta) = P(D, \\theta),\\\\\n",
    "      \\textrm{and   } D_L(D, \\theta) & = \\sum_{k=0}^D \\textrm{Poisson}(k, \\theta) = 1 - P(D+1, \\theta).\n",
    "\\end{align}\n",
    "$\n",
    "\n",
    "Where $P(\\alpha, x)=\\int_{0}^{x} t^{\\alpha-1} \\exp (-t) d t / \\Gamma(\\alpha)$ is the normalized incomplete Gamma function."
   ]
  },
  {
   "cell_type": "code",
   "execution_count": 4,
   "metadata": {},
   "outputs": [],
   "source": [
    "def DR(s, theta):\n",
    "    return sp.special.gammainc(s, theta)\n",
    "\n",
    "def DL(s, theta):\n",
    "    return 1 - sp.special.gammainc(s+1, theta)"
   ]
  },
  {
   "cell_type": "markdown",
   "metadata": {},
   "source": [
    "### Plot data"
   ]
  },
  {
   "cell_type": "markdown",
   "metadata": {},
   "source": [
    "Check that data make sense. Compute $D_L$ by histogramming the data and compute $D_L$$ exactly.\n",
    "\n",
    "\n",
    "Note: __matplotlib__ has two graphics systems: 1) function-based and 2) object-based. The function below illustrates the object-based system."
   ]
  },
  {
   "cell_type": "code",
   "execution_count": 5,
   "metadata": {},
   "outputs": [],
   "source": [
    "# Check that histogrammed data agrees with exact calculation of DL.\n",
    "\n",
    "xmin, xmax = 0, 20\n",
    "xrange= (xmin, xmax)\n",
    "xbins = 40\n",
    "xstep = (xmax - xmin) / xbins\n",
    "x     = np.arange(xmin+0.5*xstep, xmax + 0.5*xstep, xstep)\n",
    "\n",
    "def hist_data(data, D, x):\n",
    "    \n",
    "    select = data.D == D\n",
    "\n",
    "    # weighted histogram   (count the number of ones per bin)\n",
    "    y1, _ = np.histogram(data.theta[select], \n",
    "                         bins=xbins, \n",
    "                         range=xrange, \n",
    "                         weights=data.Z[select]) \n",
    "\n",
    "    # unweighted histogram (count number of ones and zeros per bin)\n",
    "    yt, _ = np.histogram(data.theta[select], \n",
    "                         bins=xbins, \n",
    "                         range=xrange)\n",
    "\n",
    "    # approximation of DL(D, x)\n",
    "    y =  y1 / yt    \n",
    "\n",
    "    # exact\n",
    "    p = DL(D, x)\n",
    "    \n",
    "    return (y, p)"
   ]
  },
  {
   "cell_type": "code",
   "execution_count": 6,
   "metadata": {},
   "outputs": [],
   "source": [
    "def plot_data(data, func, Dmin, Dmax, x, \n",
    "              gfile='fig_data.png', \n",
    "              fgsize=(10, 6)):\n",
    "    \n",
    "    # make room for 6 sub-plots\n",
    "    fig, ax = plt.subplots(nrows=2, \n",
    "                           ncols=3, \n",
    "                           figsize=fgsize)\n",
    "    \n",
    "    # padding\n",
    "    plt.subplots_adjust(hspace=0.01)\n",
    "    plt.subplots_adjust(wspace=0.20)\n",
    "    \n",
    "    # use flatten() to convert a numpy array of \n",
    "    # shape (nrows, ncols) to a 1-d array. \n",
    "    ax = ax.flatten()\n",
    "    \n",
    "    for j, d in enumerate(range(Dmin, Dmax+1)):\n",
    "        \n",
    "        # compute DL \n",
    "        y, p = func(data, d, x)\n",
    "        # \"func\" is the function used as an input, in this case it is hist_data, which returns (y, p), where y is weighted_histogram/unweighted_histoggram, p is the exact p value\n",
    "        \n",
    "        ax[j].set_xlim(xmin, xmax)\n",
    "        ax[j].set_ylim(0, 1)\n",
    "        ax[j].set_xlabel(r'$\\theta$', fontsize=FONTSIZE)\n",
    "        ax[j].set_ylabel(r'$E(Z|\\theta)$', fontsize=FONTSIZE)\n",
    "        \n",
    "        ax[j].plot(x, y, 'b', lw=2, label='approx')\n",
    "        ax[j].plot(x, p, 'r', lw=2, label='exact')\n",
    "        \n",
    "        ax[j].grid(True, which=\"both\", linestyle='-')\n",
    "        ax[j].text(12, 0.42, r'$D = %d$' % d, fontsize=FONTSIZE) \n",
    "\n",
    "        ax[j].legend(loc='upper right')\n",
    "        \n",
    "    # hide unused sub-plots\n",
    "    for k in range(Dmax+1-Dmin, len(ax)):\n",
    "        ax[k].set_visible(False)\n",
    "    \n",
    "    plt.tight_layout()\n",
    "    plt.savefig(gfile)\n",
    "    plt.show()"
   ]
  },
  {
   "cell_type": "code",
   "execution_count": 7,
   "metadata": {},
   "outputs": [
    {
     "data": {
      "image/png": "[encoded data removed]",
      "text/plain": [
       "<Figure size 720x432 with 6 Axes>"
      ]
     },
     "metadata": {
      "needs_background": "light"
     },
     "output_type": "display_data"
    }
   ],
   "source": [
    "Dmin, Dmax = 0, 5\n",
    "plot_data(data, hist_data, Dmin, Dmax, x) "
   ]
  },
  {
   "cell_type": "markdown",
   "metadata": {},
   "source": [
    "### Train, validation, and test sets\n",
    "There is some confusion in terminology regarding validation and test samples (or sets). We shall adhere to the defintions given here https://machinelearningmastery.com/difference-test-validation-datasets/):\n",
    "   \n",
    "  * __Training Dataset__: The sample of data used to fit the model.\n",
    "  * __Validation Dataset__: The sample of data used to decide 1) whether the fit is reasonable (e.g., the model has not been overfitted), 2) decide which of several models is the best and 3) tune model hyperparameters.\n",
    "  * __Test Dataset__: The sample of data used to provide an unbiased evaluation of a final model fit on the training dataset.\n",
    "\n",
    "The validation set will be some small fraction of the training set and will be used to decide when to stop the training."
   ]
  },
  {
   "cell_type": "code",
   "execution_count": 8,
   "metadata": {},
   "outputs": [
    {
     "name": "stdout",
     "output_type": "stream",
     "text": [
      "train set size:        500000\n",
      "validation set size:     5000\n",
      "test set size:           5000\n"
     ]
    },
    {
     "data": {
      "text/html": [
       "<div>\n",
       "<style scoped>\n",
       "    .dataframe tbody tr th:only-of-type {\n",
       "        vertical-align: middle;\n",
       "    }\n",
       "\n",
       "    .dataframe tbody tr th {\n",
       "        vertical-align: top;\n",
       "    }\n",
       "\n",
       "    .dataframe thead th {\n",
       "        text-align: right;\n",
       "    }\n",
       "</style>\n",
       "<table border=\"1\" class=\"dataframe\">\n",
       "  <thead>\n",
       "    <tr style=\"text-align: right;\">\n",
       "      <th></th>\n",
       "      <th>theta</th>\n",
       "      <th>D</th>\n",
       "    </tr>\n",
       "  </thead>\n",
       "  <tbody>\n",
       "    <tr>\n",
       "      <th>0</th>\n",
       "      <td>19.968994</td>\n",
       "      <td>3</td>\n",
       "    </tr>\n",
       "    <tr>\n",
       "      <th>1</th>\n",
       "      <td>0.043658</td>\n",
       "      <td>3</td>\n",
       "    </tr>\n",
       "    <tr>\n",
       "      <th>2</th>\n",
       "      <td>4.078554</td>\n",
       "      <td>4</td>\n",
       "    </tr>\n",
       "    <tr>\n",
       "      <th>3</th>\n",
       "      <td>19.019729</td>\n",
       "      <td>2</td>\n",
       "    </tr>\n",
       "    <tr>\n",
       "      <th>4</th>\n",
       "      <td>18.224806</td>\n",
       "      <td>4</td>\n",
       "    </tr>\n",
       "  </tbody>\n",
       "</table>\n",
       "</div>"
      ],
      "text/plain": [
       "       theta  D\n",
       "0  19.968994  3\n",
       "1   0.043658  3\n",
       "2   4.078554  4\n",
       "3  19.019729  2\n",
       "4  18.224806  4"
      ]
     },
     "execution_count": 8,
     "metadata": {},
     "output_type": "execute_result"
    }
   ],
   "source": [
    "# Fraction of the data assigned as test data\n",
    "fraction = 1/102\n",
    "# Split data into a part for training and a part for testing\n",
    "train_data, test_data = train_test_split(data, \n",
    "                                         test_size=fraction)\n",
    "\n",
    "# Split the training data into a part for training (fitting) and\n",
    "# a part for validating the training.\n",
    "fraction = 1/101\n",
    "train_data, valid_data = train_test_split(train_data, \n",
    "                                          test_size=fraction)\n",
    "\n",
    "# reset the indices in the dataframes and drop the old ones\n",
    "train_data = train_data.reset_index(drop=True)\n",
    "valid_data = valid_data.reset_index(drop=True)\n",
    "test_data  = test_data.reset_index(drop=True)\n",
    "\n",
    "print('train set size:        %6d' % train_data.shape[0])\n",
    "print('validation set size:   %6d' % valid_data.shape[0])\n",
    "print('test set size:         %6d' % test_data.shape[0])\n",
    "\n",
    "train_data[:5][inputs]"
   ]
  },
  {
   "cell_type": "markdown",
   "metadata": {},
   "source": [
    "Split data into targets $t$ and inputs $\\mathbf{x}$"
   ]
  },
  {
   "cell_type": "code",
   "execution_count": 9,
   "metadata": {},
   "outputs": [],
   "source": [
    "def split_t_x(df, inp=inputs):\n",
    "    # change from pandas dataframe format to a numpy \n",
    "    # array of the specified types\n",
    "    t = np.array(df['Z'])\n",
    "    x = np.array(df[inp])\n",
    "    return (t, x)\n",
    "\n",
    "train_t, train_x = split_t_x(train_data)\n",
    "valid_t, valid_x = split_t_x(valid_data)\n",
    "test_t,  test_x  = split_t_x(test_data)"
   ]
  },
  {
   "cell_type": "markdown",
   "metadata": {},
   "source": [
    "### Return a (random) batch of data from the training set"
   ]
  },
  {
   "cell_type": "code",
   "execution_count": 10,
   "metadata": {},
   "outputs": [],
   "source": [
    "def get_batch(x, t, batch_size):\n",
    "    # the numpy function choice(length, number)\n",
    "    # selects at random \"batch_size\" integers from \n",
    "    # the range [0, length-1] corresponding to the\n",
    "    # row indices.\n",
    "    rows    = rnd.choice(len(x), batch_size)\n",
    "    batch_x = x[rows]\n",
    "    batch_t = t[rows]\n",
    "    return (batch_x, batch_t)"
   ]
  },
  {
   "cell_type": "markdown",
   "metadata": {},
   "source": [
    "### Empirical risk (that is, average loss)\n",
    "\n",
    "The empirical risk, which is the __objective function__ we shall minimize, is defined as\n",
    "\n",
    "\\begin{align}\n",
    "R_M(\\theta) & = \\frac{1}{M}\\sum_{m=1}^M L(t_m, f_m),\n",
    "\\end{align}\n",
    "\n",
    "where \n",
    "\n",
    "\\begin{align*}\n",
    "    f_m & \\equiv f(\\mathbf{x}_m, \\theta),\\\\ \\\\ \\textrm{and} \\\\\n",
    "    L(t, f) &= (t - f)^2\n",
    "\\end{align*}\n",
    "\n",
    "The empirical risk $R_M$ approximates the __risk__\n",
    "\n",
    "\\begin{align}\n",
    "R[f] & = \\int \\cdots \\int \\, p(t, \\mathbf{x}) \\, L(t, f(\\mathbf{x}, \\theta)) \\, dt \\, d\\mathbf{x},\n",
    "\\end{align}\n",
    "\n",
    "which is a __functional__ of the model $f$. The quantity $p(t, \\mathbf{x}) \\, dt\\, d\\mathbf{x}$ is the probability distribution from which the sample $\\{ (t_m, \\mathbf{x}_m), m = 1,\\cdots, M \\}$ is presumed to have been drawn. "
   ]
  },
  {
   "cell_type": "code",
   "execution_count": 11,
   "metadata": {},
   "outputs": [],
   "source": [
    "# Note: there are several average loss functions available \n",
    "# in pytorch, but it's useful to know how to create your own.\n",
    "def average_loss(f, t):\n",
    "    # f and t must be of the same shape\n",
    "    return  torch.mean((f - t)**2)"
   ]
  },
  {
   "cell_type": "markdown",
   "metadata": {},
   "source": [
    "This function is used to validate the model while the it is being fitted."
   ]
  },
  {
   "cell_type": "code",
   "execution_count": 12,
   "metadata": {},
   "outputs": [],
   "source": [
    "def validate(model, avloss, inputs, targets):\n",
    "    # make sure we set evaluation mode so that any training specific\n",
    "    # operations are disabled.\n",
    "    model.eval() # evaluation mode\n",
    "    \n",
    "    with torch.no_grad(): # no need to compute gradients wrt. x and t\n",
    "        x = torch.from_numpy(inputs).float()\n",
    "        t = torch.from_numpy(targets).float()\n",
    "        # remember to reshape!\n",
    "        o = model(x).reshape(t.shape)\n",
    "    return avloss(o, t)"
   ]
  },
  {
   "cell_type": "markdown",
   "metadata": {},
   "source": [
    "### Function to execute training loop"
   ]
  },
  {
   "cell_type": "code",
   "execution_count": 13,
   "metadata": {},
   "outputs": [],
   "source": [
    "def train(model, optimizer, avloss, getbatch,\n",
    "          train_x, train_t, \n",
    "          valid_x, valid_t,\n",
    "          batch_size, \n",
    "          n_iterations, traces, \n",
    "          step=50):\n",
    "    \n",
    "    # to keep track of average losses\n",
    "    xx, yy_t, yy_v = traces\n",
    "    \n",
    "    n = len(valid_x)\n",
    "    \n",
    "    print('Iteration vs average loss')\n",
    "    print(\"%10s\\t%10s\\t%10s\" % \\\n",
    "          ('iteration', 'train-set', 'valid-set'))\n",
    "    \n",
    "    for ii in range(n_iterations):\n",
    "\n",
    "        # set mode to training so that training specific \n",
    "        # operations such as dropout are enabled.\n",
    "        model.train()\n",
    "        \n",
    "        # get a random sample (a batch) of data (as numpy arrays)\n",
    "        batch_x, batch_t = getbatch(train_x, train_t, batch_size)\n",
    "        \n",
    "        # convert the numpy arrays batch_x and batch_t to tensor \n",
    "        # types. The PyTorch tensor type is the magic that permits \n",
    "        # automatic differentiation with respect to parameters. \n",
    "        # However, since we do not need to take the derivatives\n",
    "        # with respect to x and t, we disable this feature\n",
    "        with torch.no_grad(): # no need to compute gradients \n",
    "            # wrt. x and t\n",
    "            x = torch.from_numpy(batch_x).float()\n",
    "            t = torch.from_numpy(batch_t).float()      \n",
    "\n",
    "        # compute the output of the model for the batch of data x\n",
    "        # Note: outputs is \n",
    "        #   of shape (-1, 1), but the tensor targets, t, is\n",
    "        #   of shape (-1,)\n",
    "        # In order for the tensor operations with outputs and t\n",
    "        # to work correctly, it is necessary that they have the\n",
    "        # same shape. We can do this with the reshape method.\n",
    "        outputs = model(x).reshape(t.shape)\n",
    "   \n",
    "        # compute a noisy approximation to the average loss\n",
    "        empirical_risk = avloss(outputs, t)\n",
    "        \n",
    "        # use automatic differentiation to compute a \n",
    "        # noisy approximation of the local gradient\n",
    "        optimizer.zero_grad()       # clear previous gradients\n",
    "        empirical_risk.backward()   # compute gradients\n",
    "        \n",
    "        # finally, advance one step in the direction of steepest \n",
    "        # descent, using the noisy local gradient. \n",
    "        optimizer.step()            # move one step\n",
    "        \n",
    "        if ii % step == 0:\n",
    "            \n",
    "            acc_t = validate(model, avloss, train_x[:n], train_t[:n]) \n",
    "            acc_v = validate(model, avloss, valid_x[:n], valid_t[:n])\n",
    "\n",
    "            if len(xx) < 1:\n",
    "                xx.append(0)\n",
    "                print(\"%10d\\t%10.6f\\t%10.6f\" % \\\n",
    "                      (xx[-1], acc_t, acc_v))\n",
    "            else:\n",
    "                xx.append(xx[-1] + step)\n",
    "                print(\"\\r%10d\\t%10.6f\\t%10.6f\" % \\\n",
    "                      (xx[-1], acc_t, acc_v), end='')\n",
    "                \n",
    "            yy_t.append(acc_t)\n",
    "            yy_v.append(acc_v)\n",
    "    print()      \n",
    "    return (xx, yy_t, yy_v)"
   ]
  },
  {
   "cell_type": "code",
   "execution_count": 14,
   "metadata": {},
   "outputs": [],
   "source": [
    "def plot_average_loss(traces):\n",
    "    \n",
    "    xx, yy_t, yy_v = traces\n",
    "    \n",
    "    # create an empty figure\n",
    "    fig = plt.figure(figsize=(5, 5))\n",
    "    fig.tight_layout()\n",
    "    \n",
    "    # add a subplot to it\n",
    "    nrows, ncols, index = 1,1,1\n",
    "    ax  = fig.add_subplot(nrows,ncols,index)\n",
    "\n",
    "    ax.set_title(\"Average loss\")\n",
    "    \n",
    "    ax.plot(xx, yy_t, 'b', lw=2, label='Training')\n",
    "    ax.plot(xx, yy_v, 'r', lw=2, label='Validation')\n",
    "\n",
    "    ax.set_xlabel('Iterations', fontsize=FONTSIZE)\n",
    "    ax.set_ylabel('average loss', fontsize=FONTSIZE)\n",
    "    ax.set_xscale('log')\n",
    "    ax.set_yscale('log')\n",
    "    ax.grid(True, which=\"both\", linestyle='-')\n",
    "    ax.legend(loc='upper right')\n",
    "\n",
    "    plt.show()"
   ]
  },
  {
   "cell_type": "markdown",
   "metadata": {
    "id": "NJC916BU-9L6"
   },
   "source": [
    "### Define model $f(\\mathbf{x}, \\theta)$"
   ]
  },
  {
   "cell_type": "code",
   "execution_count": 15,
   "metadata": {},
   "outputs": [
    {
     "name": "stdout",
     "output_type": "stream",
     "text": [
      "Overwriting dnnmodel.py\n"
     ]
    }
   ],
   "source": [
    "%%writefile dnnmodel.py\n",
    "\n",
    "import torch\n",
    "import torch.nn as nn\n",
    "\n",
    "class Model(nn.Module):\n",
    "    \n",
    "    def __init__(self, n_inputs=2, n_nodes=20, n_layers=5):\n",
    "\n",
    "        # call constructor of base (or super, or parent) class\n",
    "        super(Model, self).__init__()\n",
    "\n",
    "        self.layers = []\n",
    "        \n",
    "        # create input layer\n",
    "        self.layer0 = nn.Linear(n_inputs, n_nodes)\n",
    "        self.layers.append(self.layer0)\n",
    "\n",
    "        # create \"hidden\" layers\n",
    "        for l in range(1, n_layers):\n",
    "            cmd = 'self.layer%d = nn.Linear(%d, %d)' % \\\n",
    "            (l, n_nodes, n_nodes)\n",
    "            exec(cmd)\n",
    "            cmd = 'self.layers.append(self.layer%d)' % l\n",
    "            exec(cmd)\n",
    "          \n",
    "        # create output layer\n",
    "        cmd = 'self.layer%d = nn.Linear(%d, 1)' % (n_layers, n_nodes)\n",
    "        exec(cmd)\n",
    "        cmd = 'self.layers.append(self.layer%d)' % n_layers\n",
    "        exec(cmd)\n",
    "\n",
    "    # define (required) method to compute output of network\n",
    "    def forward(self, x):\n",
    "        y = x\n",
    "        for layer in self.layers[:-1]:\n",
    "            y = layer(y)\n",
    "            y = torch.relu(y)\n",
    "        y = self.layers[-1](y)\n",
    "        y = torch.sigmoid(y)\n",
    "        return y\n"
   ]
  },
  {
   "cell_type": "code",
   "execution_count": 16,
   "metadata": {},
   "outputs": [
    {
     "name": "stdout",
     "output_type": "stream",
     "text": [
      "Model(\n",
      "  (layer0): Linear(in_features=2, out_features=20, bias=True)\n",
      "  (layer1): Linear(in_features=20, out_features=20, bias=True)\n",
      "  (layer2): Linear(in_features=20, out_features=20, bias=True)\n",
      "  (layer3): Linear(in_features=20, out_features=20, bias=True)\n",
      "  (layer4): Linear(in_features=20, out_features=20, bias=True)\n",
      "  (layer5): Linear(in_features=20, out_features=1, bias=True)\n",
      ")\n"
     ]
    }
   ],
   "source": [
    "import dnnmodel\n",
    "importlib.reload(dnnmodel)\n",
    "model = dnnmodel.Model()\n",
    "print(model)"
   ]
  },
  {
   "cell_type": "markdown",
   "metadata": {},
   "source": [
    "### Train!"
   ]
  },
  {
   "cell_type": "markdown",
   "metadata": {
    "id": "e8R55NgQL4EC"
   },
   "source": [
    "Instantiate an optimizer, then train"
   ]
  },
  {
   "cell_type": "code",
   "execution_count": 17,
   "metadata": {},
   "outputs": [],
   "source": [
    "learning_rate = 1.e-3\n",
    "optimizer     = torch.optim.Adam(model.parameters(), \n",
    "                                 lr=learning_rate) \n",
    "\n",
    "traces = ([], [], [])\n",
    "traces_step = 10"
   ]
  },
  {
   "cell_type": "code",
   "execution_count": 18,
   "metadata": {},
   "outputs": [
    {
     "name": "stdout",
     "output_type": "stream",
     "text": [
      "Iteration vs average loss\n",
      " iteration\t train-set\t valid-set\n",
      "         0\t  0.230459\t  0.229675\n",
      "     19990\t  0.063233\t  0.065700\n",
      "Iteration vs average loss\n",
      " iteration\t train-set\t valid-set\n",
      "     29990\t  0.062805\t  0.065387\n"
     ]
    },
    {
     "data": {
      "image/png": "[encoded data removed]",
      "text/plain": [
       "<Figure size 360x360 with 1 Axes>"
      ]
     },
     "metadata": {
      "needs_background": "light"
     },
     "output_type": "display_data"
    }
   ],
   "source": [
    "n_batch       = 50\n",
    "n_iterations  = 20000\n",
    "\n",
    "traces = train(model, optimizer, average_loss,\n",
    "               get_batch,\n",
    "               train_x, train_t, \n",
    "               valid_x, valid_t,\n",
    "               n_batch, \n",
    "               n_iterations,\n",
    "               traces,\n",
    "               step=traces_step)\n",
    "\n",
    "n_batch       = 500\n",
    "n_iterations  = 10000\n",
    "\n",
    "traces = train(model, optimizer, average_loss,\n",
    "               get_batch,\n",
    "               train_x, train_t, \n",
    "               valid_x, valid_t,\n",
    "               n_batch, \n",
    "               n_iterations,\n",
    "               traces,\n",
    "               step=traces_step)\n",
    "\n",
    "plot_average_loss(traces)"
   ]
  },
  {
   "cell_type": "code",
   "execution_count": 19,
   "metadata": {},
   "outputs": [],
   "source": [
    "def usemodel(data, d, x):\n",
    "    model.eval()\n",
    "    xx= [[z, d] for z in x]\n",
    "    X = torch.Tensor(xx)\n",
    "    y = model(X).detach().numpy()\n",
    "    p = DL(d, x)\n",
    "    return (y, p)"
   ]
  },
  {
   "cell_type": "code",
   "execution_count": 14,
   "metadata": {},
   "outputs": [
    {
     "ename": "NameError",
     "evalue": "name 'plot_data' is not defined",
     "output_type": "error",
     "traceback": [
      "\u001b[0;31m---------------------------------------------------------------------------\u001b[0m",
      "\u001b[0;31mNameError\u001b[0m                                 Traceback (most recent call last)",
      "\u001b[0;32m/tmp/ipykernel_197421/1755141429.py\u001b[0m in \u001b[0;36m<module>\u001b[0;34m\u001b[0m\n\u001b[0;32m----> 1\u001b[0;31m \u001b[0mplot_data\u001b[0m\u001b[0;34m(\u001b[0m\u001b[0mdata\u001b[0m\u001b[0;34m,\u001b[0m \u001b[0musemodel\u001b[0m\u001b[0;34m,\u001b[0m \u001b[0mDmin\u001b[0m\u001b[0;34m,\u001b[0m \u001b[0mDmax\u001b[0m\u001b[0;34m,\u001b[0m \u001b[0mx\u001b[0m\u001b[0;34m,\u001b[0m \u001b[0mgfile\u001b[0m\u001b[0;34m=\u001b[0m\u001b[0;34m'fig_model_vs_DL.png'\u001b[0m\u001b[0;34m)\u001b[0m\u001b[0;34m\u001b[0m\u001b[0;34m\u001b[0m\u001b[0m\n\u001b[0m",
      "\u001b[0;31mNameError\u001b[0m: name 'plot_data' is not defined"
     ]
    }
   ],
   "source": [
    "plot_data(data, usemodel, Dmin, Dmax, x, gfile='fig_model_vs_DL.png') "
   ]
  },
  {
   "cell_type": "code",
   "execution_count": null,
   "metadata": {},
   "outputs": [],
   "source": []
  }
 ],
 "metadata": {
  "accelerator": "GPU",
  "colab": {
   "collapsed_sections": [],
   "name": "DRL_19_REINFORCE_Algorithm.ipynb",
   "provenance": []
  },
  "kernelspec": {
   "display_name": "Python 3 (ipykernel)",
   "language": "python",
   "name": "python3"
  },
  "language_info": {
   "codemirror_mode": {
    "name": "ipython",
    "version": 3
   },
   "file_extension": ".py",
   "mimetype": "text/x-python",
   "name": "python",
   "nbconvert_exporter": "python",
   "pygments_lexer": "ipython3",
   "version": "3.7.7"
  }
 },
 "nbformat": 4,
 "nbformat_minor": 4
}
