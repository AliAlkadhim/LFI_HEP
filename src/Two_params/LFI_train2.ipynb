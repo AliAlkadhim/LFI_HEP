{
 "cells": [
  {
   "cell_type": "markdown",
   "metadata": {
    "id": "40Yb47zJQglm"
   },
   "source": [
    "# Likelihood-Free Inference - Model Training\n",
    "\n",
    "Ali Al Kadhim and Harrison B. Prosper<br>\n",
    "Department of Physics, Florida State University<br>\n",
    "Date: 22 April 2022\n",
    "\n",
    "## Introduction\n",
    "\n",
    "See __LFI_generate_data.ipynb__, __LFI_train.ipynb__ and __LFI_train1.ipynb__.\n",
    "\n",
    "## The Poisson Problem: Two Counts\n",
    "\n",
    "In this notebook, we consider the statistical model\n",
    "\n",
    "\\begin{align}\n",
    "\\textrm{P}(n, m, \\theta, \\nu) & = \\frac{e^{-(\\theta + \\nu)} (\\theta + \\nu)^n}{n!}\n",
    "\\frac{e^{-\\nu} \\nu^m}{m!}\n",
    "\\end{align}\n",
    "\n",
    "which, as noted in __LFI_generate_data__, is the prototype of many\n",
    "statistical models in astronomy and particle physics.\n",
    "\n",
    "\n",
    "### References\n",
    "  1. Anne Lee et al., https://arxiv.org/abs/2107.03920\n",
    "  2. Neyman, Jerzy (1937). \"Outline of a Theory of Statistical Estimation Based on the Classical Theory of Probability\". Philosophical Transactions of the Royal Society of London. Series A, Mathematical and Physical Sciences. 236 (767): 333–380. doi:10.1098/rsta.1937.0005."
   ]
  },
  {
   "cell_type": "code",
   "execution_count": 1,
   "metadata": {
    "id": "FA1Y5VCv20XZ"
   },
   "outputs": [],
   "source": [
    "import os, sys\n",
    "\n",
    "# the standard module for tabular data\n",
    "import pandas as pd\n",
    "\n",
    "# the standard module for array manipulation\n",
    "import numpy as np\n",
    "\n",
    "# the standard modules for high-quality plots\n",
    "import matplotlib as mp\n",
    "import matplotlib.pyplot as plt\n",
    "\n",
    "# standard scientific python module\n",
    "import scipy as sp\n",
    "import scipy.stats as st\n",
    "import scipy.optimize as op\n",
    "\n",
    "# standard symbolic algebra module\n",
    "#import sympy as sm\n",
    "#sm.init_printing()\n",
    "\n",
    "# module to save results\n",
    "import joblib as jb\n",
    "\n",
    "# pytorch\n",
    "import torch\n",
    "import torch.nn as nn\n",
    "#from torch.utils.data import Dataset\n",
    "\n",
    "# split data into a training set and a test set\n",
    "from sklearn.model_selection import train_test_split\n",
    "\n",
    "# to reload modules\n",
    "import importlib\n",
    "\n",
    "# written out by LFI_generate1.ipynb\n",
    "import LFIutil as lfi\n",
    "\n",
    "%matplotlib inline"
   ]
  },
  {
   "cell_type": "code",
   "execution_count": 2,
   "metadata": {},
   "outputs": [],
   "source": [
    "# update fonts\n",
    "FONTSIZE = 14\n",
    "font = {'family' : 'serif',\n",
    "        'weight' : 'normal',\n",
    "        'size'   : FONTSIZE}\n",
    "mp.rc('font', **font)\n",
    "\n",
    "# set usetex = False if LaTex is not \n",
    "# available on your system or if the \n",
    "# rendering is too slow\n",
    "mp.rc('text', usetex=True)\n",
    "\n",
    "# set a seed to ensure reproducibility\n",
    "seed = 128\n",
    "rnd  = np.random.RandomState(seed)"
   ]
  },
  {
   "cell_type": "markdown",
   "metadata": {},
   "source": [
    "### Load data"
   ]
  },
  {
   "cell_type": "code",
   "execution_count": 3,
   "metadata": {},
   "outputs": [
    {
     "name": "stdout",
     "output_type": "stream",
     "text": [
      "loading data2.db\n"
     ]
    },
    {
     "data": {
      "text/html": [
       "<div>\n",
       "<style scoped>\n",
       "    .dataframe tbody tr th:only-of-type {\n",
       "        vertical-align: middle;\n",
       "    }\n",
       "\n",
       "    .dataframe tbody tr th {\n",
       "        vertical-align: top;\n",
       "    }\n",
       "\n",
       "    .dataframe thead th {\n",
       "        text-align: right;\n",
       "    }\n",
       "</style>\n",
       "<table border=\"1\" class=\"dataframe\">\n",
       "  <thead>\n",
       "    <tr style=\"text-align: right;\">\n",
       "      <th></th>\n",
       "      <th>Z1</th>\n",
       "      <th>Z2</th>\n",
       "      <th>theta</th>\n",
       "      <th>nu</th>\n",
       "      <th>N</th>\n",
       "      <th>M</th>\n",
       "    </tr>\n",
       "  </thead>\n",
       "  <tbody>\n",
       "    <tr>\n",
       "      <th>0</th>\n",
       "      <td>1</td>\n",
       "      <td>1</td>\n",
       "      <td>1.830855</td>\n",
       "      <td>11.432912</td>\n",
       "      <td>5</td>\n",
       "      <td>8</td>\n",
       "    </tr>\n",
       "    <tr>\n",
       "      <th>1</th>\n",
       "      <td>1</td>\n",
       "      <td>1</td>\n",
       "      <td>1.475130</td>\n",
       "      <td>6.745969</td>\n",
       "      <td>2</td>\n",
       "      <td>3</td>\n",
       "    </tr>\n",
       "    <tr>\n",
       "      <th>2</th>\n",
       "      <td>1</td>\n",
       "      <td>1</td>\n",
       "      <td>6.922553</td>\n",
       "      <td>8.702092</td>\n",
       "      <td>5</td>\n",
       "      <td>4</td>\n",
       "    </tr>\n",
       "    <tr>\n",
       "      <th>3</th>\n",
       "      <td>1</td>\n",
       "      <td>1</td>\n",
       "      <td>5.632532</td>\n",
       "      <td>12.297714</td>\n",
       "      <td>7</td>\n",
       "      <td>4</td>\n",
       "    </tr>\n",
       "    <tr>\n",
       "      <th>4</th>\n",
       "      <td>1</td>\n",
       "      <td>1</td>\n",
       "      <td>7.878018</td>\n",
       "      <td>5.265626</td>\n",
       "      <td>2</td>\n",
       "      <td>0</td>\n",
       "    </tr>\n",
       "  </tbody>\n",
       "</table>\n",
       "</div>"
      ],
      "text/plain": [
       "   Z1  Z2     theta         nu  N  M\n",
       "0   1   1  1.830855  11.432912  5  8\n",
       "1   1   1  1.475130   6.745969  2  3\n",
       "2   1   1  6.922553   8.702092  5  4\n",
       "3   1   1  5.632532  12.297714  7  4\n",
       "4   1   1  7.878018   5.265626  2  0"
      ]
     },
     "execution_count": 3,
     "metadata": {},
     "output_type": "execute_result"
    }
   ],
   "source": [
    "datafile = 'data2.db'\n",
    "print('loading %s' % datafile)\n",
    "data = jb.load(datafile)\n",
    "\n",
    "MLE  = False\n",
    "if MLE:\n",
    "    target = 'Z1'\n",
    "    WHICH  = 'MLE'\n",
    "else:\n",
    "    target = 'Z2'\n",
    "    WHICH  = 'nonMLE'\n",
    "    \n",
    "source = ['theta', 'nu', 'N', 'M']\n",
    "\n",
    "data[:5]"
   ]
  },
  {
   "cell_type": "markdown",
   "metadata": {},
   "source": [
    "### Plot data"
   ]
  },
  {
   "cell_type": "code",
   "execution_count": 4,
   "metadata": {},
   "outputs": [],
   "source": [
    "# Check that histogrammed data agrees with exact calculation of DL.\n",
    "\n",
    "XMIN  = 0\n",
    "XMAX  = 20\n",
    "XBINS = 200\n",
    "NU    = 3\n",
    "D     = [(1, 0), (2, 0), (3, 0), \n",
    "         (1, 1), (2, 1), (3, 1)]\n",
    "\n",
    "def hist_data(nu, N, M,\n",
    "              xbins=XBINS,\n",
    "              xmin=XMIN, \n",
    "              xmax=XMAX,\n",
    "              mle=MLE,\n",
    "              Ndata=100000):\n",
    "\n",
    "    theta = st.uniform.rvs(xmin, xmax, size=Ndata)\n",
    "    n = st.poisson.rvs(theta + nu)\n",
    "    m = st.poisson.rvs(nu, size=Ndata)\n",
    "    Z = (lfi.t2(theta, n, m, mle) < \n",
    "         lfi.t2(theta, N, M, mle)).astype(np.int32)\n",
    "\n",
    "    xrange = (xmin, xmax)\n",
    "\n",
    "    # weighted histogram   (count the number of ones per bin)\n",
    "    y1, bb = np.histogram(theta, \n",
    "                          bins=xbins, \n",
    "                          range=xrange, \n",
    "                          weights=Z)\n",
    "    \n",
    "    # unweighted histogram (count number of ones and zeros per bin)\n",
    "    yt, _ = np.histogram(theta, \n",
    "                         bins=xbins, \n",
    "                         range=xrange)\n",
    "\n",
    "    y =  y1 / yt    \n",
    "    \n",
    "    return y, bb"
   ]
  },
  {
   "cell_type": "code",
   "execution_count": 19,
   "metadata": {},
   "outputs": [],
   "source": [
    "def plot_data(nu, D, \n",
    "              func=None,\n",
    "              xbins=XBINS,\n",
    "              xmin=XMIN, \n",
    "              xmax=XMAX,\n",
    "              gfile='fig_data2_%s.png' % WHICH, \n",
    "              fgsize=(10, 6)):\n",
    "    \n",
    "    # make room for 6 sub-plots\n",
    "    fig, ax = plt.subplots(nrows=2, \n",
    "                           ncols=3, \n",
    "                           figsize=fgsize)\n",
    "    \n",
    "    # padding\n",
    "    plt.subplots_adjust(hspace=0.01)\n",
    "    plt.subplots_adjust(wspace=0.20)\n",
    "    \n",
    "    # use flatten() to convert a numpy array of \n",
    "    # shape (nrows, ncols) to a 1-d array. \n",
    "    ax = ax.flatten()\n",
    "    \n",
    "    for j, (N, M) in enumerate(D):\n",
    "        \n",
    "        y, bb = hist_data(nu, N, M)\n",
    "    \n",
    "        ax[j].set_xlim(xmin, xmax)\n",
    "        ax[j].set_ylim(0, 1)\n",
    "        ax[j].set_xlabel(r'$\\theta$', fontsize=FONTSIZE)\n",
    "        ax[j].set_ylabel(r'$E(Z|\\theta, \\nu)$', fontsize=FONTSIZE)\n",
    "        \n",
    "        x = (bb[1:]+bb[:-1])/2\n",
    "        ax[j].plot(x, y, 'b', lw=2, label='approx')\n",
    "        \n",
    "        if func:\n",
    "            p, _ = func(nu, N, M)\n",
    "            ax[j].plot(x, p, 'r', lw=2, label='model')\n",
    "        \n",
    "        ax[j].grid(True, which=\"both\", linestyle='-')\n",
    "        ax[j].text(10.1, 0.42, r'$N, M = %d, %d$' % (N, M), \n",
    "                   fontsize=FONTSIZE) \n",
    "\n",
    "        ax[j].text(10.1, 0.30, r'$\\nu = %5.1f$' % nu, \n",
    "                   fontsize=FONTSIZE) \n",
    "\n",
    "        ax[j].legend(loc='upper right')\n",
    "        \n",
    "    # hide unused sub-plots\n",
    "    for k in range(j+1, len(ax)):\n",
    "        ax[k].set_visible(False)\n",
    "    \n",
    "    plt.tight_layout()\n",
    "    print('saving..', gfile)\n",
    "    plt.savefig(gfile)\n",
    "    plt.show()"
   ]
  },
  {
   "cell_type": "code",
   "execution_count": 6,
   "metadata": {},
   "outputs": [
    {
     "name": "stdout",
     "output_type": "stream",
     "text": [
      "saving.. fig_data2_nonMLE.png\n"
     ]
    },
    {
     "data": {
      "image/png": "[encoded data removed]",
      "text/plain": [
       "<Figure size 720x432 with 6 Axes>"
      ]
     },
     "metadata": {
      "needs_background": "light"
     },
     "output_type": "display_data"
    }
   ],
   "source": [
    "plot_data(NU, D) "
   ]
  },
  {
   "cell_type": "markdown",
   "metadata": {},
   "source": [
    "### Train, validation, and test sets\n",
    "There is some confusion in terminology regarding validation and test samples (or sets). We shall adhere to the defintions given here https://machinelearningmastery.com/difference-test-validation-datasets/):\n",
    "   \n",
    "  * __Training Dataset__: The sample of data used to fit the model.\n",
    "  * __Validation Dataset__: The sample of data used to decide 1) whether the fit is reasonable (e.g., the model has not been overfitted), 2) decide which of several models is the best and 3) tune model hyperparameters.\n",
    "  * __Test Dataset__: The sample of data used to provide an unbiased evaluation of a final model fit on the training dataset.\n",
    "\n",
    "The validation set will be some small fraction of the training set and will be used to decide when to stop the training."
   ]
  },
  {
   "cell_type": "code",
   "execution_count": 7,
   "metadata": {},
   "outputs": [
    {
     "name": "stdout",
     "output_type": "stream",
     "text": [
      "train set size:        500000\n",
      "validation set size:     5000\n",
      "test set size:           5000\n"
     ]
    },
    {
     "data": {
      "text/html": [
       "<div>\n",
       "<style scoped>\n",
       "    .dataframe tbody tr th:only-of-type {\n",
       "        vertical-align: middle;\n",
       "    }\n",
       "\n",
       "    .dataframe tbody tr th {\n",
       "        vertical-align: top;\n",
       "    }\n",
       "\n",
       "    .dataframe thead th {\n",
       "        text-align: right;\n",
       "    }\n",
       "</style>\n",
       "<table border=\"1\" class=\"dataframe\">\n",
       "  <thead>\n",
       "    <tr style=\"text-align: right;\">\n",
       "      <th></th>\n",
       "      <th>theta</th>\n",
       "      <th>nu</th>\n",
       "      <th>N</th>\n",
       "      <th>M</th>\n",
       "    </tr>\n",
       "  </thead>\n",
       "  <tbody>\n",
       "    <tr>\n",
       "      <th>0</th>\n",
       "      <td>0.988205</td>\n",
       "      <td>19.115151</td>\n",
       "      <td>9</td>\n",
       "      <td>3</td>\n",
       "    </tr>\n",
       "    <tr>\n",
       "      <th>1</th>\n",
       "      <td>13.596928</td>\n",
       "      <td>12.526557</td>\n",
       "      <td>6</td>\n",
       "      <td>2</td>\n",
       "    </tr>\n",
       "    <tr>\n",
       "      <th>2</th>\n",
       "      <td>18.454743</td>\n",
       "      <td>16.958495</td>\n",
       "      <td>2</td>\n",
       "      <td>7</td>\n",
       "    </tr>\n",
       "    <tr>\n",
       "      <th>3</th>\n",
       "      <td>6.378431</td>\n",
       "      <td>5.229058</td>\n",
       "      <td>3</td>\n",
       "      <td>4</td>\n",
       "    </tr>\n",
       "    <tr>\n",
       "      <th>4</th>\n",
       "      <td>11.605463</td>\n",
       "      <td>2.798342</td>\n",
       "      <td>8</td>\n",
       "      <td>0</td>\n",
       "    </tr>\n",
       "  </tbody>\n",
       "</table>\n",
       "</div>"
      ],
      "text/plain": [
       "       theta         nu  N  M\n",
       "0   0.988205  19.115151  9  3\n",
       "1  13.596928  12.526557  6  2\n",
       "2  18.454743  16.958495  2  7\n",
       "3   6.378431   5.229058  3  4\n",
       "4  11.605463   2.798342  8  0"
      ]
     },
     "execution_count": 7,
     "metadata": {},
     "output_type": "execute_result"
    }
   ],
   "source": [
    "# Fraction of the data assigned as test data\n",
    "fraction = 1/102\n",
    "# Split data into a part for training and a part for testing\n",
    "train_data, test_data = train_test_split(data, \n",
    "                                         test_size=fraction)\n",
    "\n",
    "# Split the training data into a part for training (fitting) and\n",
    "# a part for validating the training.\n",
    "fraction = 1/101\n",
    "train_data, valid_data = train_test_split(train_data, \n",
    "                                          test_size=fraction)\n",
    "\n",
    "# reset the indices in the dataframes and drop the old ones\n",
    "train_data = train_data.reset_index(drop=True)\n",
    "valid_data = valid_data.reset_index(drop=True)\n",
    "test_data  = test_data.reset_index(drop=True)\n",
    "\n",
    "print('train set size:        %6d' % train_data.shape[0])\n",
    "print('validation set size:   %6d' % valid_data.shape[0])\n",
    "print('test set size:         %6d' % test_data.shape[0])\n",
    "\n",
    "train_data[:5][source]"
   ]
  },
  {
   "cell_type": "markdown",
   "metadata": {},
   "source": [
    "Split data into targets $t$ and inputs $\\mathbf{x}$"
   ]
  },
  {
   "cell_type": "code",
   "execution_count": 8,
   "metadata": {},
   "outputs": [],
   "source": [
    "def split_t_x(df, target, source):\n",
    "    # change from pandas dataframe format to a numpy \n",
    "    # array of the specified types\n",
    "    t = np.array(df[target])\n",
    "    x = np.array(df[source])\n",
    "    return t, x\n",
    "\n",
    "train_t, train_x = split_t_x(train_data, target, source)\n",
    "valid_t, valid_x = split_t_x(valid_data, target, source)\n",
    "test_t,  test_x  = split_t_x(test_data,  target, source)"
   ]
  },
  {
   "cell_type": "markdown",
   "metadata": {},
   "source": [
    "### Return a (random) batch of data from the training set"
   ]
  },
  {
   "cell_type": "code",
   "execution_count": 9,
   "metadata": {},
   "outputs": [],
   "source": [
    "def get_batch(x, t, batch_size):\n",
    "    # the numpy function choice(length, number)\n",
    "    # selects at random \"batch_size\" integers from \n",
    "    # the range [0, length-1] corresponding to the\n",
    "    # row indices.\n",
    "    rows    = rnd.choice(len(x), batch_size)\n",
    "    batch_x = x[rows]\n",
    "    batch_t = t[rows]\n",
    "    return (batch_x, batch_t)"
   ]
  },
  {
   "cell_type": "markdown",
   "metadata": {},
   "source": [
    "### Empirical risk (that is, average loss)\n",
    "\n",
    "The empirical risk, which is the __objective function__ we shall minimize, is defined as\n",
    "\n",
    "\\begin{align}\n",
    "R_M(\\theta) & = \\frac{1}{M}\\sum_{m=1}^M L(t_m, f_m),\n",
    "\\end{align}\n",
    "\n",
    "where \n",
    "\n",
    "\\begin{align*}\n",
    "    f_m & \\equiv f(\\mathbf{x}_m, \\theta),\\\\ \\\\ \\textrm{and} \\\\\n",
    "    L(t, f) &= (t - f)^2\n",
    "\\end{align*}\n",
    "\n",
    "The empirical risk $R_M$ approximates the __risk__\n",
    "\n",
    "\\begin{align}\n",
    "R[f] & = \\int \\cdots \\int \\, p(t, \\mathbf{x}) \\, L(t, f(\\mathbf{x}, \\theta)) \\, dt \\, d\\mathbf{x},\n",
    "\\end{align}\n",
    "\n",
    "which is a __functional__ of the model $f$. The quantity $p(t, \\mathbf{x}) \\, dt\\, d\\mathbf{x}$ is the probability distribution from which the sample $\\{ (t_m, \\mathbf{x}_m), m = 1,\\cdots, M \\}$ is presumed to have been drawn. "
   ]
  },
  {
   "cell_type": "code",
   "execution_count": 10,
   "metadata": {},
   "outputs": [],
   "source": [
    "# Note: there are several average loss functions available \n",
    "# in pytorch, but it's useful to know how to create your own.\n",
    "def average_loss(f, t):\n",
    "    # f and t must be of the same shape\n",
    "    return  torch.mean((f - t)**2)"
   ]
  },
  {
   "cell_type": "markdown",
   "metadata": {},
   "source": [
    "This function is used to validate the model while the it is being fitted."
   ]
  },
  {
   "cell_type": "code",
   "execution_count": 11,
   "metadata": {},
   "outputs": [],
   "source": [
    "def validate(model, avloss, inputs, targets):\n",
    "    # make sure we set evaluation mode so that any training specific\n",
    "    # operations are disabled.\n",
    "    model.eval() # evaluation mode\n",
    "    \n",
    "    with torch.no_grad(): # no need to compute gradients wrt. x and t\n",
    "        x = torch.from_numpy(inputs).float()\n",
    "        t = torch.from_numpy(targets).float()\n",
    "        # remember to reshape!\n",
    "        o = model(x).reshape(t.shape)\n",
    "    return avloss(o, t)"
   ]
  },
  {
   "cell_type": "markdown",
   "metadata": {},
   "source": [
    "### Function to execute training loop"
   ]
  },
  {
   "cell_type": "code",
   "execution_count": 12,
   "metadata": {},
   "outputs": [],
   "source": [
    "def train(model, optimizer, avloss, getbatch,\n",
    "          train_x, train_t, \n",
    "          valid_x, valid_t,\n",
    "          batch_size, \n",
    "          n_iterations, traces, \n",
    "          step=50):\n",
    "    \n",
    "    # to keep track of average losses\n",
    "    xx, yy_t, yy_v = traces\n",
    "    \n",
    "    n = len(valid_x)\n",
    "    \n",
    "    print('Iteration vs average loss')\n",
    "    print(\"%10s\\t%10s\\t%10s\" % \\\n",
    "          ('iteration', 'train-set', 'valid-set'))\n",
    "    \n",
    "    for ii in range(n_iterations):\n",
    "\n",
    "        # set mode to training so that training specific \n",
    "        # operations such as dropout are enabled.\n",
    "        model.train()\n",
    "        \n",
    "        # get a random sample (a batch) of data (as numpy arrays)\n",
    "        batch_x, batch_t = getbatch(train_x, train_t, batch_size)\n",
    "        \n",
    "        # convert the numpy arrays batch_x and batch_t to tensor \n",
    "        # types. The PyTorch tensor type is the magic that permits \n",
    "        # automatic differentiation with respect to parameters. \n",
    "        # However, since we do not need to take the derivatives\n",
    "        # with respect to x and t, we disable this feature\n",
    "        with torch.no_grad(): # no need to compute gradients \n",
    "            # wrt. x and t\n",
    "            x = torch.from_numpy(batch_x).float()\n",
    "            t = torch.from_numpy(batch_t).float()      \n",
    "\n",
    "        # compute the output of the model for the batch of data x\n",
    "        # Note: outputs is \n",
    "        #   of shape (-1, 1), but the tensor targets, t, is\n",
    "        #   of shape (-1,)\n",
    "        # In order for the tensor operations with outputs and t\n",
    "        # to work correctly, it is necessary that they have the\n",
    "        # same shape. We can do this with the reshape method.\n",
    "        outputs = model(x).reshape(t.shape)\n",
    "   \n",
    "        # compute a noisy approximation to the average loss\n",
    "        empirical_risk = avloss(outputs, t)\n",
    "        \n",
    "        # use automatic differentiation to compute a \n",
    "        # noisy approximation of the local gradient\n",
    "        optimizer.zero_grad()       # clear previous gradients\n",
    "        empirical_risk.backward()   # compute gradients\n",
    "        \n",
    "        # finally, advance one step in the direction of steepest \n",
    "        # descent, using the noisy local gradient. \n",
    "        optimizer.step()            # move one step\n",
    "        \n",
    "        if ii % step == 0:\n",
    "            \n",
    "            acc_t = validate(model, avloss, train_x[:n], train_t[:n]) \n",
    "            acc_v = validate(model, avloss, valid_x[:n], valid_t[:n])\n",
    "\n",
    "            if len(xx) < 1:\n",
    "                xx.append(0)\n",
    "                print(\"%10d\\t%10.6f\\t%10.6f\" % \\\n",
    "                      (xx[-1], acc_t, acc_v))\n",
    "            else:\n",
    "                xx.append(xx[-1] + step)\n",
    "                print(\"\\r%10d\\t%10.6f\\t%10.6f\" % \\\n",
    "                      (xx[-1], acc_t, acc_v), end='')\n",
    "                \n",
    "            yy_t.append(acc_t)\n",
    "            yy_v.append(acc_v)\n",
    "    print()      \n",
    "    return (xx, yy_t, yy_v)"
   ]
  },
  {
   "cell_type": "code",
   "execution_count": 13,
   "metadata": {},
   "outputs": [],
   "source": [
    "def plot_average_loss(traces):\n",
    "    \n",
    "    xx, yy_t, yy_v = traces\n",
    "    \n",
    "    # create an empty figure\n",
    "    fig = plt.figure(figsize=(5, 5))\n",
    "    fig.tight_layout()\n",
    "    \n",
    "    # add a subplot to it\n",
    "    nrows, ncols, index = 1,1,1\n",
    "    ax  = fig.add_subplot(nrows,ncols,index)\n",
    "\n",
    "    ax.set_title(\"Average loss\")\n",
    "    \n",
    "    ax.plot(xx, yy_t, 'b', lw=2, label='Training')\n",
    "    ax.plot(xx, yy_v, 'r', lw=2, label='Validation')\n",
    "\n",
    "    ax.set_xlabel('Iterations', fontsize=FONTSIZE)\n",
    "    ax.set_ylabel('average loss', fontsize=FONTSIZE)\n",
    "    ax.set_xscale('log')\n",
    "    ax.set_yscale('log')\n",
    "    ax.grid(True, which=\"both\", linestyle='-')\n",
    "    ax.legend(loc='upper right')\n",
    "\n",
    "    plt.show()"
   ]
  },
  {
   "cell_type": "markdown",
   "metadata": {
    "id": "NJC916BU-9L6"
   },
   "source": [
    "### Define model $f(\\mathbf{x}, \\theta)$"
   ]
  },
  {
   "cell_type": "code",
   "execution_count": 14,
   "metadata": {},
   "outputs": [
    {
     "name": "stdout",
     "output_type": "stream",
     "text": [
      "Writing dnnmodel2.py\n"
     ]
    }
   ],
   "source": [
    "%%writefile dnnmodel2.py\n",
    "\n",
    "import torch\n",
    "import torch.nn as nn\n",
    "\n",
    "class Model(nn.Module):\n",
    "    \n",
    "    def __init__(self, n_inputs=4, n_nodes=20, n_layers=5):\n",
    "\n",
    "        # call constructor of base (or super, or parent) class\n",
    "        super(Model, self).__init__()\n",
    "\n",
    "        self.layers = []\n",
    "        \n",
    "        # create input layer\n",
    "        self.layer0 = nn.Linear(n_inputs, n_nodes)\n",
    "        self.layers.append(self.layer0)\n",
    "\n",
    "        # create \"hidden\" layers\n",
    "        for l in range(1, n_layers):\n",
    "            cmd = 'self.layer%d = nn.Linear(%d, %d)' % \\\n",
    "            (l, n_nodes, n_nodes)\n",
    "            exec(cmd)\n",
    "            cmd = 'self.layers.append(self.layer%d)' % l\n",
    "            exec(cmd)\n",
    "          \n",
    "        # create output layer\n",
    "        cmd = 'self.layer%d = nn.Linear(%d, 1)' % (n_layers, n_nodes)\n",
    "        exec(cmd)\n",
    "        cmd = 'self.layers.append(self.layer%d)' % n_layers\n",
    "        exec(cmd)\n",
    "\n",
    "    # define (required) method to compute output of network\n",
    "    def forward(self, x):\n",
    "        y = x\n",
    "        for layer in self.layers[:-1]:\n",
    "            y = layer(y)\n",
    "            y = torch.relu(y)\n",
    "        y = self.layers[-1](y)\n",
    "        y = torch.sigmoid(y)\n",
    "        return y\n"
   ]
  },
  {
   "cell_type": "markdown",
   "metadata": {},
   "source": [
    "### Train!"
   ]
  },
  {
   "cell_type": "markdown",
   "metadata": {
    "id": "e8R55NgQL4EC"
   },
   "source": [
    "Instantiate model and an optimizer, then train"
   ]
  },
  {
   "cell_type": "code",
   "execution_count": 15,
   "metadata": {},
   "outputs": [
    {
     "name": "stdout",
     "output_type": "stream",
     "text": [
      "Model(\n",
      "  (layer0): Linear(in_features=4, out_features=20, bias=True)\n",
      "  (layer1): Linear(in_features=20, out_features=20, bias=True)\n",
      "  (layer2): Linear(in_features=20, out_features=20, bias=True)\n",
      "  (layer3): Linear(in_features=20, out_features=20, bias=True)\n",
      "  (layer4): Linear(in_features=20, out_features=20, bias=True)\n",
      "  (layer5): Linear(in_features=20, out_features=1, bias=True)\n",
      ")\n"
     ]
    }
   ],
   "source": [
    "import dnnmodel2\n",
    "importlib.reload(dnnmodel2)\n",
    "model = dnnmodel2.Model()\n",
    "print(model)\n",
    "\n",
    "learning_rate = 1.e-3\n",
    "optimizer     = torch.optim.Adam(model.parameters(), \n",
    "                                 lr=learning_rate) \n",
    "\n",
    "traces = ([], [], [])\n",
    "traces_step = 10"
   ]
  },
  {
   "cell_type": "code",
   "execution_count": 16,
   "metadata": {},
   "outputs": [
    {
     "name": "stdout",
     "output_type": "stream",
     "text": [
      "Iteration vs average loss\n",
      " iteration\t train-set\t valid-set\n",
      "         0\t  0.256451\t  0.256328\n",
      "     19990\t  0.053432\t  0.055704\n",
      "Iteration vs average loss\n",
      " iteration\t train-set\t valid-set\n",
      "     29990\t  0.053573\t  0.055287\n"
     ]
    },
    {
     "data": {
      "image/png": "[encoded data removed]",
      "text/plain": [
       "<Figure size 360x360 with 1 Axes>"
      ]
     },
     "metadata": {
      "needs_background": "light"
     },
     "output_type": "display_data"
    }
   ],
   "source": [
    "n_batch       = 50\n",
    "n_iterations  = 20000\n",
    "\n",
    "traces = train(model, optimizer, average_loss,\n",
    "               get_batch,\n",
    "               train_x, train_t, \n",
    "               valid_x, valid_t,\n",
    "               n_batch, \n",
    "               n_iterations,\n",
    "               traces,\n",
    "               step=traces_step)\n",
    "\n",
    "n_batch       = 500\n",
    "n_iterations  = 10000\n",
    "\n",
    "traces = train(model, optimizer, average_loss,\n",
    "               get_batch,\n",
    "               train_x, train_t, \n",
    "               valid_x, valid_t,\n",
    "               n_batch, \n",
    "               n_iterations,\n",
    "               traces,\n",
    "               step=traces_step)\n",
    "\n",
    "plot_average_loss(traces)"
   ]
  },
  {
   "cell_type": "code",
   "execution_count": 17,
   "metadata": {},
   "outputs": [],
   "source": [
    "def usemodel(nu, N, M,\n",
    "             xbins=XBINS,\n",
    "             xmin=XMIN,\n",
    "             xmax=XMAX):\n",
    "    \n",
    "    xstep = (xmax-xmin) / xbins\n",
    "    bb    = np.arange(xmin, xmax+xstep, xstep)\n",
    "    X     = (bb[1:] + bb[:-1])/2\n",
    "    X     = torch.Tensor([[x, nu, N, M] for x in X])\n",
    "    \n",
    "    model.eval()\n",
    "    return model(X).detach().numpy(), bb"
   ]
  },
  {
   "cell_type": "code",
   "execution_count": 20,
   "metadata": {},
   "outputs": [
    {
     "name": "stdout",
     "output_type": "stream",
     "text": [
      "saving.. fig_model_vs_DL_nonMLE.png\n"
     ]
    },
    {
     "data": {
      "image/png": "[encoded data removed]",
      "text/plain": [
       "<Figure size 720x432 with 6 Axes>"
      ]
     },
     "metadata": {
      "needs_background": "light"
     },
     "output_type": "display_data"
    }
   ],
   "source": [
    "plot_data(NU, D, \n",
    "          func=usemodel, \n",
    "          gfile='fig_model_vs_DL_%s.png' % WHICH) "
   ]
  },
  {
   "cell_type": "code",
   "execution_count": null,
   "metadata": {},
   "outputs": [],
   "source": []
  }
 ],
 "metadata": {
  "accelerator": "GPU",
  "colab": {
   "collapsed_sections": [],
   "name": "DRL_19_REINFORCE_Algorithm.ipynb",
   "provenance": []
  },
  "kernelspec": {
   "display_name": "Python 3 (ipykernel)",
   "language": "python",
   "name": "python3"
  },
  "language_info": {
   "codemirror_mode": {
    "name": "ipython",
    "version": 3
   },
   "file_extension": ".py",
   "mimetype": "text/x-python",
   "name": "python",
   "nbconvert_exporter": "python",
   "pygments_lexer": "ipython3",
   "version": "3.7.7"
  }
 },
 "nbformat": 4,
 "nbformat_minor": 4
}
