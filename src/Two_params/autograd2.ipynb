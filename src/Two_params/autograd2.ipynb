{
 "cells": [
  {
   "cell_type": "markdown",
   "id": "608d7fa3-3c37-455e-a12a-7396190f6cae",
   "metadata": {},
   "source": [
    "# Table of Contents\n",
    "\n",
    "### 1) Understanding Gradient Descent - Single and Multiple\n",
    "### 2) Understanding Batchsize\n",
    "### 3) Implementing Loss Function, Gradient Descent, Batchsize and Training from Scratch\n",
    "### 4) Autograd Within Pytorch\n",
    "### 5) Applications of SGD, Autograd and Loss Functions to our Project"
   ]
  },
  {
   "cell_type": "code",
   "execution_count": 5,
   "id": "051def04-6420-4753-ba8b-a4260d213189",
   "metadata": {},
   "outputs": [],
   "source": [
    "import numpy as np\n",
    "import scipy as sp\n",
    "import scipy.stats as st\n",
    "import torch\n",
    "from sklearn.preprocessing import StandardScaler\n",
    "from sklearn.model_selection import train_test_split\n",
    "import matplotlib as mp\n",
    "mp.rcParams['agg.path.chunksize'] = 10000\n",
    "import matplotlib.pyplot as plt\n",
    "# force inline plots\n",
    "# %matplotlib inline\n",
    "plt.style.use('seaborn-deep')\n",
    "import torch.nn as nn\n",
    "import copy\n",
    "import pandas as pd\n",
    "import sys\n",
    "import os\n",
    "import utils\n",
    "import joblib as jb\n",
    "\n",
    "# update fonts\n",
    "FONTSIZE = 18\n",
    "plt.rcParams.update({\n",
    "    \"text.usetex\": True,\n",
    "    \"font.family\": \"serif\",\n",
    "    \"font.size\":FONTSIZE,\n",
    "})\n",
    "\n",
    "# set a seed to ensure reproducibility\n",
    "# seed = 128\n",
    "# rnd  = np.random.RandomState(seed)\n",
    "    \n",
    "import random"
   ]
  },
  {
   "cell_type": "markdown",
   "id": "a48459bd-619a-4953-aa80-e5f401bffaec",
   "metadata": {
    "tags": []
   },
   "source": [
    "### Undestanding SGD: one parameter\n",
    "\n",
    "Suppose we have 3 observed datapoints: 3 x points and 3 y points $\\{ \\mathbf{x}, \\mathbf{y} \\}$ and we want to fit a model that will reveal the relationship between x and y. We must start with a hypothesis for the output (y) given input $x$. The simplest hypothesis, or model is \n",
    "\n",
    "$$model(x) =f(x) = w_1 x,$$ \n",
    "where $w_1$ is a weight (just a parameter). we then need to define a loss function $L(w_1)$ which measures how good or bad the parameter $w_1$ is given observed values $x$. The simplest loss is quadratic (mean square error)  loss\n",
    "\n",
    "$$L(w_1) = \\frac{1}{2} \\sum_{i=1}^{n_{points}=3} (w_1 x_i -y_i)^2 $$\n",
    "\n",
    "The lower the loss function, the better our model at predicting the relationship between $x$ and $y$ (since lower loss function means $model(x) \\approx y$). Now the goal is to find the value of $w_1$ that leads to the minimum value of the loss function, in otherwords we want\n",
    "\n",
    "$$\\text{argmin}_{w_1} L(w_1)$$\n",
    "\n",
    "For example, you can imagine for this example plotting $L(w_1)$ vs $w_1$, which will be a parabola, and the lowest value of $L(w_1)$ will be given by solving $\\frac{\\partial L(w_1)}{\\partial w_1} = 0$. You can imagine that since it's a parabola, left of the minimum the slope will be negative and to the right of the minimum the slope is positive. The general algorithm is\n",
    "\n",
    "$$ w_1 \\leftarrow w_1 - \\alpha \\frac{\\partial L(w_1)}{\\partial w_1} $$\n",
    "\n",
    "Where $\\alpha$ is the learning rate, which tells us how bug each step is. Therefore SGD tells us that if the slope is negative we should go to the right and if the slope is positive we should go to the left; this is implemented by the negative sign above. \n",
    "\n",
    "The derivative has to be done with the chain rule of course\n",
    "\n",
    "$$\\frac{\\partial L(w_1)}{\\partial w_1} = \\frac{1}{2} \\sum_{i=1}^{n_{points}}  [ 2 (w_1 x_i -y_i) \\times \\frac{\\partial}{\\partial w_1} (w_1 x_i -y_i)] = \\sum_{i=1}^{n_{points}} (w_1 x_i -y_i) x_i$$\n",
    "\n",
    "### Undestanding SGD: multi parameter\n",
    "\n",
    "For the general case in which we have multiple, i.e. a vector of parameters $\\mathbf{w}=\\left[\\begin{array}{c}\n",
    "w_{1} \\\\\n",
    "w_{2} \\\\\n",
    "\\vdots \\\\\n",
    "w_{m}\n",
    "\\end{array}\\right]$\n",
    "we have to take the gradient $\\nabla_w L(\\mathbf{w})=\\left[\\begin{array}{c}\n",
    "\\frac{\\partial L(\\mathbf{w})}{\\partial w_{1}} \\\\\n",
    "\\frac{\\partial L(\\mathbf{w})}{\\partial w_{2}} \\\\\n",
    "\\vdots \\\\\n",
    "\\frac{\\partial L(\\mathbf{w})}{\\partial w_{m}}\n",
    "\\end{array}\\right]$\n",
    "\n",
    "So that the general SGD algorithm is \n",
    "\n",
    "$$\\mathbf{w} \\leftarrow \\mathbf{w} - \\alpha \\nabla_{\\mathbf{w}} L(\\mathbf{w})$$\n",
    "\n",
    "If we have lots of samples, we might not be able to compute the gradient for the entire dataset, so the way to solve this is to divide the data into smaller parts called \"batches\", and we find the gradient of one batch, before moving on to the next batch, until we traverse the entire dataset. When we traverse the entire dataset, this is called one \"epoch\". We keep trainig for multiple epochs to get the best results.\n"
   ]
  },
  {
   "cell_type": "markdown",
   "id": "21ce7924-980a-4bb4-95ff-9d6bb815deb4",
   "metadata": {
    "tags": []
   },
   "source": [
    "# Autograd\n",
    "\n",
    "In order to implement SGD, we must be able to take the gradient with respect to the weights. Here we review how to do that in pytorch.\n",
    "\n",
    "Suppose we have a multivariate function $f(\\mathbf{x})$, wheren the input to the function is an $n$-dimensional vector $\\mathbf{x}=[x_1, x_2, ..., x_n]^T$, and the output is a scalar. Then\n",
    "The gradiant of function $f(\\mathbf{x})$ with respect to $\\mathbf{x}$ is \n",
    "$$ \\nabla_{\\mathbf{x}} f(\\mathbf{x})=\\left[\\frac{\\partial f(\\mathbf{x})}{\\partial x_{1}}, \\frac{\\partial f(\\mathbf{x})}{\\partial x_{2}}, \\ldots, \\frac{\\partial f(\\mathbf{x})}{\\partial x_{n}}\\right]^{\\top} $$\n",
    "\n",
    "Of course, the gradiant (of a scalar function) will be a vector, and will have the same shape as $\\mathbf{x}$."
   ]
  },
  {
   "cell_type": "code",
   "execution_count": 153,
   "id": "e5ade38c-f63d-479d-b3a9-a09d8773c3cf",
   "metadata": {},
   "outputs": [
    {
     "data": {
      "text/plain": [
       "tensor([0., 1., 2., 3., 4., 5., 6., 7.])"
      ]
     },
     "execution_count": 153,
     "metadata": {},
     "output_type": "execute_result"
    }
   ],
   "source": [
    "x = torch.arange(8.0)\n",
    "x"
   ]
  },
  {
   "cell_type": "markdown",
   "id": "2b92f68b-07e8-4f20-a4bc-086c538919f1",
   "metadata": {},
   "source": [
    "Suppose that $y=2 \\mathbf{x}^{\\top} \\mathbf{x}$, and say we want to differentiate it with respect to the column vector $\\mathbf{x}$. Before we can calculate $\\nabla_\\mathbf{x} y(\\mathbf{x})$ we need a place to store it. "
   ]
  },
  {
   "cell_type": "markdown",
   "id": "8a6f912d-5a3e-48da-9b43-fb07802f9319",
   "metadata": {},
   "source": [
    "It is important that we don't allocate new memory every time we take a derivative with respect to a parameter, since during training we update parameters millions of times so we could run out of memory quickly. Therefore we first have to say that we want to store the gradiants of this vector"
   ]
  },
  {
   "cell_type": "code",
   "execution_count": 154,
   "id": "3c9c7307-dfaf-495c-83a8-f56a4f27aeb3",
   "metadata": {},
   "outputs": [
    {
     "data": {
      "text/plain": [
       "tensor([0., 1., 2., 3., 4., 5., 6., 7.], requires_grad=True)"
      ]
     },
     "execution_count": 154,
     "metadata": {},
     "output_type": "execute_result"
    }
   ],
   "source": [
    "x.requires_grad_(True)\n",
    "x"
   ]
  },
  {
   "cell_type": "code",
   "execution_count": 155,
   "id": "1d4bdc8b-34d2-4946-b8e0-5a00026ad076",
   "metadata": {},
   "outputs": [
    {
     "data": {
      "text/plain": [
       "\u001b[0;31mType:\u001b[0m        property\n",
       "\u001b[0;31mString form:\u001b[0m <property object at 0x7f85acf5ff50>\n",
       "\u001b[0;31mDocstring:\u001b[0m  \n",
       "This attribute is ``None`` by default and becomes a Tensor the first time a call to\n",
       ":func:`backward` computes gradients for ``self``.\n",
       "The attribute will then contain the gradients computed and future calls to\n",
       ":func:`backward` will accumulate (add) gradients into it.\n"
      ]
     },
     "metadata": {},
     "output_type": "display_data"
    }
   ],
   "source": [
    "x.grad?"
   ]
  },
  {
   "cell_type": "code",
   "execution_count": 156,
   "id": "9670d93a-c85e-4f72-8c18-c178d4587d0f",
   "metadata": {},
   "outputs": [],
   "source": [
    "x.grad#default is none as expected"
   ]
  },
  {
   "cell_type": "code",
   "execution_count": 157,
   "id": "9e135768-0488-4c8a-b71f-0fcc97278964",
   "metadata": {},
   "outputs": [
    {
     "data": {
      "text/plain": [
       "tensor(280., grad_fn=<MulBackward0>)"
      ]
     },
     "execution_count": 157,
     "metadata": {},
     "output_type": "execute_result"
    }
   ],
   "source": [
    "y = 2 * torch.dot(x, x)\n",
    "y"
   ]
  },
  {
   "cell_type": "markdown",
   "id": "4811141d-ff98-4dc0-9d48-bf47565620a8",
   "metadata": {},
   "source": [
    "Next, we can automatically calculate the gradient of y with respect to each component of x,$\\nabla_\\mathbf{x} y(\\mathbf{x})$, by calling the function for backpropagation and printing the gradient."
   ]
  },
  {
   "cell_type": "code",
   "execution_count": 158,
   "id": "15f08d73-6e23-4d49-b82c-bd86c1c8b114",
   "metadata": {},
   "outputs": [
    {
     "data": {
      "text/plain": [
       "tensor([ 0.,  4.,  8., 12., 16., 20., 24., 28.])"
      ]
     },
     "execution_count": 158,
     "metadata": {},
     "output_type": "execute_result"
    }
   ],
   "source": [
    "y.backward()\n",
    "x.grad"
   ]
  },
  {
   "cell_type": "code",
   "execution_count": 159,
   "id": "5dd6b2cd-5c14-426f-89a3-ac016f1e9d9f",
   "metadata": {},
   "outputs": [
    {
     "data": {
      "text/plain": [
       "tensor([0., 1., 2., 3., 4., 5., 6., 7.], requires_grad=True)"
      ]
     },
     "execution_count": 159,
     "metadata": {},
     "output_type": "execute_result"
    }
   ],
   "source": [
    "x"
   ]
  },
  {
   "cell_type": "markdown",
   "id": "ec61ba75-665e-44be-aa6a-538233428297",
   "metadata": {},
   "source": [
    "Since $y=2 \\mathbf{x}^{\\top} \\mathbf{x}$, $\\nabla_\\mathbf{x} y(\\mathbf{x})=4 \\mathbf{x}$. Let's verify that pytorch calculated the gradient correctly"
   ]
  },
  {
   "cell_type": "code",
   "execution_count": 160,
   "id": "14be206d-44ae-43cb-8071-4e5fb730ee35",
   "metadata": {},
   "outputs": [
    {
     "data": {
      "text/plain": [
       "tensor([True, True, True, True, True, True, True, True])"
      ]
     },
     "execution_count": 160,
     "metadata": {},
     "output_type": "execute_result"
    }
   ],
   "source": [
    "x.grad == 4 * x"
   ]
  },
  {
   "cell_type": "code",
   "execution_count": 161,
   "id": "f60588f6-fbcf-4760-8d8d-e6ec9cc623a0",
   "metadata": {},
   "outputs": [
    {
     "data": {
      "text/plain": [
       "tensor([0., 1., 2., 3., 4., 5., 6., 7.], requires_grad=True)"
      ]
     },
     "execution_count": 161,
     "metadata": {},
     "output_type": "execute_result"
    }
   ],
   "source": [
    "# PyTorch accumulates the gradient in default, we need to clear the previous\n",
    "# values\n",
    "x.grad.zero_()\n",
    "x"
   ]
  },
  {
   "cell_type": "code",
   "execution_count": 162,
   "id": "c8c47425-4bc4-4946-a840-2c5c40dfa086",
   "metadata": {},
   "outputs": [],
   "source": [
    "#calculate the gradient of another function"
   ]
  },
  {
   "cell_type": "code",
   "execution_count": 163,
   "id": "dfbe42ac-4b85-4e41-b0f6-3ed90aaff6a8",
   "metadata": {},
   "outputs": [
    {
     "data": {
      "text/plain": [
       "tensor([1., 1., 1., 1., 1., 1., 1., 1.])"
      ]
     },
     "execution_count": 163,
     "metadata": {},
     "output_type": "execute_result"
    }
   ],
   "source": [
    "y = x.sum()#another function\n",
    "y.backward()\n",
    "x.grad"
   ]
  },
  {
   "cell_type": "markdown",
   "id": "1946d0dc-b390-4738-aebc-7de1768c381e",
   "metadata": {},
   "source": [
    "## Detaching from the computational graph\n",
    "\n",
    "Suppose the computational steps are the following:\n",
    "* $y$ is computed as a function of $x$: y=y(x)\n",
    "* $z$ is computed as a function of both $x$ and $y$: $z=z(x,y(x))$\n",
    "* Suppose we want to calculate $\\nabla_x z(x,y)$ and treat $y$ as a constant. We can discard any information about how $y$ was computed by detaching $y$ to $y'$ which discards any information on how $y$ was computed in the computational graph:\n",
    "$$detach[y(x)]=y' \\rightarrow \\nabla_x Z(x,y)|_{y'} = \\nabla_x y' \\ x$$"
   ]
  },
  {
   "cell_type": "markdown",
   "id": "fc1e7861-67d3-479b-b6e4-632c9f4531b8",
   "metadata": {},
   "source": [
    "Concretely, suppose that \n",
    "1. $y(x) = x * x$, and \n",
    "2. $z(x,y)=x * y(x) = x * x* x$ \n",
    "Between steps 1. and 2, we can detach $y$ so that if we calculate the gradiant of $z$ w.r.t. $x$, $y$ will be treated as a constant."
   ]
  },
  {
   "cell_type": "code",
   "execution_count": 165,
   "id": "e2c72a65-a913-4192-8bcc-929eec592575",
   "metadata": {},
   "outputs": [
    {
     "data": {
      "text/plain": [
       "tensor([ 0.,  1.,  4.,  9., 16., 25., 36., 49.], grad_fn=<MulBackward0>)"
      ]
     },
     "execution_count": 165,
     "metadata": {},
     "output_type": "execute_result"
    }
   ],
   "source": [
    "x.grad.zero_()\n",
    "y = x * x\n",
    "y"
   ]
  },
  {
   "cell_type": "code",
   "execution_count": 166,
   "id": "16b3112f-574d-4414-b1d6-add4e3137291",
   "metadata": {},
   "outputs": [
    {
     "data": {
      "text/plain": [
       "tensor([ 0.,  1.,  4.,  9., 16., 25., 36., 49.])"
      ]
     },
     "execution_count": 166,
     "metadata": {},
     "output_type": "execute_result"
    }
   ],
   "source": [
    "y_prime = y.detach()\n",
    "y_prime"
   ]
  },
  {
   "cell_type": "code",
   "execution_count": 167,
   "id": "4d0b8a00-b13b-4bf8-88ad-d46e2e35c70c",
   "metadata": {},
   "outputs": [
    {
     "data": {
      "text/plain": [
       "tensor([  0.,   1.,   8.,  27.,  64., 125., 216., 343.],\n",
       "       grad_fn=<MulBackward0>)"
      ]
     },
     "execution_count": 167,
     "metadata": {},
     "output_type": "execute_result"
    }
   ],
   "source": [
    "z = y_prime * x\n",
    "z"
   ]
  },
  {
   "cell_type": "code",
   "execution_count": 168,
   "id": "d93523eb-d42c-4794-bab5-1a1a1bb14aca",
   "metadata": {},
   "outputs": [],
   "source": [
    "z.sum().backward()"
   ]
  },
  {
   "cell_type": "code",
   "execution_count": 169,
   "id": "0200ef04-0d3d-42b8-85f8-f1a6b06d9851",
   "metadata": {},
   "outputs": [
    {
     "data": {
      "text/plain": [
       "tensor([ 0.,  1.,  4.,  9., 16., 25., 36., 49.])"
      ]
     },
     "execution_count": 169,
     "metadata": {},
     "output_type": "execute_result"
    }
   ],
   "source": [
    "x.grad"
   ]
  },
  {
   "cell_type": "code",
   "execution_count": 170,
   "id": "4a8b1b54-6ab5-4b6f-b039-49796df841e6",
   "metadata": {},
   "outputs": [
    {
     "data": {
      "text/plain": [
       "tensor([ 0.,  1.,  4.,  9., 16., 25., 36., 49.])"
      ]
     },
     "execution_count": 170,
     "metadata": {},
     "output_type": "execute_result"
    }
   ],
   "source": [
    "y_prime"
   ]
  },
  {
   "cell_type": "code",
   "execution_count": 171,
   "id": "8b24e233-55c4-4f30-a208-e37b8134d41b",
   "metadata": {},
   "outputs": [
    {
     "data": {
      "text/plain": [
       "tensor([True, True, True, True, True, True, True, True])"
      ]
     },
     "execution_count": 171,
     "metadata": {},
     "output_type": "execute_result"
    }
   ],
   "source": [
    "y_prime == x.grad"
   ]
  },
  {
   "cell_type": "markdown",
   "id": "cbaea394-1596-4df7-afe5-552bfe4cbe0a",
   "metadata": {},
   "source": [
    "So we verify that $y'$ is the same as $\\nabla_x z = \\nabla_x x * y = y$"
   ]
  },
  {
   "cell_type": "markdown",
   "id": "18bbb485-bf4b-4bf0-bc08-ff6e7d0b0348",
   "metadata": {},
   "source": [
    "We can also invoke backpropagation on $y$ to get $\\nabla_x y = \\nabla_x x * x = 2 * x$"
   ]
  },
  {
   "cell_type": "code",
   "execution_count": 172,
   "id": "d50ad62a-0584-4012-91df-0570f60b1d70",
   "metadata": {},
   "outputs": [
    {
     "data": {
      "text/plain": [
       "tensor([True, True, True, True, True, True, True, True])"
      ]
     },
     "execution_count": 172,
     "metadata": {},
     "output_type": "execute_result"
    }
   ],
   "source": [
    "x.grad.zero_()\n",
    "y.sum().backward()\n",
    "x.grad == 2 * x"
   ]
  },
  {
   "cell_type": "markdown",
   "id": "db1dfd50-9c39-4160-bc10-4836acebd117",
   "metadata": {},
   "source": [
    "-----------"
   ]
  },
  {
   "cell_type": "markdown",
   "id": "747fc498-c3ba-462e-9c60-6abaabd0c983",
   "metadata": {},
   "source": [
    "Good. Now let's apply this to a function"
   ]
  },
  {
   "cell_type": "code",
   "execution_count": 180,
   "id": "1152a66a-ebd4-4db0-9809-e2e1ebb10e57",
   "metadata": {},
   "outputs": [],
   "source": [
    "def f(a):\n",
    "    return 4 * a"
   ]
  },
  {
   "cell_type": "code",
   "execution_count": 179,
   "id": "63f53d3f-8057-4fc0-81d5-ab6bfdabf5b5",
   "metadata": {},
   "outputs": [
    {
     "data": {
      "text/plain": [
       "tensor(-0.6679, requires_grad=True)"
      ]
     },
     "execution_count": 179,
     "metadata": {},
     "output_type": "execute_result"
    }
   ],
   "source": [
    "a = torch.randn(size=(), requires_grad=True)\n",
    "a"
   ]
  },
  {
   "cell_type": "code",
   "execution_count": 181,
   "id": "ab2bb6b7-bc22-4d13-8d07-edd1a7b174fd",
   "metadata": {},
   "outputs": [
    {
     "data": {
      "text/plain": [
       "tensor(-2.6714, grad_fn=<MulBackward0>)"
      ]
     },
     "execution_count": 181,
     "metadata": {},
     "output_type": "execute_result"
    }
   ],
   "source": [
    "f = f(a)\n",
    "f"
   ]
  },
  {
   "cell_type": "markdown",
   "id": "b5453fa9-e9e9-4598-a72f-546df3c37925",
   "metadata": {},
   "source": [
    "Now let's calculate $\\nabla_a f=4$"
   ]
  },
  {
   "cell_type": "code",
   "execution_count": 182,
   "id": "069b8358-ba4b-4f82-af09-f3e13d6702c9",
   "metadata": {},
   "outputs": [
    {
     "data": {
      "text/plain": [
       "tensor(4.)"
      ]
     },
     "execution_count": 182,
     "metadata": {},
     "output_type": "execute_result"
    }
   ],
   "source": [
    "f.backward()\n",
    "a.grad"
   ]
  },
  {
   "cell_type": "code",
   "execution_count": 183,
   "id": "7eea874b-b87e-4b4f-b15c-6ef74c6e6dea",
   "metadata": {},
   "outputs": [
    {
     "data": {
      "text/plain": [
       "tensor(4., grad_fn=<DivBackward0>)"
      ]
     },
     "execution_count": 183,
     "metadata": {},
     "output_type": "execute_result"
    }
   ],
   "source": [
    "# to double check, this is the same as f/a\n",
    "f/a"
   ]
  },
  {
   "cell_type": "markdown",
   "id": "b15c81f8-389e-4059-b61e-f4358fde45c1",
   "metadata": {},
   "source": [
    "With this knowledge in hand, we can implement SGD ourselves for any model"
   ]
  },
  {
   "cell_type": "code",
   "execution_count": 3,
   "id": "3d4179b2-d56a-4730-b195-f682f84bba6a",
   "metadata": {},
   "outputs": [],
   "source": [
    "def sgd(params, lr, batch_size):  \n",
    "    \"\"\"stochastic gradient descent: estimate the gradient of the loss with respect to some parameters params\n",
    "    We then update our parameters in the direction that may reduce the loss\"\"\"\n",
    "    with torch.no_grad():\n",
    "        for param in params:\n",
    "            param -= lr * param.grad / batch_size#we divide by batch_size to normalize\n",
    "            param.grad.zero_()"
   ]
  },
  {
   "cell_type": "markdown",
   "id": "034b5b35-5771-4579-a8b3-5d0fa5f5497f",
   "metadata": {
    "tags": []
   },
   "source": [
    "## Generate Data and implement a simple Linear Regression Model\n",
    "To apply the things we learned, let's sudy the example of a linear regression model, and implement all aspects in the ML chain from scratch."
   ]
  },
  {
   "cell_type": "code",
   "execution_count": 6,
   "id": "cb638be8-b278-48ba-95b0-95368577dfd5",
   "metadata": {},
   "outputs": [
    {
     "data": {
      "text/plain": [
       "tensor([[-1.2737e+00,  1.7328e-01,  1.1156e-01,  2.3508e-01],\n",
       "        [-1.0235e+00, -9.6387e-01,  5.9923e-01, -9.1092e-04],\n",
       "        [-3.0900e+00, -5.8915e-01, -9.3988e-01,  2.0903e-01]])"
      ]
     },
     "execution_count": 6,
     "metadata": {},
     "output_type": "execute_result"
    }
   ],
   "source": [
    "torch.normal(0, 1, (3, 4))#example of generating data in pytorch"
   ]
  },
  {
   "cell_type": "markdown",
   "id": "c010ccf8-e3bd-4a87-8170-0c6c8371ead7",
   "metadata": {},
   "source": [
    "Let's generate data for a linear regression model \n",
    "\n",
    "$$y = w_1 x_1 + w_2 x_2 + b$$\n",
    "\n",
    "where $b$ is the bias. In other words we want the $x$ matrix to have the shape = (nrows,ncolumns) = $ \\text{n_samples} \\times \\text{n_weights}$, so that\n",
    "$$ y = X_{\\{ N_\\text{samples} \\times N_\\text{weights} \\} } \\ \\mathbf{w}_{\\{ N_\\text{weights} \\times 1 \\}}$$"
   ]
  },
  {
   "cell_type": "code",
   "execution_count": 6,
   "id": "cc9b003b-1ca2-4a89-81b5-c64ea1febcf5",
   "metadata": {},
   "outputs": [
    {
     "name": "stdout",
     "output_type": "stream",
     "text": [
      "features =  tensor([[-0.0059,  1.2263],\n",
      "        [-0.2093, -1.1955],\n",
      "        [ 0.8276, -0.3928],\n",
      "        [-1.8760,  0.0204],\n",
      "        [ 0.8637, -0.2863]]) \n",
      "\n",
      " labels=  tensor([[0.0237],\n",
      "        [7.8296],\n",
      "        [7.1975],\n",
      "        [0.3750],\n",
      "        [6.9007]])\n"
     ]
    }
   ],
   "source": [
    "def synthetic_data(w, b, num_examples):  #@save\n",
    "    \"\"\"Generate y = Xw + b + noise.\"\"\"\n",
    "    X = torch.normal(0, 1, (num_examples, len(w)))\n",
    "    y = torch.matmul(X, w) + b\n",
    "    y += torch.normal(0, 0.01, y.shape)# noise term\n",
    "    return X, y.reshape((-1, 1))\n",
    "\n",
    "true_w = torch.tensor([2, -3.4])\n",
    "true_b = 4.2\n",
    "features, labels = synthetic_data(true_w, true_b, 1000)\n",
    "print('features = ', features[:5], '\\n\\n', 'labels= ', labels[:5])"
   ]
  },
  {
   "cell_type": "markdown",
   "id": "d164edef-9e31-4ffa-9454-5e68025f8c9e",
   "metadata": {},
   "source": [
    "## Minibatch\n",
    "The concept of minibatches is fundamental to training any ML model, as discussed the SGD section above. Let's generate data and access them in batches. schematically, the **data_iter** function does the following mapping:\n",
    "\n",
    "**data_iter :** {features, labels, batch_size}  $\\rightarrow$ features[batch_index], labels[batch_index] "
   ]
  },
  {
   "cell_type": "code",
   "execution_count": 8,
   "id": "1cc63ed9-a5e9-4fa6-bc33-3428ba797dd8",
   "metadata": {},
   "outputs": [],
   "source": [
    "def data_iter(batch_size, features, labels):\n",
    "    num_examples = len(features)\n",
    "    indices = list(range(num_examples))\n",
    "    # The examples are read at random, in no particular order\n",
    "    random.shuffle(indices)\n",
    "    for i in range(0, num_examples, batch_size):\n",
    "        batch_indices = torch.tensor(\n",
    "            indices[i: min(i + batch_size, num_examples)])\n",
    "        yield features[batch_indices], labels[batch_indices]\n",
    "        "
   ]
  },
  {
   "cell_type": "code",
   "execution_count": 23,
   "id": "fde29264-6bc7-48de-a0f5-224a6998b165",
   "metadata": {},
   "outputs": [
    {
     "name": "stdout",
     "output_type": "stream",
     "text": [
      "features in one batch =  tensor([[ 0.3043, -0.2010],\n",
      "        [ 1.6679, -0.2868],\n",
      "        [ 1.7942, -0.7574],\n",
      "        [-0.9829,  2.4098],\n",
      "        [-1.3588, -0.8608],\n",
      "        [-1.1160, -0.3118],\n",
      "        [ 0.0735, -0.1023],\n",
      "        [ 1.8569,  0.7529],\n",
      "        [-0.4662,  0.0900],\n",
      "        [ 1.2087,  0.3810]]) \n",
      " labels in one batch=  tensor([[ 5.4823],\n",
      "        [ 8.4956],\n",
      "        [10.3777],\n",
      "        [-5.9581],\n",
      "        [ 4.4028],\n",
      "        [ 3.0308],\n",
      "        [ 4.6812],\n",
      "        [ 5.3460],\n",
      "        [ 2.9653],\n",
      "        [ 5.3138]])\n"
     ]
    }
   ],
   "source": [
    "batch_size = 10\n",
    "\n",
    "for X, y in data_iter(batch_size, features, labels):\n",
    "    print('features in one batch = ', X, '\\n', 'labels in one batch= ',y)\n",
    "    break"
   ]
  },
  {
   "cell_type": "markdown",
   "id": "0910f544-1382-4afc-ad93-b62c5dd5e282",
   "metadata": {},
   "source": [
    "make linear regression model as discussed above\n",
    "$$y = w_1 x_1 + w_2 x_2 + b$$"
   ]
  },
  {
   "cell_type": "code",
   "execution_count": 12,
   "id": "a82bb021-5984-47ea-9426-8e59251b4c49",
   "metadata": {},
   "outputs": [
    {
     "data": {
      "text/plain": [
       "Sequential(\n",
       "  (0): Linear(in_features=2, out_features=1, bias=True)\n",
       ")"
      ]
     },
     "execution_count": 12,
     "metadata": {},
     "output_type": "execute_result"
    }
   ],
   "source": [
    "net = nn.Sequential(nn.Linear(2,1))\n",
    "net"
   ]
  },
  {
   "cell_type": "code",
   "execution_count": 13,
   "id": "cb9ae791-7e96-45a9-8ba6-4bc7da6225fb",
   "metadata": {},
   "outputs": [
    {
     "data": {
      "text/plain": [
       "Parameter containing:\n",
       "tensor([[ 0.6858, -0.2013]], requires_grad=True)"
      ]
     },
     "execution_count": 13,
     "metadata": {},
     "output_type": "execute_result"
    }
   ],
   "source": [
    "net[0].weight#0 is the first layer"
   ]
  },
  {
   "cell_type": "code",
   "execution_count": 14,
   "id": "07a0c4a5-8112-4d13-ad41-e57449216c7e",
   "metadata": {},
   "outputs": [
    {
     "data": {
      "text/plain": [
       "Parameter containing:\n",
       "tensor([0.6469], requires_grad=True)"
      ]
     },
     "execution_count": 14,
     "metadata": {},
     "output_type": "execute_result"
    }
   ],
   "source": [
    "net[0].bias"
   ]
  },
  {
   "cell_type": "markdown",
   "id": "1b5139eb-6e08-47ba-bf51-9dab812231fa",
   "metadata": {},
   "source": [
    "### Define Loss Function\n",
    "Let's use quardatic loss,   function was $L(\\mathbf{w}|x) =  (t - model(x))^2$ Where $t$ is the target."
   ]
  },
  {
   "cell_type": "code",
   "execution_count": 17,
   "id": "653e78de-23df-4389-a53b-f3104ea77971",
   "metadata": {},
   "outputs": [],
   "source": [
    "######################PYTORCH###############\n",
    "loss_pytorch = nn.MSELoss()\n",
    "\n",
    "\n",
    "#################FROM SCRATCH##############\n",
    "def loss_fromscratch(f, t):\n",
    "    # f and t must be of the same shape\n",
    "    return  torch.mean((f - t)**2)\n",
    "\n"
   ]
  },
  {
   "cell_type": "markdown",
   "id": "6984effe-d287-498a-9af4-50d16dc4e884",
   "metadata": {},
   "source": [
    "### Define \"optimizer\", or \"trainer\"\n",
    "\n",
    "This is the thing that implements our optimization algorithm, like SGD. There are so many algorithms for optimization, and Adam has proven to be the most effective for the widest range of models."
   ]
  },
  {
   "cell_type": "code",
   "execution_count": 19,
   "id": "768d7d0e-f7b0-4e01-a7e1-744ddfff553b",
   "metadata": {},
   "outputs": [],
   "source": [
    "learning_rate = 1.e-3\n",
    "\n",
    "optimizer_pytorch = torch.optim.SGD(net.parameters(), lr=learning_rate)\n",
    "    \n",
    "# optimizer     = torch.optim.Adam(model.parameters(), lr=learning_rate) "
   ]
  },
  {
   "cell_type": "markdown",
   "id": "cf63be9c-1f04-4043-85e3-b90dd931219e",
   "metadata": {},
   "source": [
    "Train: train over entire dataset for each epoch"
   ]
  },
  {
   "cell_type": "code",
   "execution_count": 24,
   "id": "525086ac-7c40-45dd-b59f-fe4bd8ddab7b",
   "metadata": {},
   "outputs": [
    {
     "name": "stdout",
     "output_type": "stream",
     "text": [
      "epoch 1, loss 16.948315\n",
      "epoch 2, loss 11.118738\n",
      "epoch 3, loss 7.297488\n"
     ]
    }
   ],
   "source": [
    "n_epochs=3\n",
    "loss = loss_pytorch\n",
    "optimizer = optimizer_pytorch\n",
    "for epoch in range(n_epochs):\n",
    "    for X, y in data_iter(batch_size, features, labels):\n",
    "        l = loss(net(X), y)#compare prediction to targets\n",
    "        optimizer.zero_grad()#empty out the gradients\n",
    "        l.backward()#calculate the gradient of the loss function \n",
    "        optimizer.step()#update the values of the parameters (weights) of model\n",
    "        \n",
    "    l = loss(net(features), labels)\n",
    "    print(f'epoch {epoch+1}, loss {l:f}')"
   ]
  },
  {
   "cell_type": "markdown",
   "id": "798e0782-20e6-4879-bd32-d4643f0b1b10",
   "metadata": {},
   "source": [
    "-------\n",
    "Now, back to out project. Recall that the target, $Z$, is either $0$ or $1$."
   ]
  },
  {
   "cell_type": "code",
   "execution_count": 35,
   "id": "07b60f7e-86b0-48da-a58d-652c3c67f8b0",
   "metadata": {},
   "outputs": [],
   "source": [
    "Bprime    = 10000\n",
    "thetaMin, thetaMax =  0, 10\n",
    "nuMin, nuMax = 0, 10\n",
    "Mmin, Mmax =  0 , 10\n",
    "Nmin, Nmax =  0,10\n",
    "MLE=True\n",
    "def generate_Z_lambda(Bprime, save_data=False):\n",
    "    \"\"\"Generate the training data, that is, features=[theta, nu, N, M], targets=Z\"\"\"\n",
    "    #sample theta and nu from uniform(0,20)\n",
    "    theta = st.uniform.rvs(thetaMin, thetaMax, size=Bprime)\n",
    "    nu = st.uniform.rvs(nuMin, nuMax, size=Bprime)\n",
    "    #n,m ~ F_{\\theta,\\nu}, ie our simulator. sample n from a Poisson with mean theta+nu \n",
    "    n = st.poisson.rvs(theta+ nu, size=Bprime)\n",
    "    #sample m from a poisson with mean nu\n",
    "    m = st.poisson.rvs(nu, size=Bprime)\n",
    "    \n",
    "    #sample our observed counts (N,M), which take the place of D\n",
    "    N = np.random.randint(Nmin, Nmax, size=Bprime)\n",
    "    M = np.random.randint(Mmin, Mmax, size=Bprime)\n",
    "    # print('n=', n)\n",
    "    # print('m=', m)\n",
    "    # print('N=', N)\n",
    "    # print('M=', M)\n",
    "    lambda_gen = utils.lambda_test(theta, n, m, MLE)\n",
    "    # print('lambda_gen= ', lambda_gen)\n",
    "    lambda_D = utils.lambda_test(theta, N, M, MLE)\n",
    "    # print('lambda_D= ', lambda_D)\n",
    "    #if lambda_gen <= lambda_D: Z=1, else Z=0\n",
    "    Z = (lambda_gen <= lambda_D).astype(np.int32)\n",
    "    \n",
    "\n",
    "    return lambda_gen, Z"
   ]
  },
  {
   "cell_type": "code",
   "execution_count": 40,
   "id": "531176c2-bf67-4462-af5e-0d764cbca563",
   "metadata": {
    "tags": []
   },
   "outputs": [
    {
     "data": {
      "text/plain": [
       "Text(0, 0.5, '$Z$')"
      ]
     },
     "execution_count": 40,
     "metadata": {},
     "output_type": "execute_result"
    },
    {
     "data": {
      "image/png": "[encoded data removed]",
      "text/plain": [
       "<Figure size 432x288 with 1 Axes>"
      ]
     },
     "metadata": {
      "needs_background": "light"
     },
     "output_type": "display_data"
    }
   ],
   "source": [
    "lambda_gen, Z = generate_Z_lambda(1000)\n",
    "\n",
    "plt.scatter(lambda_gen, Z)\n",
    "plt.xlabel(r'$\\lambda (\\theta, n, m, \\hat{\\nu}(\\theta))$'); plt.ylabel(r'$Z$')"
   ]
  },
  {
   "cell_type": "markdown",
   "id": "cf45b553-71d1-4c80-82ae-90b195b62b86",
   "metadata": {},
   "source": [
    "And our loss function was $L(t, model) =  (t - model(\\theta, \\nu, n, m))^2$ Where $t$ is the label of $Z$ value."
   ]
  },
  {
   "cell_type": "markdown",
   "id": "b0c7fef3-2147-421b-a479-a446b4bbc20c",
   "metadata": {},
   "source": [
    "\n",
    "\n",
    "Here, with inputs $\\{ \\theta, \\nu, N, M \\}$, if we vary $\\nu$ in the histogram as well as in the model we observe that:\n",
    "1. In the case of MLE, there is insensetivity to $\\nu$.\n",
    "2. for the non-MLE, the probability does depend on $\\nu$"
   ]
  },
  {
   "cell_type": "markdown",
   "id": "1a14334b-8ce4-4ed5-a82b-882c94cb8cd3",
   "metadata": {},
   "source": [
    "However recall that the output of our model is the approxmation $E(Z|\\theta, \\nu, N, M)$ where $\\{ \\theta, \\nu, N, M \\}$ are the input features. Since $\\nu$ is a nuissance parameter, we would like a function $\\lambda(\\theta,\\nu, N,M)$ such that the expectation $E(Z|\\theta, \\nu, N, M)$ is independent of nuissance parameter $\\nu$. One example is that we can impose this condition by\n",
    "\n",
    "$$\\frac{\\partial E(Z|\\theta,\\nu,N,M)}{\\partial \\nu} =0                               \\tag{1}$$\n",
    "for all $\\theta, N,M$. \n",
    "\n",
    "The question then becomes:\n",
    "\n",
    "Can we replace $\\lambda$ by a neural network with the condition above, but this time the neural network has an extra input $\\hat{\\theta}$. That is, the NN woud have $\\{ \\theta, \\nu, N, M, \\hat{\\theta} \\}$ as input. In doing this, wWee hope that:\n",
    "1. If we put $\\hat{\\theta}$ as the MLE ($\\hat{\\theta}_{MLE}$), the NN for $\\lambda$ would reproduce the analytical $\\lambda$. \n",
    "2. We also hope that if we were to put non-MLE $\\hat{\\theta}_{non-MLE}$ the NN would have minimal sensitivity to $\\nu$. \n",
    "\n",
    "This can be done, for example by adding an additional term to the loss function which is proportional to the square of the condition above\n",
    "\n",
    "$$L(t, model) =  (t - model(\\theta, \\hat{\\theta}, \\nu, n, m))^2 + \\frac{\\kappa}{2} \\ \\left\\| \\frac{\\partial model(\\theta,\\nu,\\hat{\\theta},N,M)}{\\partial \\nu} \\right\\|^2 \\tag{2}$$\n",
    "\n",
    "Or\n",
    "$$L(t, model) =  \\left( sigmoid(t) - model(\\theta, \\hat{\\theta}, \\nu, n, m) \\right)^2 + \\frac{\\kappa}{2} \\ \\left\\| \\frac{\\partial model(\\theta,\\nu,\\hat{\\theta},N,M)}{\\partial \\nu} \\right\\|^2 \\tag{2}$$\n",
    "\n",
    "\n",
    "We can impose the condition (1) by the additive term in the loss function (2), where $\\kappa$ is a regularization constant, a non-negative hyperparameter that we can fit using validation data. For $\\kappa=0$ we recover our original loss function. For $\\kappa>0$, we restrict the size of the $L_2$ norm of $\\frac{\\partial model(\\theta,\\nu,\\hat{\\theta},N,M)}{\\partial \\nu}$, i.e. we restrict $\\| \\frac{\\partial model(\\theta,\\nu,\\hat{\\theta},N,M)}{\\partial \\nu} \\|^2$. The factor of $1/2$ is just by convention, since after we take the derivative of the loss function, the $2$ and the $1/2$ cancel out. Also, we use the square norm for computational convenience, it is much easier to compute for vectors than if we keep the square root in there!\n",
    "\n",
    "(Recall that the $L_2$ norm for a vector $\\mathbf{x}$ is like a Euclidean distance, $L_2=\\|\\mathbf{x}\\|_{2}=\\sqrt{\\sum_{i=1}^{n} x_{i}^{2}}$, which is a case f the general $L_p$ norm $\\|\\mathbf{x}\\|_{p}=\\left(\\sum_{i=1}^{n}\\left|x_{i}\\right|^{p}\\right)^{1 / p}$. Further, norms are functions that tell us how big a vector is, so by adding $\\left\\| \\frac{\\partial model(\\theta,\\nu,\\hat{\\theta},N,M)}{\\partial \\nu} \\right|^2$ we are restricting the size of $\\frac{\\partial model(\\theta,\\nu,\\hat{\\theta},N,M)}{\\partial \\nu}$ .)\n",
    "\n",
    "The intuition for this is that if we have those two terms in the loss function, and we minimize w.r.t those two terms, that we are forcing the gradient descent into parameter space that has minimal sensetivity to $\\nu$. Such that if there exists a statistic $\\hat{\\hat{\\lambda}}$ which is perfectly independent of $\\nu$, even for the non-MLE case, we expect that derivative to be 0 everywhere. \n",
    "\n",
    "-------------\n",
    "### Attempt at implementation\n",
    "\n",
    "Proposed solution:\n",
    "*  initialize values for $\\{ \\theta,\\nu,n,m \\}$, requires_grad=True.\n",
    "* Calculate a simple model (net) at those features, e.g. $model(\\{ \\theta,\\nu,n,m \\})$, requires_grad=True\n",
    "* Detach the calculation of the weights\n",
    "* calculate the gradient of model wrt nu, and use that in the loss function\n",
    "$L(t, model) =  (t - model(\\theta, \\hat{\\theta}, \\nu, n, m))^2 + \\frac{\\kappa}{2} \\ \\left\\| \\frac{\\partial model(\\theta,\\nu,\\hat{\\theta},N,M)}{\\partial \\nu} \\right\\|^2$.\n",
    "* Now allow the calculation of the weights again (attach) and continue with SQG and other parts of the training, keeping in mind that the *step* which is invoked in the training is only with respect to the model parameters (weights) and not $\\nu$.\n",
    "\n",
    "\n",
    "### Let's consider a very simple solution: using a linear regression example\n",
    "\n",
    "$$\\hat{\\mathbf{y}}=\\mathbf{X} \\mathbf{w}+b$$\n",
    "\n",
    "Or, we could try $$\\hat{\\mathbf{y}}=sigmoid(\\mathbf{X} \\mathbf{w}+b)$$ since $\\hat{y}$ is approximating $Z$ which is an indicator function.\n",
    "Most popular loss function in regression is the squared loss \n",
    "$$l^{(i)}(\\mathbf{w}, b)=\\frac{1}{2}\\left(\\hat{y}^{(i)}-y^{(i)}\\right)^{2} + \\frac{\\kappa}{2} \\ \\left\\| \\frac{\\partial \\hat{y}^{(i)}}{\\partial \\nu^{(i)}} \\right\\|^2$$\n",
    "The half is just for convenience to cancel the 2 when we take derivative of the loss function.\n",
    "The empirical risk, or objective function, over the entire dataset of $n$ examples is\n",
    "$$R(\\mathbf{w}, b)=\\frac{1}{n} \\sum_{i=1}^{n} l^{(i)}(\\mathbf{w}, b)$$\n",
    "$$R(\\mathbf{w},b)=\\frac{1}{n} \\sum_{i=1}^{n} \\frac{1}{2}\\left(\\mathbf{w}^{\\top} \\mathbf{x}^{(i)}+b+ \\frac{\\kappa}{2} \\ \\left\\| \\frac{\\partial \\hat{y}^{(i)}}{\\partial \\nu^{(i)}} \\right\\|^2-y^{(i)}\\right)^{2}$$\n",
    "\n",
    "We wish to minimize the training model to find the parameters $\\mathbf{w}^*, b^*$ that minimize the total loss across all training examples\n",
    "$$\\mathbf{w}^{*}, b^{*}=\\underset{\\mathbf{w}, b}{\\operatorname{argmin}} R(\\mathbf{w}, b) .$$\n",
    "\n",
    "\n",
    "Minibatch gradient descient: first randomly sample a monibatch $B$ consisting of a fixed number of training examples. We first randomly initialize $\\mathbf{w}, b$ and then do the following updating\n",
    "$$\n",
    "\\mathbf{w}  \\leftarrow \\mathbf{w}-\\frac{\\eta}{|\\mathcal{B}|} \\sum_{i \\in \\mathcal{B}} \\partial_{\\mathbf{w}} l^{(i)}(\\mathbf{w}, b)=\\mathbf{w}-\\frac{\\eta}{|\\mathcal{B}|} \\sum_{i \\in \\mathcal{B}} \\mathbf{x}^{(i)}\\left(\\mathbf{w}^{\\top} \\mathbf{x}^{(i)}+b+ \\frac{\\kappa}{2} \\ \\left\\| \\frac{\\partial \\hat{y}^{(i)}}{\\partial \\nu^{(i)}} \\right\\|^2-y^{(i)}\\right), $$\n",
    "\n",
    "$$b \\leftarrow b-\\frac{\\eta}{|\\mathcal{B}|} \\sum_{i \\in \\mathcal{B}} \\partial_{b} l^{(i)}(\\mathbf{w}, b)=b-\\frac{\\eta}{|\\mathcal{B}|} \\sum_{i \\in \\mathcal{B}}\\left(\\mathbf{w}^{\\top} \\mathbf{x}^{(i)}+b+ \\frac{\\kappa}{2} \\ \\left\\| \\frac{\\partial \\hat{y}^{(i)}}{\\partial \\nu^{(i)}} \\right\\|^2-y^{(i)}\\right)$$\n",
    "\n",
    "$|\\mathcal{B}|$ represents the number of examples in the minibatch (batchsize), and $\\eta$ is the learning rate.\n",
    "\n",
    "\n",
    "In ML, in order to satisfty constrained optimization, there are several methods that have to do with convexity or penalties. \n",
    "\n",
    "Suppose you want to ensure that the weights $\\mathbf{w}$ do not grow too large, then you add a term like $\\frac{\\lambda}{2} \\|\\mathbf{w} \\|^2 $. This ensures that $\\| \\mathbf{w} \\|^2 -r^2 \\le 0$ for some radius $r$ and adjusting $\\lambda$ allows us to vary the size of $\\mathbf{w}$.\n",
    "\n",
    "Another possibility is through the **forward propagation**. Forward propagation refers to the calculation and storage of intermediate variables from input to output layers. \n",
    "\n",
    "Here, it might be helpful to plot the computational graph to help us visualize the dependencies of operators and variables in the calculation."
   ]
  },
  {
   "cell_type": "markdown",
   "id": "c9516872-97b6-4d1f-bddd-241f212f4d39",
   "metadata": {},
   "source": [
    "### Activation Functions and Their Derivatives"
   ]
  },
  {
   "cell_type": "code",
   "execution_count": 55,
   "id": "6df21202-c08e-4be3-8227-722bdd108c64",
   "metadata": {},
   "outputs": [
    {
     "data": {
      "image/png": "[encoded data removed]",
      "text/plain": [
       "<Figure size 936x504 with 3 Axes>"
      ]
     },
     "metadata": {
      "needs_background": "light"
     },
     "output_type": "display_data"
    }
   ],
   "source": [
    "f, axes = plt.subplots(1, 3, sharey=True, figsize=(13,7))\n",
    "axes = axes.flatten()\n",
    "x = torch.arange(-8.0, 8.0, 0.1, requires_grad=True)\n",
    "########RELU\n",
    "relu = torch.relu(x)\n",
    "axes[0].plot(x.detach(), relu.detach(),label=r'$ReLU(x) \\equiv max(x,0)$')\n",
    "#take derivative\n",
    "relu.backward(torch.ones_like(x), retain_graph=True)\n",
    "axes[0].plot(x.detach(), x.grad, label=r'$\\frac{\\partial \\ ReLU(x)}{\\partial x}$')\n",
    "######SIGMOID\n",
    "sigmoid = torch.sigmoid(x)\n",
    "axes[1].plot(x.detach(), sigmoid.detach(),label=r'Sigmoid $(x)$')\n",
    "# Clear out previous gradients\n",
    "x.grad.data.zero_()\n",
    "#take derivative\n",
    "sigmoid.backward(torch.ones_like(x), retain_graph=True)\n",
    "axes[1].plot(x.detach(), x.grad, label=r'$\\frac{\\partial \\ Sigmoid(x)}{\\partial x}$')\n",
    "###tanh\n",
    "tanh = torch.tanh(x)\n",
    "axes[2].plot(x.detach(), tanh.detach(), label=r'tanh $(x)$')\n",
    "x.grad.data.zero_()\n",
    "tanh.backward(torch.ones_like(x),retain_graph=True)\n",
    "axes[2].plot(x.detach(), x.grad, label=r'$\\frac{\\partial \\ tanh(x)}{\\partial x}$')\n",
    "\n",
    "for ax in axes:\n",
    "    ax.set_xlabel('$x$')\n",
    "    ax.set_ylim(-0.2,2.5)\n",
    "    ax.legend(fontsize=15)"
   ]
  },
  {
   "cell_type": "markdown",
   "id": "966dcbcd-fd9d-40b0-bc2b-a2801a28b645",
   "metadata": {},
   "source": []
  },
  {
   "cell_type": "code",
   "execution_count": 13,
   "id": "3ffe4400-bafe-4174-a67b-f252e1f95d15",
   "metadata": {},
   "outputs": [
    {
     "data": {
      "text/html": [
       "<div>\n",
       "<style scoped>\n",
       "    .dataframe tbody tr th:only-of-type {\n",
       "        vertical-align: middle;\n",
       "    }\n",
       "\n",
       "    .dataframe tbody tr th {\n",
       "        vertical-align: top;\n",
       "    }\n",
       "\n",
       "    .dataframe thead th {\n",
       "        text-align: right;\n",
       "    }\n",
       "</style>\n",
       "<table border=\"1\" class=\"dataframe\">\n",
       "  <thead>\n",
       "    <tr style=\"text-align: right;\">\n",
       "      <th></th>\n",
       "      <th>theta</th>\n",
       "      <th>nu</th>\n",
       "      <th>N</th>\n",
       "      <th>M</th>\n",
       "    </tr>\n",
       "  </thead>\n",
       "  <tbody>\n",
       "    <tr>\n",
       "      <th>0</th>\n",
       "      <td>11.755366</td>\n",
       "      <td>18.032972</td>\n",
       "      <td>4</td>\n",
       "      <td>2</td>\n",
       "    </tr>\n",
       "    <tr>\n",
       "      <th>1</th>\n",
       "      <td>10.864009</td>\n",
       "      <td>15.171221</td>\n",
       "      <td>5</td>\n",
       "      <td>7</td>\n",
       "    </tr>\n",
       "    <tr>\n",
       "      <th>2</th>\n",
       "      <td>1.642570</td>\n",
       "      <td>9.228130</td>\n",
       "      <td>1</td>\n",
       "      <td>1</td>\n",
       "    </tr>\n",
       "    <tr>\n",
       "      <th>3</th>\n",
       "      <td>2.952433</td>\n",
       "      <td>0.052783</td>\n",
       "      <td>0</td>\n",
       "      <td>9</td>\n",
       "    </tr>\n",
       "    <tr>\n",
       "      <th>4</th>\n",
       "      <td>4.697489</td>\n",
       "      <td>18.611853</td>\n",
       "      <td>9</td>\n",
       "      <td>0</td>\n",
       "    </tr>\n",
       "    <tr>\n",
       "      <th>...</th>\n",
       "      <td>...</td>\n",
       "      <td>...</td>\n",
       "      <td>...</td>\n",
       "      <td>...</td>\n",
       "    </tr>\n",
       "    <tr>\n",
       "      <th>509995</th>\n",
       "      <td>8.378316</td>\n",
       "      <td>3.066973</td>\n",
       "      <td>3</td>\n",
       "      <td>4</td>\n",
       "    </tr>\n",
       "    <tr>\n",
       "      <th>509996</th>\n",
       "      <td>12.520709</td>\n",
       "      <td>2.888144</td>\n",
       "      <td>2</td>\n",
       "      <td>5</td>\n",
       "    </tr>\n",
       "    <tr>\n",
       "      <th>509997</th>\n",
       "      <td>2.273833</td>\n",
       "      <td>1.704000</td>\n",
       "      <td>3</td>\n",
       "      <td>2</td>\n",
       "    </tr>\n",
       "    <tr>\n",
       "      <th>509998</th>\n",
       "      <td>17.995255</td>\n",
       "      <td>6.827394</td>\n",
       "      <td>4</td>\n",
       "      <td>3</td>\n",
       "    </tr>\n",
       "    <tr>\n",
       "      <th>509999</th>\n",
       "      <td>10.006750</td>\n",
       "      <td>5.012523</td>\n",
       "      <td>2</td>\n",
       "      <td>4</td>\n",
       "    </tr>\n",
       "  </tbody>\n",
       "</table>\n",
       "<p>510000 rows × 4 columns</p>\n",
       "</div>"
      ],
      "text/plain": [
       "            theta         nu  N  M\n",
       "0       11.755366  18.032972  4  2\n",
       "1       10.864009  15.171221  5  7\n",
       "2        1.642570   9.228130  1  1\n",
       "3        2.952433   0.052783  0  9\n",
       "4        4.697489  18.611853  9  0\n",
       "...           ...        ... .. ..\n",
       "509995   8.378316   3.066973  3  4\n",
       "509996  12.520709   2.888144  2  5\n",
       "509997   2.273833   1.704000  3  2\n",
       "509998  17.995255   6.827394  4  3\n",
       "509999  10.006750   5.012523  2  4\n",
       "\n",
       "[510000 rows x 4 columns]"
      ]
     },
     "execution_count": 13,
     "metadata": {},
     "output_type": "execute_result"
    }
   ],
   "source": [
    "MLE_TRUE_FILE = '../../tutorials/data1.db'\n",
    "MLE_FALSE_FILE = '../../tutorials/data2.db'\n",
    "#For both, Z for the two parameter problem is Z2\n",
    "MLE=True\n",
    "\n",
    "if MLE:\n",
    "    datafile = MLE_TRUE_FILE\n",
    "else:\n",
    "    datafile = MLE_FALSE_FILE\n",
    "    \n",
    "data = jb.load(MLE_FALSE_FILE)\n",
    "features = data[['theta', 'nu', 'N', 'M']]\n",
    "target = data['Z2']\n",
    "features"
   ]
  },
  {
   "cell_type": "code",
   "execution_count": null,
   "id": "8abf169b-8c11-4025-9103-d72882272ac2",
   "metadata": {},
   "outputs": [],
   "source": []
  }
 ],
 "metadata": {
  "kernelspec": {
   "display_name": "Python 3 (ipykernel)",
   "language": "python",
   "name": "python3"
  },
  "language_info": {
   "codemirror_mode": {
    "name": "ipython",
    "version": 3
   },
   "file_extension": ".py",
   "mimetype": "text/x-python",
   "name": "python",
   "nbconvert_exporter": "python",
   "pygments_lexer": "ipython3",
   "version": "3.7.7"
  }
 },
 "nbformat": 4,
 "nbformat_minor": 5
}
