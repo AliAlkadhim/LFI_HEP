{
 "cells": [
  {
   "cell_type": "markdown",
   "id": "59f9647d-d544-4679-8da7-a6d71fa5d29d",
   "metadata": {},
   "source": [
    "Ali Al Kadhim and Harrison B. Prosper <br>\n",
    "Department of Physics, Florida State University <br>\n",
    "Date: 3 May 2022\n",
    "\n",
    "\n",
    "In particle physics, the most important experiment is a counting experiment, represented by a Poisson probability model, where $N$ is the observed count and $\\theta$ is a nuissance parameter, hence the probability model is $P(N|\\theta) = \\text{Poisson}(N,\\theta)$.\n",
    "where the most important parameter is the cross section $\\sigma$, which is related to the mean event count $N = \\sigma \\mathcal{L} +b$. \n",
    "\n",
    "\n",
    "### For the two-parameter problem, $n=\\theta+\\nu$, and the probability model is given by\n",
    "\n",
    "$$p(n,m|\\theta, \\nu) = \\text{Poiss}(n, \\theta+\\nu)\\text{Poiss}(m,\\nu) =L(\\theta, \\nu)= \\frac{e^{-(\\theta+\\nu)} (\\theta+\\nu)^n }{n !} \\ \\frac{e^{-\\nu} \\nu^m}{m !}$$\n",
    "\n",
    "Where $\\nu$ is the nuissance parameter, $\\theta$ is the paramter of interest (for which we want to estimate upper limits). \n",
    "\n",
    "The standard procedure for removal of nuissance parameters is Bayesian marginalization, but in this study we adopt LFI with frequentest methods.\n",
    "\n",
    "In this notebook we generate data comprising the quadruplets $(Z_i, \\theta_i, \\nu_i, N_i, M_i)$ where \n",
    "\n",
    "$\n",
    "\\begin{align}\n",
    "\\theta & \\sim \\textrm{uniform}(0, 20), \\\\\n",
    "\\nu & \\sim \\textrm{uniform}(0, 20), \\\\\n",
    "n & \\sim \\textrm{poisson}(\\theta + \\nu),\\\\\n",
    "m & \\sim \\textrm{poisson}(\\nu),\\\\\n",
    "N & \\sim \\textrm{uniform}(0,10),\\\\\n",
    "M & \\sim \\textrm{uniform}(0, 10), \\textrm{ and } \\\\\n",
    "Z & = I[ \\lambda_{\\textrm{gen}} \\leq \\lambda_D (D, \\theta) ],\n",
    "\\end{align}\n",
    "$\n",
    "\n",
    "where the size of each of these samples is $B'$, $I$ is the indicator function, and $\\lambda_D (D, \\theta)= \\lambda(N, M, \\theta)$."
   ]
  },
  {
   "cell_type": "code",
   "execution_count": 1,
   "id": "692b1d88-f3a7-4d39-ae4f-268dac4837e5",
   "metadata": {},
   "outputs": [
    {
     "ename": "FileNotFoundError",
     "evalue": "No such file or directory: '../images/Algorithm2.jpg'",
     "output_type": "error",
     "traceback": [
      "\u001b[0;31m---------------------------------------------------------------------------\u001b[0m",
      "\u001b[0;31mTypeError\u001b[0m                                 Traceback (most recent call last)",
      "\u001b[0;32m~/anaconda3/lib/python3.7/site-packages/IPython/core/display.py\u001b[0m in \u001b[0;36m_data_and_metadata\u001b[0;34m(self, always_both)\u001b[0m\n\u001b[1;32m   1299\u001b[0m         \u001b[0;32mtry\u001b[0m\u001b[0;34m:\u001b[0m\u001b[0;34m\u001b[0m\u001b[0;34m\u001b[0m\u001b[0m\n\u001b[0;32m-> 1300\u001b[0;31m             \u001b[0mb64_data\u001b[0m \u001b[0;34m=\u001b[0m \u001b[0mb2a_base64\u001b[0m\u001b[0;34m(\u001b[0m\u001b[0mself\u001b[0m\u001b[0;34m.\u001b[0m\u001b[0mdata\u001b[0m\u001b[0;34m)\u001b[0m\u001b[0;34m.\u001b[0m\u001b[0mdecode\u001b[0m\u001b[0;34m(\u001b[0m\u001b[0;34m'ascii'\u001b[0m\u001b[0;34m)\u001b[0m\u001b[0;34m\u001b[0m\u001b[0;34m\u001b[0m\u001b[0m\n\u001b[0m\u001b[1;32m   1301\u001b[0m         \u001b[0;32mexcept\u001b[0m \u001b[0mTypeError\u001b[0m\u001b[0;34m:\u001b[0m\u001b[0;34m\u001b[0m\u001b[0;34m\u001b[0m\u001b[0m\n",
      "\u001b[0;31mTypeError\u001b[0m: a bytes-like object is required, not 'str'",
      "\nDuring handling of the above exception, another exception occurred:\n",
      "\u001b[0;31mFileNotFoundError\u001b[0m                         Traceback (most recent call last)",
      "\u001b[0;32m~/anaconda3/lib/python3.7/site-packages/IPython/core/formatters.py\u001b[0m in \u001b[0;36m__call__\u001b[0;34m(self, obj, include, exclude)\u001b[0m\n\u001b[1;32m    968\u001b[0m \u001b[0;34m\u001b[0m\u001b[0m\n\u001b[1;32m    969\u001b[0m             \u001b[0;32mif\u001b[0m \u001b[0mmethod\u001b[0m \u001b[0;32mis\u001b[0m \u001b[0;32mnot\u001b[0m \u001b[0;32mNone\u001b[0m\u001b[0;34m:\u001b[0m\u001b[0;34m\u001b[0m\u001b[0;34m\u001b[0m\u001b[0m\n\u001b[0;32m--> 970\u001b[0;31m                 \u001b[0;32mreturn\u001b[0m \u001b[0mmethod\u001b[0m\u001b[0;34m(\u001b[0m\u001b[0minclude\u001b[0m\u001b[0;34m=\u001b[0m\u001b[0minclude\u001b[0m\u001b[0;34m,\u001b[0m \u001b[0mexclude\u001b[0m\u001b[0;34m=\u001b[0m\u001b[0mexclude\u001b[0m\u001b[0;34m)\u001b[0m\u001b[0;34m\u001b[0m\u001b[0;34m\u001b[0m\u001b[0m\n\u001b[0m\u001b[1;32m    971\u001b[0m             \u001b[0;32mreturn\u001b[0m \u001b[0;32mNone\u001b[0m\u001b[0;34m\u001b[0m\u001b[0;34m\u001b[0m\u001b[0m\n\u001b[1;32m    972\u001b[0m         \u001b[0;32melse\u001b[0m\u001b[0;34m:\u001b[0m\u001b[0;34m\u001b[0m\u001b[0;34m\u001b[0m\u001b[0m\n",
      "\u001b[0;32m~/anaconda3/lib/python3.7/site-packages/IPython/core/display.py\u001b[0m in \u001b[0;36m_repr_mimebundle_\u001b[0;34m(self, include, exclude)\u001b[0m\n\u001b[1;32m   1288\u001b[0m         \u001b[0;32mif\u001b[0m \u001b[0mself\u001b[0m\u001b[0;34m.\u001b[0m\u001b[0membed\u001b[0m\u001b[0;34m:\u001b[0m\u001b[0;34m\u001b[0m\u001b[0;34m\u001b[0m\u001b[0m\n\u001b[1;32m   1289\u001b[0m             \u001b[0mmimetype\u001b[0m \u001b[0;34m=\u001b[0m \u001b[0mself\u001b[0m\u001b[0;34m.\u001b[0m\u001b[0m_mimetype\u001b[0m\u001b[0;34m\u001b[0m\u001b[0;34m\u001b[0m\u001b[0m\n\u001b[0;32m-> 1290\u001b[0;31m             \u001b[0mdata\u001b[0m\u001b[0;34m,\u001b[0m \u001b[0mmetadata\u001b[0m \u001b[0;34m=\u001b[0m \u001b[0mself\u001b[0m\u001b[0;34m.\u001b[0m\u001b[0m_data_and_metadata\u001b[0m\u001b[0;34m(\u001b[0m\u001b[0malways_both\u001b[0m\u001b[0;34m=\u001b[0m\u001b[0;32mTrue\u001b[0m\u001b[0;34m)\u001b[0m\u001b[0;34m\u001b[0m\u001b[0;34m\u001b[0m\u001b[0m\n\u001b[0m\u001b[1;32m   1291\u001b[0m             \u001b[0;32mif\u001b[0m \u001b[0mmetadata\u001b[0m\u001b[0;34m:\u001b[0m\u001b[0;34m\u001b[0m\u001b[0;34m\u001b[0m\u001b[0m\n\u001b[1;32m   1292\u001b[0m                 \u001b[0mmetadata\u001b[0m \u001b[0;34m=\u001b[0m \u001b[0;34m{\u001b[0m\u001b[0mmimetype\u001b[0m\u001b[0;34m:\u001b[0m \u001b[0mmetadata\u001b[0m\u001b[0;34m}\u001b[0m\u001b[0;34m\u001b[0m\u001b[0;34m\u001b[0m\u001b[0m\n",
      "\u001b[0;32m~/anaconda3/lib/python3.7/site-packages/IPython/core/display.py\u001b[0m in \u001b[0;36m_data_and_metadata\u001b[0;34m(self, always_both)\u001b[0m\n\u001b[1;32m   1301\u001b[0m         \u001b[0;32mexcept\u001b[0m \u001b[0mTypeError\u001b[0m\u001b[0;34m:\u001b[0m\u001b[0;34m\u001b[0m\u001b[0;34m\u001b[0m\u001b[0m\n\u001b[1;32m   1302\u001b[0m             raise FileNotFoundError(\n\u001b[0;32m-> 1303\u001b[0;31m                 \"No such file or directory: '%s'\" % (self.data))\n\u001b[0m\u001b[1;32m   1304\u001b[0m         \u001b[0mmd\u001b[0m \u001b[0;34m=\u001b[0m \u001b[0;34m{\u001b[0m\u001b[0;34m}\u001b[0m\u001b[0;34m\u001b[0m\u001b[0;34m\u001b[0m\u001b[0m\n\u001b[1;32m   1305\u001b[0m         \u001b[0;32mif\u001b[0m \u001b[0mself\u001b[0m\u001b[0;34m.\u001b[0m\u001b[0mmetadata\u001b[0m\u001b[0;34m:\u001b[0m\u001b[0;34m\u001b[0m\u001b[0;34m\u001b[0m\u001b[0m\n",
      "\u001b[0;31mFileNotFoundError\u001b[0m: No such file or directory: '../images/Algorithm2.jpg'"
     ]
    },
    {
     "ename": "FileNotFoundError",
     "evalue": "No such file or directory: '../images/Algorithm2.jpg'",
     "output_type": "error",
     "traceback": [
      "\u001b[0;31m---------------------------------------------------------------------------\u001b[0m",
      "\u001b[0;31mTypeError\u001b[0m                                 Traceback (most recent call last)",
      "\u001b[0;32m~/anaconda3/lib/python3.7/site-packages/IPython/core/display.py\u001b[0m in \u001b[0;36m_data_and_metadata\u001b[0;34m(self, always_both)\u001b[0m\n\u001b[1;32m   1299\u001b[0m         \u001b[0;32mtry\u001b[0m\u001b[0;34m:\u001b[0m\u001b[0;34m\u001b[0m\u001b[0;34m\u001b[0m\u001b[0m\n\u001b[0;32m-> 1300\u001b[0;31m             \u001b[0mb64_data\u001b[0m \u001b[0;34m=\u001b[0m \u001b[0mb2a_base64\u001b[0m\u001b[0;34m(\u001b[0m\u001b[0mself\u001b[0m\u001b[0;34m.\u001b[0m\u001b[0mdata\u001b[0m\u001b[0;34m)\u001b[0m\u001b[0;34m.\u001b[0m\u001b[0mdecode\u001b[0m\u001b[0;34m(\u001b[0m\u001b[0;34m'ascii'\u001b[0m\u001b[0;34m)\u001b[0m\u001b[0;34m\u001b[0m\u001b[0;34m\u001b[0m\u001b[0m\n\u001b[0m\u001b[1;32m   1301\u001b[0m         \u001b[0;32mexcept\u001b[0m \u001b[0mTypeError\u001b[0m\u001b[0;34m:\u001b[0m\u001b[0;34m\u001b[0m\u001b[0;34m\u001b[0m\u001b[0m\n",
      "\u001b[0;31mTypeError\u001b[0m: a bytes-like object is required, not 'str'",
      "\nDuring handling of the above exception, another exception occurred:\n",
      "\u001b[0;31mFileNotFoundError\u001b[0m                         Traceback (most recent call last)",
      "\u001b[0;32m~/anaconda3/lib/python3.7/site-packages/IPython/core/formatters.py\u001b[0m in \u001b[0;36m__call__\u001b[0;34m(self, obj)\u001b[0m\n\u001b[1;32m    343\u001b[0m             \u001b[0mmethod\u001b[0m \u001b[0;34m=\u001b[0m \u001b[0mget_real_method\u001b[0m\u001b[0;34m(\u001b[0m\u001b[0mobj\u001b[0m\u001b[0;34m,\u001b[0m \u001b[0mself\u001b[0m\u001b[0;34m.\u001b[0m\u001b[0mprint_method\u001b[0m\u001b[0;34m)\u001b[0m\u001b[0;34m\u001b[0m\u001b[0;34m\u001b[0m\u001b[0m\n\u001b[1;32m    344\u001b[0m             \u001b[0;32mif\u001b[0m \u001b[0mmethod\u001b[0m \u001b[0;32mis\u001b[0m \u001b[0;32mnot\u001b[0m \u001b[0;32mNone\u001b[0m\u001b[0;34m:\u001b[0m\u001b[0;34m\u001b[0m\u001b[0;34m\u001b[0m\u001b[0m\n\u001b[0;32m--> 345\u001b[0;31m                 \u001b[0;32mreturn\u001b[0m \u001b[0mmethod\u001b[0m\u001b[0;34m(\u001b[0m\u001b[0;34m)\u001b[0m\u001b[0;34m\u001b[0m\u001b[0;34m\u001b[0m\u001b[0m\n\u001b[0m\u001b[1;32m    346\u001b[0m             \u001b[0;32mreturn\u001b[0m \u001b[0;32mNone\u001b[0m\u001b[0;34m\u001b[0m\u001b[0;34m\u001b[0m\u001b[0m\n\u001b[1;32m    347\u001b[0m         \u001b[0;32melse\u001b[0m\u001b[0;34m:\u001b[0m\u001b[0;34m\u001b[0m\u001b[0;34m\u001b[0m\u001b[0m\n",
      "\u001b[0;32m~/anaconda3/lib/python3.7/site-packages/IPython/core/display.py\u001b[0m in \u001b[0;36m_repr_png_\u001b[0;34m(self)\u001b[0m\n\u001b[1;32m   1318\u001b[0m     \u001b[0;32mdef\u001b[0m \u001b[0m_repr_png_\u001b[0m\u001b[0;34m(\u001b[0m\u001b[0mself\u001b[0m\u001b[0;34m)\u001b[0m\u001b[0;34m:\u001b[0m\u001b[0;34m\u001b[0m\u001b[0;34m\u001b[0m\u001b[0m\n\u001b[1;32m   1319\u001b[0m         \u001b[0;32mif\u001b[0m \u001b[0mself\u001b[0m\u001b[0;34m.\u001b[0m\u001b[0membed\u001b[0m \u001b[0;32mand\u001b[0m \u001b[0mself\u001b[0m\u001b[0;34m.\u001b[0m\u001b[0mformat\u001b[0m \u001b[0;34m==\u001b[0m \u001b[0mself\u001b[0m\u001b[0;34m.\u001b[0m\u001b[0m_FMT_PNG\u001b[0m\u001b[0;34m:\u001b[0m\u001b[0;34m\u001b[0m\u001b[0;34m\u001b[0m\u001b[0m\n\u001b[0;32m-> 1320\u001b[0;31m             \u001b[0;32mreturn\u001b[0m \u001b[0mself\u001b[0m\u001b[0;34m.\u001b[0m\u001b[0m_data_and_metadata\u001b[0m\u001b[0;34m(\u001b[0m\u001b[0;34m)\u001b[0m\u001b[0;34m\u001b[0m\u001b[0;34m\u001b[0m\u001b[0m\n\u001b[0m\u001b[1;32m   1321\u001b[0m \u001b[0;34m\u001b[0m\u001b[0m\n\u001b[1;32m   1322\u001b[0m     \u001b[0;32mdef\u001b[0m \u001b[0m_repr_jpeg_\u001b[0m\u001b[0;34m(\u001b[0m\u001b[0mself\u001b[0m\u001b[0;34m)\u001b[0m\u001b[0;34m:\u001b[0m\u001b[0;34m\u001b[0m\u001b[0;34m\u001b[0m\u001b[0m\n",
      "\u001b[0;32m~/anaconda3/lib/python3.7/site-packages/IPython/core/display.py\u001b[0m in \u001b[0;36m_data_and_metadata\u001b[0;34m(self, always_both)\u001b[0m\n\u001b[1;32m   1301\u001b[0m         \u001b[0;32mexcept\u001b[0m \u001b[0mTypeError\u001b[0m\u001b[0;34m:\u001b[0m\u001b[0;34m\u001b[0m\u001b[0;34m\u001b[0m\u001b[0m\n\u001b[1;32m   1302\u001b[0m             raise FileNotFoundError(\n\u001b[0;32m-> 1303\u001b[0;31m                 \"No such file or directory: '%s'\" % (self.data))\n\u001b[0m\u001b[1;32m   1304\u001b[0m         \u001b[0mmd\u001b[0m \u001b[0;34m=\u001b[0m \u001b[0;34m{\u001b[0m\u001b[0;34m}\u001b[0m\u001b[0;34m\u001b[0m\u001b[0;34m\u001b[0m\u001b[0m\n\u001b[1;32m   1305\u001b[0m         \u001b[0;32mif\u001b[0m \u001b[0mself\u001b[0m\u001b[0;34m.\u001b[0m\u001b[0mmetadata\u001b[0m\u001b[0;34m:\u001b[0m\u001b[0;34m\u001b[0m\u001b[0;34m\u001b[0m\u001b[0m\n",
      "\u001b[0;31mFileNotFoundError\u001b[0m: No such file or directory: '../images/Algorithm2.jpg'"
     ]
    },
    {
     "data": {
      "text/plain": [
       "<IPython.core.display.Image object>"
      ]
     },
     "metadata": {},
     "output_type": "display_data"
    }
   ],
   "source": [
    "import numpy as np\n",
    "import scipy as sp\n",
    "import scipy.stats as st\n",
    "import torch\n",
    "from sklearn.preprocessing import StandardScaler\n",
    "from sklearn.model_selection import train_test_split\n",
    "import matplotlib as mp\n",
    "mp.rcParams['agg.path.chunksize'] = 10000\n",
    "import matplotlib.pyplot as plt\n",
    "# force inline plots\n",
    "# %matplotlib inline\n",
    "plt.style.use('seaborn-deep')\n",
    "import torch.nn as nn\n",
    "import copy\n",
    "import pandas as pd\n",
    "import sys\n",
    "import os\n",
    "# update fonts\n",
    "FONTSIZE = 14\n",
    "font = {'family' : 'serif',\n",
    "        'weight' : 'normal',\n",
    "        'size'   : FONTSIZE}\n",
    "mp.rc('font', **font)\n",
    "\n",
    "# set a seed to ensure reproducibility\n",
    "# seed = 128\n",
    "# rnd  = np.random.RandomState(seed)\n",
    "#matplotlib configurations\n",
    "def set_figsize(figsize=(3.5, 2.5)):  \n",
    "    \"\"\"Set the figure size for matplotlib.\"\"\"\n",
    "    use_svg_display()\n",
    "    plt.rcParams['figure.figsize'] = figsize\n",
    "    \n",
    "def set_axes(axes, xlabel, ylabel, xlim, ylim, xscale, yscale, legend):\n",
    "    \"\"\"Set the axes for matplotlib.\"\"\"\n",
    "    axes.set_xlabel(xlabel)\n",
    "    axes.set_ylabel(ylabel)\n",
    "    axes.set_xscale(xscale)\n",
    "    axes.set_yscale(yscale)\n",
    "    axes.set_xlim(xlim)\n",
    "    axes.set_ylim(ylim)\n",
    "    if legend:\n",
    "        axes.legend(legend)\n",
    "    axes.grid()\n",
    "    \n",
    "    \n",
    "def DR(s, theta):\n",
    "    return sp.special.gammainc(s, theta)\n",
    "\n",
    "def DL(s, theta):\n",
    "    return 1 - sp.special.gammainc(s+1, theta)\n",
    "from IPython.display import Image, display\n",
    "algorithm2 = Image('../images/Algorithm2.jpg')\n",
    "display(algorithm2)"
   ]
  },
  {
   "cell_type": "markdown",
   "id": "1bd24ed6-952c-4c78-adac-152610a26a49",
   "metadata": {},
   "source": [
    "# Generate Data:\n",
    "In this notebook we assume that $\\hat{\\theta}$ is given by its MLE. We generate data of size $B'$ according to our probability model:\n",
    "\n",
    "$$P(n,m|\\theta, \\nu) = L(\\theta, \\nu) = \\frac{e^{-(\\theta+\\nu)} (\\theta+\\nu)^n }{n !} \\ \\frac{e^{-\\nu} \\nu^m}{m !}$$\n",
    "\n",
    "Where $\\nu$ is the nuissance parameter, $\\theta$ is the paramter of interest."
   ]
  },
  {
   "cell_type": "markdown",
   "id": "e12ff0cd-5d57-4390-95a6-14332e45dee3",
   "metadata": {},
   "source": [
    "Our test statistic will be:\n",
    "\n",
    "$$ \\lambda = -2 \\log \\frac{L_{\\text{prof}} (n, m, \\theta, \\hat{\\nu}(\\theta))}{L_{\\text{prof}} (n, m, \\hat{\\theta}_{\\text{MLE}}, \\hat{\\nu}(\\theta))}$$\n",
    "\n",
    "Where $L_{\\text{prof}} (n, m, \\theta, \\hat{\\nu}(\\theta))$ is the profiled likelihood. The maximum likelihood estimate of $\\hat{\\theta}$, \n",
    "$$\\hat{\\theta}_{\\text{MLE}}=n-m$$, and\n",
    "\n",
    "$$\\log{p(n,m|\\theta,\\nu)} = -(\\theta+\\nu)+n\\log{(\\theta+\\nu)|-\\nu+m\\log{\\nu}} + \\text{constants}$$\n",
    "The MLE $\\hat{\\nu}(\\theta)$ is attained by solving $\\frac{\\partial \\log{p(n,m|\\theta,\\nu)}}{ \\partial \\nu} =0$ leading to \n",
    "\n",
    "$$\\hat{\\nu}(\\theta)=\\left(g+\\sqrt{g^2 + 8 m \\theta} \\right)/4$$\n",
    "where $g \\equiv n+m-2 \\theta$."
   ]
  },
  {
   "cell_type": "code",
   "execution_count": 4,
   "id": "9c0ccdeb-230c-4596-9465-a4ce073198bd",
   "metadata": {},
   "outputs": [
    {
     "data": {
      "text/plain": [
       "<matplotlib.legend.Legend at 0x7f891ded9190>"
      ]
     },
     "execution_count": 4,
     "metadata": {},
     "output_type": "execute_result"
    },
    {
     "data": {
      "image/png": "[encoded data removed]",
      "text/plain": [
       "<Figure size 432x288 with 1 Axes>"
      ]
     },
     "metadata": {
      "needs_background": "light"
     },
     "output_type": "display_data"
    }
   ],
   "source": [
    "n, m = 3, 7\n",
    "theta, nu = np.arange(0,10,0.01), 3\n",
    "Ln = st.poisson.pmf(n, mu = theta+nu)\n",
    "Lm = st.poisson.pmf(m, mu = nu)\n",
    "L = Ln * Lm\n",
    "plt.scatter(theta , Ln, label=r'$P(n|\\theta, \\nu)$')\n",
    "plt.scatter(theta, L, label=r'$P(n|\\theta, \\nu) P(m|\\nu)$')\n",
    "plt.legend()"
   ]
  },
  {
   "cell_type": "markdown",
   "id": "2f513772-f8f0-4aa6-8a9a-b239085fa248",
   "metadata": {},
   "source": [
    "Compute the profile likelihood $L_{\\text{profile}} = p(n,m|\\theta, \\hat{\\nu}(\\theta) )=L_{\\text{prof}}(n,m,\\theta )$"
   ]
  },
  {
   "cell_type": "code",
   "execution_count": 2,
   "id": "ea1a5be1-b8f4-42d3-89db-6a49f180cb5c",
   "metadata": {},
   "outputs": [],
   "source": [
    "k=1\n",
    "def L_prof(n,m,theta):\n",
    "    k=1\n",
    "    k1 = k+1\n",
    "    k2 = 0.5/k1\n",
    "    g = n+m - k1*theta\n",
    "    nu_hat = k2* (g+ np.sqrt(g*g +4*k1*m*theta))\n",
    "    p1 = st.poisson.pmf(n, mu = theta + nu_hat)\n",
    "    p2 = st.poisson.pmf(m, mu = k * nu_hat)\n",
    "    \n",
    "    return p1*p2"
   ]
  },
  {
   "cell_type": "markdown",
   "id": "3f094f19-a5ce-4cbb-9ef7-6fb1eb56f692",
   "metadata": {},
   "source": [
    "Compute $\\hat{\\theta}$\n",
    "1. MLE: $\\hat{\\theta}(n,m) = n-m$\n",
    "2. non-MLE: $\\hat{\\theta}(n,m)=n-m$ if $n>m$, else $0$\n",
    "\n",
    "Again, in this notebook we use $\\hat{\\theta}_{\\text{MLE}}=\\hat{\\theta}_{\\text{MLE}}(n,m)$"
   ]
  },
  {
   "cell_type": "code",
   "execution_count": 3,
   "id": "f4e1158b-9ed1-4152-b510-c1cdb6b87c43",
   "metadata": {},
   "outputs": [],
   "source": [
    "def theta_hat(n,m, MLE=True):\n",
    "    theta_hat = n-m\n",
    "    \n",
    "    if not MLE:\n",
    "        theta_hat = theta_hat * (theta_hat > 0)\n",
    "    return theta_hat"
   ]
  },
  {
   "cell_type": "markdown",
   "id": "f31fb4e5-83b2-4e56-b0f0-dcf878b5c5aa",
   "metadata": {},
   "source": [
    "Compute \n",
    "$$ \\lambda (\\theta, n, m) = - 2 \\log{\\frac{p(n,m|\\theta, \\hat{\\nu}(\\theta) )}{ p(n,m|\\hat{\\theta}, \\hat{\\nu}(\\theta) )}} = -2 \\log{\\frac{L_{\\text{profile}} (\\theta, \\hat{\\nu}(\\theta))}{L_{\\text{profile}} (\\hat{\\theta}(n,m), \\hat{\\nu}(\\theta))}}$$"
   ]
  },
  {
   "cell_type": "code",
   "execution_count": 4,
   "id": "2936e3b7-9abc-45f0-922f-1ddda53e56c7",
   "metadata": {},
   "outputs": [],
   "source": [
    "def lambda_test(theta, n, m, MLE=True):\n",
    "    Ln = L_prof(n,m,theta)\n",
    "    Ld = L_prof(n,m, theta_hat(n,m, MLE))\n",
    "    lambda_  = -2*np.log(Ln/Ld)\n",
    "    return lambda_"
   ]
  },
  {
   "cell_type": "code",
   "execution_count": 9,
   "id": "8d192f60-83f9-4aae-8a23-c7843d17b965",
   "metadata": {},
   "outputs": [],
   "source": [
    "chi2_exp_size=40\n",
    "\n",
    "def run_sim( theta, nu):\n",
    "    \"\"\"Sample n ~ Pois(theta+nu), m ~ Pois(nu), and compute lambda(theta, n, m)\n",
    "    return (n, m, lambda_), where each are np arrays of length chi2_expo\n",
    "    \"\"\"\n",
    "    n = st.poisson.rvs(theta+nu, size=chi2_exp_size)\n",
    "    m = st.poisson.rvs(nu, size=chi2_exp_size)\n",
    "    lambda_ = lambda_test(theta, n, m, MLE)\n",
    "    return (n, m, lambda_)\n",
    "\n",
    "def run_sims(points):\n",
    "    \"\"\"\n",
    "    input: a tuple of (theta, nu)\n",
    "    Run an entire simulation (that is, generate n and m from \n",
    "    run_sim above, and calculate lambda) for each point, where \n",
    "    \"\"\"\n",
    "    lambda_results=[]\n",
    "\n",
    "    for p in points:\n",
    "        theta, nu = p\n",
    "        n, m, lambda_ = run_sim(theta, nu)\n",
    "        lambda_results.append((n, m, lambda_, theta, nu))\n",
    "        print( '(theta, nu) =  (%.f, %.f) ' % (theta, nu) )\n",
    "        print('\\t \\t with associated (n, m, lambda) = (%.f, %.f, %.f)' % (n, m, lambda_) )\n",
    "    return lambda_results\n",
    "\n",
    "\n",
    "def plot_one(lambda_, theta, nu, ax):\n",
    "    \"\"\"Histogram the CDF of  lambda_t = -2log(Lp(theta)/Lp(theta_hat)), \n",
    "    for a given (fixed) theta and nu.\n",
    "    Also, plot the actual CDF of a chi^2 distribution with 1 free parameter \n",
    "    (since only theta is left after we profile nu) \"\"\"\n",
    "    ftsize = 16\n",
    "    xmin= 0\n",
    "    xmax= 10\n",
    "    ymin= 0\n",
    "    ymax= 1\n",
    "    x_range = (xmin, xmax)\n",
    "    y_range = (ymin, ymax)\n",
    "    ax.set_xlim(x_range)\n",
    "    ax.set_ylim(y_range)\n",
    "    ax.set_xlabel(r'$\\lambda (\\theta, n, m, \\hat{\\nu}(\\theta))$',fontsize=ftsize)\n",
    "    ax.set_ylabel(r'cdf$(\\lambda)$', fontsize=ftsize)\n",
    "    ax.hist(lambda_, bins=5*xmax, range=x_range,\n",
    "    color=(0.8,0.8,0.9),\n",
    "    density=True, cumulative=True,\n",
    "    histtype='stepfilled', edgecolor='black', label=r'CDF$(\\lambda)$')\n",
    "    \n",
    "    x = np.arange(0, xmax, 0.2)\n",
    "    y = st.chi2.cdf(x, 1)\n",
    "    ax.plot(x, y, color='blue',\n",
    "    linewidth=2, label=r'CDF$(\\chi^2_1)$')\n",
    "    # annotate\n",
    "    xwid = (xmax-xmin)/12\n",
    "    ywid = (ymax-ymin)/12\n",
    "    xpos = xmin + xwid/2\n",
    "    ypos = ymin + ywid*2\n",
    "    ax.text(xpos, ypos,\n",
    "    r'$ \\theta = %d, \\nu = %d$' % (theta, nu),\n",
    "    fontsize=ftsize)\n",
    "    ax.legend(loc='upper right',fontsize=10)\n",
    "    \n",
    "def plot_all(results, fgsize=(10,6)):\n",
    "    plt.figure(figsize=fgsize)\n",
    "    fig, ax = plt.subplots(2, 3, figsize=fgsize)\n",
    "    plt.subplots_adjust(hspace=0.01)\n",
    "    plt.subplots_adjust(wspace=0.2)\n",
    "    ax = ax.flatten()\n",
    "    \n",
    "    for i, result in enumerate(results):\n",
    "        n, m, lambda_, theta, nu = result\n",
    "        plot_one(lambda_, theta, nu, ax[i])\n",
    "    for j in range(len(results), len(ax)):\n",
    "        ax[j].set_visible(False)\n",
    "        \n",
    "    plt.tight_layout()\n",
    "    plt.savefig('calibration_lambda.png')\n",
    "    plt.show()\n",
    "    "
   ]
  },
  {
   "cell_type": "code",
   "execution_count": 11,
   "id": "e152ea07-d11b-440d-abc9-b560f9f23363",
   "metadata": {},
   "outputs": [
    {
     "name": "stdout",
     "output_type": "stream",
     "text": [
      "(theta, nu) =  (2, 1) \n",
      "(theta, nu) =  (3, 2) \n",
      "(theta, nu) =  (1, 3) \n",
      "(theta, nu) =  (1, 0) \n",
      "(theta, nu) =  (2, 3) \n",
      "(theta, nu) =  (2, 3) \n"
     ]
    }
   ],
   "source": [
    "MLE=True\n",
    "#generate (theta, nu) points\n",
    "points = [(theta, nu) for theta, nu in \n",
    "          zip(np.random.randint(low=1,high=4,size=6), \n",
    "              np.random.randint(low=0,high=4,size=6))]\n",
    "\n",
    "results = run_sims(points)\n"
   ]
  },
  {
   "cell_type": "code",
   "execution_count": 24,
   "id": "a97c1882-4bb2-412b-a7c8-df65af759c8e",
   "metadata": {},
   "outputs": [
    {
     "name": "stdout",
     "output_type": "stream",
     "text": [
      "first :result = results[1] =  (n, m, theta, nu) =  (  \n",
      " [ 3 10  2  7  7  7  8  5  5  4  9  3  8  7  8  6  2  5  6  2  4  6  5  3\n",
      "  5  5  3  6  6  3  6  3  1  2  9  3  7  9  3  3], \n",
      " [2 0 2 4 0 4 1 2 4 2 5 0 1 2 1 0 3 6 1 4 2 0 2 0 3 4 1 3 2 3 2 1 4 4 0 5 1\n",
      " 1 1 0], \n",
      " [ 0.71793764  7.86294361  1.86125037 -0.          3.70406053 -0.\n",
      "  2.11551488 -0.          0.42779025  0.1590528   0.07223789 -0.\n",
      "  2.11551488  0.47383495  2.11551488  2.31776617  2.75601746  1.39753379\n",
      "  0.64125465  3.71177679  0.1590528   2.31776617 -0.         -0.\n",
      "  0.12163959  0.42779025  0.22705913 -0.          0.12957946  1.35592294\n",
      "  0.12957946  0.22705913  6.28525086  3.71177679  6.47664925  2.90339061\n",
      "  1.30622911  3.02906505  0.22705913 -0.        ], \n",
      " 3, \n",
      " 2)\n"
     ]
    }
   ],
   "source": [
    "n, m, lambda_, theta, nu =results[1]\n",
    "print\n",
    "print(f'first :result = results[1] =  (n, m, lambda, theta, nu) =  (  \\n {n}, \\n {m}, \\n {lambda_}, \\n {theta}, \\n {nu})' )"
   ]
  },
  {
   "cell_type": "code",
   "execution_count": 22,
   "id": "d2c45b84-6534-4c1d-8c11-595f2bbbcb88",
   "metadata": {
    "tags": []
   },
   "outputs": [],
   "source": [
    "# def plot_likelihood_heatmap(size):\n",
    "    \n",
    "    \n",
    "#     theta, nu = np.random.randint(low=0,high=20,size=size), np.random.randint(low=0,high=20,size=size)\n",
    "\n",
    "#     n = st.poisson.rvs(theta+nu, size=size)\n",
    "#     m = st.poisson.rvs(nu, size=size)\n",
    "    \n",
    "#     L_theta_hat_nu_hat_l = []\n",
    "#     theta_hat_l =[]\n",
    "#     for ni, mi in zip(n, m):\n",
    "#         theta_hat_l.append(theta_hat(n,m, MLE))\n",
    "        \n",
    "#         L_theta_hat_nu_hat_l.append(L_prof(n,m, theta_hat(n,m, MLE)))\n",
    "    \n",
    "#     L_theta_hat_nu_hat_l = np.array(L_theta_hat_nu_hat_l)\n",
    "#     theta_hat_l = np.array(theta_hat_l)\n",
    "#     fig, ax0 = plt.subplots()\n",
    "    \n",
    "#     X,Y = np.meshgrid(theta, nu)\n",
    "#     im0 = ax0.pcolormesh(X, Y, L_theta_hat_nu_hat_l, cmap='bwr')\n",
    "#     cbar = fig.colorbar(im0, ax=ax0)\n",
    "#     ax0.set_title(r'$L(\\hat{\\theta}, \\hat{\\nu})$')\n",
    "#     plt.xlabel(r'$\\theta$')\n",
    "#     plt.ylabel(r'$\\nu$')\n",
    "    \n",
    "#     plt.show()\n",
    "    "
   ]
  },
  {
   "cell_type": "code",
   "execution_count": 23,
   "id": "11e61b65-b416-4909-9e6b-476bd93ba0f0",
   "metadata": {
    "tags": []
   },
   "outputs": [],
   "source": [
    "# plot_likelihood_heatmap(1000)"
   ]
  },
  {
   "cell_type": "code",
   "execution_count": 9,
   "id": "5cae789e-b056-485c-b916-3e1f167145a0",
   "metadata": {
    "tags": []
   },
   "outputs": [
    {
     "data": {
      "text/plain": [
       "<Figure size 720x432 with 0 Axes>"
      ]
     },
     "metadata": {},
     "output_type": "display_data"
    },
    {
     "data": {
      "image/png": "[encoded data removed]",
      "text/plain": [
       "<Figure size 720x432 with 6 Axes>"
      ]
     },
     "metadata": {
      "needs_background": "light"
     },
     "output_type": "display_data"
    }
   ],
   "source": [
    "plot_all(results)"
   ]
  },
  {
   "cell_type": "markdown",
   "id": "7454151a-8a52-4316-b06e-799c5aa8b669",
   "metadata": {},
   "source": [
    "Looks like the CDF of a $\\chi^2_{k=1}$, as expected!"
   ]
  },
  {
   "cell_type": "markdown",
   "id": "05ab04c0-ced7-4a62-9044-788ed1049c9a",
   "metadata": {},
   "source": []
  },
  {
   "cell_type": "code",
   "execution_count": 25,
   "id": "53d3916f-1d1b-4b50-9206-51014efc6bcd",
   "metadata": {
    "tags": []
   },
   "outputs": [],
   "source": [
    "Bprime    = 10000000\n",
    "thetaMin, thetaMax =  0, 10\n",
    "nuMin, nuMax = 0, 10\n",
    "Mmin, Mmax =  0 , 10\n",
    "Nmin, Nmax =  0,10\n",
    "MLE=True\n",
    "def generate_training_data(Bprime, save_data=False):\n",
    "    \"\"\"Generate the training data, that is, features=[theta, nu, N, M], targets=Z\"\"\"\n",
    "    #sample theta and nu from uniform(0,20)\n",
    "    theta = st.uniform.rvs(thetaMin, thetaMax, size=Bprime)\n",
    "    nu = st.uniform.rvs(nuMin, nuMax, size=Bprime)\n",
    "    #n,m ~ F_{\\theta,\\nu}, ie our simulator. sample n from a Poisson with mean theta+nu \n",
    "    n = st.poisson.rvs(theta+ nu, size=Bprime)\n",
    "    #sample m from a poisson with mean nu\n",
    "    m = st.poisson.rvs(nu, size=Bprime)\n",
    "    \n",
    "    #sample our observed counts (N,M), which take the place of D\n",
    "    N = np.random.randint(Nmin, Nmax, size=Bprime)\n",
    "    M = np.random.randint(Mmin, Mmax, size=Bprime)\n",
    "    print('n=', n)\n",
    "    print('m=', m)\n",
    "    print('N=', N)\n",
    "    print('M=', M)\n",
    "    lambda_gen = lambda_test(theta, n, m, MLE)\n",
    "    print('lambda_gen= ', lambda_gen)\n",
    "    lambda_D = lambda_test(theta, N, M, MLE)\n",
    "    print('lambda_D= ', lambda_D)\n",
    "    #if lambda_gen <= lambda_D: Z=1, else Z=0\n",
    "    Z = (lambda_gen <= lambda_D).astype(np.int32)\n",
    "    \n",
    "    data_2_param = {'Z' : Z, 'theta' : theta, 'nu': nu, 'N':N, 'M':M}\n",
    "\n",
    "    data_2_param = pd.DataFrame.from_dict(data_2_param)\n",
    "    if save_data:\n",
    "        data_2_param.to_csv('data/two_parameters_N_M_Uniformly_sampled_1M.csv')\n",
    "\n",
    "    print(data_2_param.head())\n",
    "    return data_2_param"
   ]
  },
  {
   "cell_type": "code",
   "execution_count": 26,
   "id": "e921d3bb-d3be-486d-b054-9bdda84f51f2",
   "metadata": {},
   "outputs": [
    {
     "name": "stdout",
     "output_type": "stream",
     "text": [
      "n= [14 17 18 ...  9 12 14]\n",
      "m= [ 5  7  6 ... 10  6  1]\n",
      "N= [0 5 0 ... 6 1 4]\n",
      "M= [4 5 7 ... 2 7 2]\n",
      "lambda_gen=  [1.62725227e-02 1.25047200e-03 4.94148788e-01 ... 1.23488789e-01\n",
      " 2.88543101e-01 4.35096597e+00]\n",
      "lambda_D=  [22.43804702  7.33547452 26.95136639 ...  1.58864038 19.38963149\n",
      "  1.94748917]\n"
     ]
    },
    {
     "ename": "FileNotFoundError",
     "evalue": "[Errno 2] No such file or directory: 'data/two_parameters_N_M_Uniformly_sampled_1M.csv'",
     "output_type": "error",
     "traceback": [
      "\u001b[0;31m---------------------------------------------------------------------------\u001b[0m",
      "\u001b[0;31mFileNotFoundError\u001b[0m                         Traceback (most recent call last)",
      "\u001b[0;32m/tmp/ipykernel_370249/642767444.py\u001b[0m in \u001b[0;36m<module>\u001b[0;34m\u001b[0m\n\u001b[0;32m----> 1\u001b[0;31m \u001b[0mdata_2_param\u001b[0m\u001b[0;34m=\u001b[0m\u001b[0mgenerate_training_data\u001b[0m\u001b[0;34m(\u001b[0m\u001b[0mBprime\u001b[0m\u001b[0;34m,\u001b[0m\u001b[0msave_data\u001b[0m\u001b[0;34m=\u001b[0m\u001b[0;32mTrue\u001b[0m\u001b[0;34m)\u001b[0m\u001b[0;34m\u001b[0m\u001b[0;34m\u001b[0m\u001b[0m\n\u001b[0m",
      "\u001b[0;32m/tmp/ipykernel_370249/2650619614.py\u001b[0m in \u001b[0;36mgenerate_training_data\u001b[0;34m(Bprime, save_data)\u001b[0m\n\u001b[1;32m     33\u001b[0m     \u001b[0mdata_2_param\u001b[0m \u001b[0;34m=\u001b[0m \u001b[0mpd\u001b[0m\u001b[0;34m.\u001b[0m\u001b[0mDataFrame\u001b[0m\u001b[0;34m.\u001b[0m\u001b[0mfrom_dict\u001b[0m\u001b[0;34m(\u001b[0m\u001b[0mdata_2_param\u001b[0m\u001b[0;34m)\u001b[0m\u001b[0;34m\u001b[0m\u001b[0;34m\u001b[0m\u001b[0m\n\u001b[1;32m     34\u001b[0m     \u001b[0;32mif\u001b[0m \u001b[0msave_data\u001b[0m\u001b[0;34m:\u001b[0m\u001b[0;34m\u001b[0m\u001b[0;34m\u001b[0m\u001b[0m\n\u001b[0;32m---> 35\u001b[0;31m         \u001b[0mdata_2_param\u001b[0m\u001b[0;34m.\u001b[0m\u001b[0mto_csv\u001b[0m\u001b[0;34m(\u001b[0m\u001b[0;34m'data/two_parameters_N_M_Uniformly_sampled_1M.csv'\u001b[0m\u001b[0;34m)\u001b[0m\u001b[0;34m\u001b[0m\u001b[0;34m\u001b[0m\u001b[0m\n\u001b[0m\u001b[1;32m     36\u001b[0m \u001b[0;34m\u001b[0m\u001b[0m\n\u001b[1;32m     37\u001b[0m     \u001b[0mprint\u001b[0m\u001b[0;34m(\u001b[0m\u001b[0mdata_2_param\u001b[0m\u001b[0;34m.\u001b[0m\u001b[0mhead\u001b[0m\u001b[0;34m(\u001b[0m\u001b[0;34m)\u001b[0m\u001b[0;34m)\u001b[0m\u001b[0;34m\u001b[0m\u001b[0;34m\u001b[0m\u001b[0m\n",
      "\u001b[0;32m~/anaconda3/lib/python3.7/site-packages/pandas/core/generic.py\u001b[0m in \u001b[0;36mto_csv\u001b[0;34m(self, path_or_buf, sep, na_rep, float_format, columns, header, index, index_label, mode, encoding, compression, quoting, quotechar, line_terminator, chunksize, date_format, doublequote, escapechar, decimal, errors, storage_options)\u001b[0m\n\u001b[1;32m   3480\u001b[0m             \u001b[0mdoublequote\u001b[0m\u001b[0;34m=\u001b[0m\u001b[0mdoublequote\u001b[0m\u001b[0;34m,\u001b[0m\u001b[0;34m\u001b[0m\u001b[0;34m\u001b[0m\u001b[0m\n\u001b[1;32m   3481\u001b[0m             \u001b[0mescapechar\u001b[0m\u001b[0;34m=\u001b[0m\u001b[0mescapechar\u001b[0m\u001b[0;34m,\u001b[0m\u001b[0;34m\u001b[0m\u001b[0;34m\u001b[0m\u001b[0m\n\u001b[0;32m-> 3482\u001b[0;31m             \u001b[0mstorage_options\u001b[0m\u001b[0;34m=\u001b[0m\u001b[0mstorage_options\u001b[0m\u001b[0;34m,\u001b[0m\u001b[0;34m\u001b[0m\u001b[0;34m\u001b[0m\u001b[0m\n\u001b[0m\u001b[1;32m   3483\u001b[0m         )\n\u001b[1;32m   3484\u001b[0m \u001b[0;34m\u001b[0m\u001b[0m\n",
      "\u001b[0;32m~/anaconda3/lib/python3.7/site-packages/pandas/io/formats/format.py\u001b[0m in \u001b[0;36mto_csv\u001b[0;34m(self, path_or_buf, encoding, sep, columns, index_label, mode, compression, quoting, quotechar, line_terminator, chunksize, date_format, doublequote, escapechar, errors, storage_options)\u001b[0m\n\u001b[1;32m   1103\u001b[0m             \u001b[0mformatter\u001b[0m\u001b[0;34m=\u001b[0m\u001b[0mself\u001b[0m\u001b[0;34m.\u001b[0m\u001b[0mfmt\u001b[0m\u001b[0;34m,\u001b[0m\u001b[0;34m\u001b[0m\u001b[0;34m\u001b[0m\u001b[0m\n\u001b[1;32m   1104\u001b[0m         )\n\u001b[0;32m-> 1105\u001b[0;31m         \u001b[0mcsv_formatter\u001b[0m\u001b[0;34m.\u001b[0m\u001b[0msave\u001b[0m\u001b[0;34m(\u001b[0m\u001b[0;34m)\u001b[0m\u001b[0;34m\u001b[0m\u001b[0;34m\u001b[0m\u001b[0m\n\u001b[0m\u001b[1;32m   1106\u001b[0m \u001b[0;34m\u001b[0m\u001b[0m\n\u001b[1;32m   1107\u001b[0m         \u001b[0;32mif\u001b[0m \u001b[0mcreated_buffer\u001b[0m\u001b[0;34m:\u001b[0m\u001b[0;34m\u001b[0m\u001b[0;34m\u001b[0m\u001b[0m\n",
      "\u001b[0;32m~/anaconda3/lib/python3.7/site-packages/pandas/io/formats/csvs.py\u001b[0m in \u001b[0;36msave\u001b[0;34m(self)\u001b[0m\n\u001b[1;32m    241\u001b[0m             \u001b[0merrors\u001b[0m\u001b[0;34m=\u001b[0m\u001b[0mself\u001b[0m\u001b[0;34m.\u001b[0m\u001b[0merrors\u001b[0m\u001b[0;34m,\u001b[0m\u001b[0;34m\u001b[0m\u001b[0;34m\u001b[0m\u001b[0m\n\u001b[1;32m    242\u001b[0m             \u001b[0mcompression\u001b[0m\u001b[0;34m=\u001b[0m\u001b[0mself\u001b[0m\u001b[0;34m.\u001b[0m\u001b[0mcompression\u001b[0m\u001b[0;34m,\u001b[0m\u001b[0;34m\u001b[0m\u001b[0;34m\u001b[0m\u001b[0m\n\u001b[0;32m--> 243\u001b[0;31m             \u001b[0mstorage_options\u001b[0m\u001b[0;34m=\u001b[0m\u001b[0mself\u001b[0m\u001b[0;34m.\u001b[0m\u001b[0mstorage_options\u001b[0m\u001b[0;34m,\u001b[0m\u001b[0;34m\u001b[0m\u001b[0;34m\u001b[0m\u001b[0m\n\u001b[0m\u001b[1;32m    244\u001b[0m         ) as handles:\n\u001b[1;32m    245\u001b[0m \u001b[0;34m\u001b[0m\u001b[0m\n",
      "\u001b[0;32m~/anaconda3/lib/python3.7/site-packages/pandas/io/common.py\u001b[0m in \u001b[0;36mget_handle\u001b[0;34m(path_or_buf, mode, encoding, compression, memory_map, is_text, errors, storage_options)\u001b[0m\n\u001b[1;32m    705\u001b[0m                 \u001b[0mencoding\u001b[0m\u001b[0;34m=\u001b[0m\u001b[0mioargs\u001b[0m\u001b[0;34m.\u001b[0m\u001b[0mencoding\u001b[0m\u001b[0;34m,\u001b[0m\u001b[0;34m\u001b[0m\u001b[0;34m\u001b[0m\u001b[0m\n\u001b[1;32m    706\u001b[0m                 \u001b[0merrors\u001b[0m\u001b[0;34m=\u001b[0m\u001b[0merrors\u001b[0m\u001b[0;34m,\u001b[0m\u001b[0;34m\u001b[0m\u001b[0;34m\u001b[0m\u001b[0m\n\u001b[0;32m--> 707\u001b[0;31m                 \u001b[0mnewline\u001b[0m\u001b[0;34m=\u001b[0m\u001b[0;34m\"\"\u001b[0m\u001b[0;34m,\u001b[0m\u001b[0;34m\u001b[0m\u001b[0;34m\u001b[0m\u001b[0m\n\u001b[0m\u001b[1;32m    708\u001b[0m             )\n\u001b[1;32m    709\u001b[0m         \u001b[0;32melse\u001b[0m\u001b[0;34m:\u001b[0m\u001b[0;34m\u001b[0m\u001b[0;34m\u001b[0m\u001b[0m\n",
      "\u001b[0;31mFileNotFoundError\u001b[0m: [Errno 2] No such file or directory: 'data/two_parameters_N_M_Uniformly_sampled_1M.csv'"
     ]
    }
   ],
   "source": [
    "data_2_param=generate_training_data(Bprime,save_data=True)"
   ]
  },
  {
   "cell_type": "code",
   "execution_count": 27,
   "id": "7c873b6b-8082-4dc9-aae4-f1d6bd2132ab",
   "metadata": {},
   "outputs": [
    {
     "data": {
      "text/html": [
       "<div>\n",
       "<style scoped>\n",
       "    .dataframe tbody tr th:only-of-type {\n",
       "        vertical-align: middle;\n",
       "    }\n",
       "\n",
       "    .dataframe tbody tr th {\n",
       "        vertical-align: top;\n",
       "    }\n",
       "\n",
       "    .dataframe thead th {\n",
       "        text-align: right;\n",
       "    }\n",
       "</style>\n",
       "<table border=\"1\" class=\"dataframe\">\n",
       "  <thead>\n",
       "    <tr style=\"text-align: right;\">\n",
       "      <th></th>\n",
       "      <th>Unnamed: 0</th>\n",
       "      <th>Z</th>\n",
       "      <th>theta</th>\n",
       "      <th>nu</th>\n",
       "      <th>N</th>\n",
       "      <th>M</th>\n",
       "    </tr>\n",
       "  </thead>\n",
       "  <tbody>\n",
       "    <tr>\n",
       "      <th>0</th>\n",
       "      <td>0</td>\n",
       "      <td>1</td>\n",
       "      <td>19.597712</td>\n",
       "      <td>10.387874</td>\n",
       "      <td>5</td>\n",
       "      <td>6</td>\n",
       "    </tr>\n",
       "    <tr>\n",
       "      <th>1</th>\n",
       "      <td>1</td>\n",
       "      <td>1</td>\n",
       "      <td>13.316589</td>\n",
       "      <td>0.052172</td>\n",
       "      <td>1</td>\n",
       "      <td>6</td>\n",
       "    </tr>\n",
       "    <tr>\n",
       "      <th>2</th>\n",
       "      <td>2</td>\n",
       "      <td>1</td>\n",
       "      <td>9.565929</td>\n",
       "      <td>2.031794</td>\n",
       "      <td>3</td>\n",
       "      <td>6</td>\n",
       "    </tr>\n",
       "    <tr>\n",
       "      <th>3</th>\n",
       "      <td>3</td>\n",
       "      <td>1</td>\n",
       "      <td>19.145463</td>\n",
       "      <td>8.600285</td>\n",
       "      <td>9</td>\n",
       "      <td>3</td>\n",
       "    </tr>\n",
       "    <tr>\n",
       "      <th>4</th>\n",
       "      <td>4</td>\n",
       "      <td>0</td>\n",
       "      <td>7.994914</td>\n",
       "      <td>7.861142</td>\n",
       "      <td>8</td>\n",
       "      <td>2</td>\n",
       "    </tr>\n",
       "  </tbody>\n",
       "</table>\n",
       "</div>"
      ],
      "text/plain": [
       "   Unnamed: 0  Z      theta         nu  N  M\n",
       "0           0  1  19.597712  10.387874  5  6\n",
       "1           1  1  13.316589   0.052172  1  6\n",
       "2           2  1   9.565929   2.031794  3  6\n",
       "3           3  1  19.145463   8.600285  9  3\n",
       "4           4  0   7.994914   7.861142  8  2"
      ]
     },
     "execution_count": 27,
     "metadata": {},
     "output_type": "execute_result"
    }
   ],
   "source": [
    "data_2_param=pd.read_csv('TWO_PARAMETERS_TRAINING_DATA_1M.csv')\n",
    "data_2_param.head()"
   ]
  },
  {
   "cell_type": "code",
   "execution_count": 28,
   "id": "cf7fc8df-e925-495a-9fa5-e288b15a30ba",
   "metadata": {},
   "outputs": [
    {
     "data": {
      "text/html": [
       "<div>\n",
       "<style scoped>\n",
       "    .dataframe tbody tr th:only-of-type {\n",
       "        vertical-align: middle;\n",
       "    }\n",
       "\n",
       "    .dataframe tbody tr th {\n",
       "        vertical-align: top;\n",
       "    }\n",
       "\n",
       "    .dataframe thead th {\n",
       "        text-align: right;\n",
       "    }\n",
       "</style>\n",
       "<table border=\"1\" class=\"dataframe\">\n",
       "  <thead>\n",
       "    <tr style=\"text-align: right;\">\n",
       "      <th></th>\n",
       "      <th>theta</th>\n",
       "      <th>nu</th>\n",
       "      <th>N</th>\n",
       "      <th>M</th>\n",
       "    </tr>\n",
       "  </thead>\n",
       "  <tbody>\n",
       "    <tr>\n",
       "      <th>0</th>\n",
       "      <td>19.597712</td>\n",
       "      <td>10.387874</td>\n",
       "      <td>5</td>\n",
       "      <td>6</td>\n",
       "    </tr>\n",
       "    <tr>\n",
       "      <th>1</th>\n",
       "      <td>13.316589</td>\n",
       "      <td>0.052172</td>\n",
       "      <td>1</td>\n",
       "      <td>6</td>\n",
       "    </tr>\n",
       "    <tr>\n",
       "      <th>2</th>\n",
       "      <td>9.565929</td>\n",
       "      <td>2.031794</td>\n",
       "      <td>3</td>\n",
       "      <td>6</td>\n",
       "    </tr>\n",
       "    <tr>\n",
       "      <th>3</th>\n",
       "      <td>19.145463</td>\n",
       "      <td>8.600285</td>\n",
       "      <td>9</td>\n",
       "      <td>3</td>\n",
       "    </tr>\n",
       "    <tr>\n",
       "      <th>4</th>\n",
       "      <td>7.994914</td>\n",
       "      <td>7.861142</td>\n",
       "      <td>8</td>\n",
       "      <td>2</td>\n",
       "    </tr>\n",
       "    <tr>\n",
       "      <th>...</th>\n",
       "      <td>...</td>\n",
       "      <td>...</td>\n",
       "      <td>...</td>\n",
       "      <td>...</td>\n",
       "    </tr>\n",
       "    <tr>\n",
       "      <th>199995</th>\n",
       "      <td>1.176367</td>\n",
       "      <td>17.766815</td>\n",
       "      <td>7</td>\n",
       "      <td>7</td>\n",
       "    </tr>\n",
       "    <tr>\n",
       "      <th>199996</th>\n",
       "      <td>12.543278</td>\n",
       "      <td>10.465703</td>\n",
       "      <td>6</td>\n",
       "      <td>5</td>\n",
       "    </tr>\n",
       "    <tr>\n",
       "      <th>199997</th>\n",
       "      <td>7.309926</td>\n",
       "      <td>0.438587</td>\n",
       "      <td>5</td>\n",
       "      <td>7</td>\n",
       "    </tr>\n",
       "    <tr>\n",
       "      <th>199998</th>\n",
       "      <td>6.197566</td>\n",
       "      <td>7.850007</td>\n",
       "      <td>5</td>\n",
       "      <td>9</td>\n",
       "    </tr>\n",
       "    <tr>\n",
       "      <th>199999</th>\n",
       "      <td>17.965976</td>\n",
       "      <td>10.655817</td>\n",
       "      <td>3</td>\n",
       "      <td>4</td>\n",
       "    </tr>\n",
       "  </tbody>\n",
       "</table>\n",
       "<p>200000 rows × 4 columns</p>\n",
       "</div>"
      ],
      "text/plain": [
       "            theta         nu  N  M\n",
       "0       19.597712  10.387874  5  6\n",
       "1       13.316589   0.052172  1  6\n",
       "2        9.565929   2.031794  3  6\n",
       "3       19.145463   8.600285  9  3\n",
       "4        7.994914   7.861142  8  2\n",
       "...           ...        ... .. ..\n",
       "199995   1.176367  17.766815  7  7\n",
       "199996  12.543278  10.465703  6  5\n",
       "199997   7.309926   0.438587  5  7\n",
       "199998   6.197566   7.850007  5  9\n",
       "199999  17.965976  10.655817  3  4\n",
       "\n",
       "[200000 rows x 4 columns]"
      ]
     },
     "execution_count": 28,
     "metadata": {},
     "output_type": "execute_result"
    }
   ],
   "source": [
    "d2=data_2_param[['theta','nu','N','M']]\n",
    "d2"
   ]
  },
  {
   "cell_type": "code",
   "execution_count": 29,
   "id": "fa5b0c4d-c599-454b-a958-52e75015a6d9",
   "metadata": {},
   "outputs": [
    {
     "data": {
      "text/plain": [
       "(200000, 4)"
      ]
     },
     "execution_count": 29,
     "metadata": {},
     "output_type": "execute_result"
    }
   ],
   "source": [
    "np.array(d2).shape"
   ]
  },
  {
   "cell_type": "code",
   "execution_count": 30,
   "id": "5c78dcd2-1840-439d-9620-bd8dfee10cf6",
   "metadata": {},
   "outputs": [
    {
     "data": {
      "text/plain": [
       "1000"
      ]
     },
     "execution_count": 30,
     "metadata": {},
     "output_type": "execute_result"
    }
   ],
   "source": [
    "len(data_2_param[:1000])"
   ]
  },
  {
   "cell_type": "code",
   "execution_count": 31,
   "id": "936890e0-5e76-427a-9d43-a7555976c77f",
   "metadata": {},
   "outputs": [
    {
     "data": {
      "text/plain": [
       "1000"
      ]
     },
     "execution_count": 31,
     "metadata": {},
     "output_type": "execute_result"
    }
   ],
   "source": [
    "len(data_2_param[:1000].Z)"
   ]
  },
  {
   "cell_type": "code",
   "execution_count": 32,
   "id": "a5200058-4856-4c7a-95bc-a4d175d1ea20",
   "metadata": {},
   "outputs": [],
   "source": [
    "# np.sum(data_2_param.Z)/len(data_2_param.Z)"
   ]
  },
  {
   "cell_type": "markdown",
   "id": "73eebf50-5d9c-4f39-bcdd-dcf74a9f3af3",
   "metadata": {},
   "source": [
    "Plot the weighted/unweighted histogram"
   ]
  },
  {
   "cell_type": "code",
   "execution_count": 33,
   "id": "6ae4e754-a595-4462-bc1c-8d90cb0a8a28",
   "metadata": {},
   "outputs": [],
   "source": [
    "def plot_weighted_hist(data_df):\n",
    "    #we can select which M, N by doing select= data_df.M = M\n",
    "    data_df = pd.read_csv(data_df)\n",
    "    fig, ax = plt.subplots(1,1, figsize=(7,7))\n",
    "    fig.tight_layout()\n",
    "    hist_counts_theta_w, b_theta_w = np.histogram(data_df.theta, weights=np.array(data_df.Z), bins=100)\n",
    "    hist_counts_theta_uw, b_theta_uw = np.histogram(data_df.theta, bins=100)\n",
    "    hist_counts_theta = hist_counts_theta_w/hist_counts_theta_uw\n",
    "    #CLEARLY IT DOESN'T WORK FOR NU\n",
    "    # hist_counts_nu_w, b_nu_w = np.histogram(data_df.nu, weights=np.array(data_df.Z), bins=100)\n",
    "    # hist_counts_nu_uw, b_nu_uw = np.histogram(data_df.nu, bins=100)\n",
    "    # hist_counts_nu = hist_counts_nu_w/hist_counts_nu_uw\n",
    "    \n",
    "    theta_bin_centers = (b_theta_w[1:]+b_theta_w[:-1])/2\n",
    "    # nu_bin_centers = (b_nu_w[1:]+b_nu_w[:-1])/2\n",
    "    ax.plot(theta_bin_centers, hist_counts_theta, label=r'Weighted Hist/Unweighted Hist for $\\theta$')\n",
    "    ax.set_xlabel(r'$\\theta$')\n",
    "    ax.set_ylabel(r'$E[\\theta]$')\n",
    "    ax.legend()\n",
    "    # ax[1].plot(nu_bin_centers, hist_counts_nu, label=r'Weighted Hist/Unweighted Hist for $\\nu$')\n",
    "    # ax[1].set_xlabel(r'$\\nu$')\n",
    "    # ax[1].legend()"
   ]
  },
  {
   "cell_type": "code",
   "execution_count": null,
   "id": "a37940f7-a1fe-497d-bb1a-3f344365214a",
   "metadata": {},
   "outputs": [],
   "source": []
  },
  {
   "cell_type": "markdown",
   "id": "487ba521-af86-4fcc-81d4-c150d941d288",
   "metadata": {},
   "source": [
    "-------------------------------\n",
    "# ML Parts"
   ]
  },
  {
   "cell_type": "code",
   "execution_count": 34,
   "id": "826410cb-2882-4fc4-a213-c95eedab4c41",
   "metadata": {},
   "outputs": [
    {
     "name": "stdout",
     "output_type": "stream",
     "text": [
      "train set size:        196078\n",
      "validation set size:     1961\n",
      "test set size:           1961\n"
     ]
    },
    {
     "data": {
      "text/html": [
       "<div>\n",
       "<style scoped>\n",
       "    .dataframe tbody tr th:only-of-type {\n",
       "        vertical-align: middle;\n",
       "    }\n",
       "\n",
       "    .dataframe tbody tr th {\n",
       "        vertical-align: top;\n",
       "    }\n",
       "\n",
       "    .dataframe thead th {\n",
       "        text-align: right;\n",
       "    }\n",
       "</style>\n",
       "<table border=\"1\" class=\"dataframe\">\n",
       "  <thead>\n",
       "    <tr style=\"text-align: right;\">\n",
       "      <th></th>\n",
       "      <th>theta</th>\n",
       "      <th>nu</th>\n",
       "      <th>N</th>\n",
       "      <th>M</th>\n",
       "      <th>Z</th>\n",
       "    </tr>\n",
       "  </thead>\n",
       "  <tbody>\n",
       "    <tr>\n",
       "      <th>0</th>\n",
       "      <td>8.513013</td>\n",
       "      <td>18.298027</td>\n",
       "      <td>5</td>\n",
       "      <td>8</td>\n",
       "      <td>1</td>\n",
       "    </tr>\n",
       "    <tr>\n",
       "      <th>1</th>\n",
       "      <td>10.942525</td>\n",
       "      <td>16.926142</td>\n",
       "      <td>9</td>\n",
       "      <td>4</td>\n",
       "      <td>1</td>\n",
       "    </tr>\n",
       "    <tr>\n",
       "      <th>2</th>\n",
       "      <td>13.127385</td>\n",
       "      <td>19.545597</td>\n",
       "      <td>8</td>\n",
       "      <td>3</td>\n",
       "      <td>1</td>\n",
       "    </tr>\n",
       "    <tr>\n",
       "      <th>3</th>\n",
       "      <td>9.808208</td>\n",
       "      <td>11.473414</td>\n",
       "      <td>2</td>\n",
       "      <td>3</td>\n",
       "      <td>1</td>\n",
       "    </tr>\n",
       "    <tr>\n",
       "      <th>4</th>\n",
       "      <td>12.174031</td>\n",
       "      <td>18.878225</td>\n",
       "      <td>9</td>\n",
       "      <td>4</td>\n",
       "      <td>1</td>\n",
       "    </tr>\n",
       "  </tbody>\n",
       "</table>\n",
       "</div>"
      ],
      "text/plain": [
       "       theta         nu  N  M  Z\n",
       "0   8.513013  18.298027  5  8  1\n",
       "1  10.942525  16.926142  9  4  1\n",
       "2  13.127385  19.545597  8  3  1\n",
       "3   9.808208  11.473414  2  3  1\n",
       "4  12.174031  18.878225  9  4  1"
      ]
     },
     "execution_count": 34,
     "metadata": {},
     "output_type": "execute_result"
    }
   ],
   "source": [
    "# Fraction of the data assigned as test data\n",
    "fraction = 1/102\n",
    "inputs = ['theta', 'nu', 'N', 'M','Z']\n",
    "data = data_2_param[inputs]\n",
    "# Split data into a part for training and a part for testing\n",
    "train_data, test_data = train_test_split(data, \n",
    "                                         test_size=fraction)\n",
    "\n",
    "# Split the training data into a part for training (fitting) and\n",
    "# a part for validating the training.\n",
    "fraction = 1/101\n",
    "train_data, valid_data = train_test_split(train_data, \n",
    "                                          test_size=fraction)\n",
    "\n",
    "# reset the indices in the dataframes and drop the old ones\n",
    "train_data = train_data.reset_index(drop=True)\n",
    "valid_data = valid_data.reset_index(drop=True)\n",
    "test_data  = test_data.reset_index(drop=True)\n",
    "\n",
    "print('train set size:        %6d' % train_data.shape[0])\n",
    "print('validation set size:   %6d' % valid_data.shape[0])\n",
    "print('test set size:         %6d' % test_data.shape[0])\n",
    "\n",
    "train_data[:5]"
   ]
  },
  {
   "cell_type": "markdown",
   "id": "c3975a02-1253-4308-b029-509497a1d577",
   "metadata": {},
   "source": [
    "### Do some scaling here"
   ]
  },
  {
   "cell_type": "code",
   "execution_count": 36,
   "id": "af58c89e-8a6c-4514-afd2-ac523905429f",
   "metadata": {},
   "outputs": [
    {
     "data": {
      "text/plain": [
       "(array([1, 1, 1, ..., 1, 1, 0]),\n",
       " array([[ 8.51301315, 18.29802748,  5.        ,  8.        ],\n",
       "        [10.94252524, 16.92614223,  9.        ,  4.        ],\n",
       "        [13.12738468, 19.54559701,  8.        ,  3.        ],\n",
       "        ...,\n",
       "        [10.38214093, 11.97904342,  7.        ,  7.        ],\n",
       "        [12.33491562,  7.5616589 ,  7.        ,  0.        ],\n",
       "        [ 6.29614801,  3.37848553,  6.        ,  5.        ]]))"
      ]
     },
     "execution_count": 36,
     "metadata": {},
     "output_type": "execute_result"
    }
   ],
   "source": [
    "features=['theta', 'nu', 'N', 'M']\n",
    "\n",
    "def split_t_x(df, inp=features):\n",
    "    # change from pandas dataframe format to a numpy \n",
    "    # array of the specified types\n",
    "    t = np.array(df['Z'])\n",
    "    x = np.array(df[inp])\n",
    "    return (t, x)\n",
    "train_t, train_x = split_t_x(train_data)\n",
    "valid_t, valid_x = split_t_x(valid_data)\n",
    "test_t,  test_x  = split_t_x(test_data)\n",
    "train_t, train_x"
   ]
  },
  {
   "cell_type": "code",
   "execution_count": 37,
   "id": "8731ac8f-7130-4170-a5a2-efe6266f4c23",
   "metadata": {},
   "outputs": [],
   "source": [
    "def get_batch(x, t, batch_size):\n",
    "    # the numpy function choice(length, number)\n",
    "    # selects at random \"batch_size\" integers from \n",
    "    # the range [0, length-1] corresponding to the\n",
    "    # row indices.\n",
    "    rows    = np.random.choice(len(x), batch_size)\n",
    "    batch_x = x[rows]\n",
    "    batch_t = t[rows]\n",
    "    return (batch_x, batch_t)\n",
    "\n",
    "def average_loss(f, t):\n",
    "    # f and t must be of the same shape\n",
    "    return  torch.mean((f - t)**2)\n",
    "\n",
    "def validate(model, avloss, inputs, targets):\n",
    "    # make sure we set evaluation mode so that any training specific\n",
    "    # operations are disabled.\n",
    "    model.eval() # evaluation mode\n",
    "    \n",
    "    with torch.no_grad(): # no need to compute gradients wrt. x and t\n",
    "        x = torch.from_numpy(inputs).float()\n",
    "        t = torch.from_numpy(targets).float()\n",
    "        # remember to reshape!\n",
    "        o = model(x).reshape(t.shape)\n",
    "    return avloss(o, t)"
   ]
  },
  {
   "cell_type": "code",
   "execution_count": 38,
   "id": "4b8d050f-de17-44c5-a542-dddac6cffd07",
   "metadata": {},
   "outputs": [],
   "source": [
    "def train(model, optimizer, avloss, getbatch,\n",
    "          train_x, train_t, \n",
    "          valid_x, valid_t,\n",
    "          batch_size, \n",
    "          n_iterations, traces, \n",
    "          step=50):\n",
    "    \n",
    "    # to keep track of average losses\n",
    "    xx, yy_t, yy_v = traces\n",
    "    \n",
    "    n = len(valid_x)\n",
    "    \n",
    "    print('Iteration vs average loss')\n",
    "    print(\"%10s\\t%10s\\t%10s\" % \\\n",
    "          ('iteration', 'train-set', 'valid-set'))\n",
    "    \n",
    "    for ii in range(n_iterations):\n",
    "\n",
    "        # set mode to training so that training specific \n",
    "        # operations such as dropout are enabled.\n",
    "        model.train()\n",
    "        \n",
    "        # get a random sample (a batch) of data (as numpy arrays)\n",
    "        batch_x, batch_t = getbatch(train_x, train_t, batch_size)\n",
    "        \n",
    "        # convert the numpy arrays batch_x and batch_t to tensor \n",
    "        # types. The PyTorch tensor type is the magic that permits \n",
    "        # automatic differentiation with respect to parameters. \n",
    "        # However, since we do not need to take the derivatives\n",
    "        # with respect to x and t, we disable this feature\n",
    "        with torch.no_grad(): # no need to compute gradients \n",
    "            # wrt. x and t\n",
    "            x = torch.from_numpy(batch_x).float()\n",
    "            t = torch.from_numpy(batch_t).float()      \n",
    "\n",
    "        # compute the output of the model for the batch of data x\n",
    "        # Note: outputs is \n",
    "        #   of shape (-1, 1), but the tensor targets, t, is\n",
    "        #   of shape (-1,)\n",
    "        # In order for the tensor operations with outputs and t\n",
    "        # to work correctly, it is necessary that they have the\n",
    "        # same shape. We can do this with the reshape method.\n",
    "        outputs = model(x).reshape(t.shape)\n",
    "   \n",
    "        # compute a noisy approximation to the average loss\n",
    "        empirical_risk = avloss(outputs, t)\n",
    "        \n",
    "        # use automatic differentiation to compute a \n",
    "        # noisy approximation of the local gradient\n",
    "        optimizer.zero_grad()       # clear previous gradients\n",
    "        empirical_risk.backward()   # compute gradients\n",
    "        \n",
    "        # finally, advance one step in the direction of steepest \n",
    "        # descent, using the noisy local gradient. \n",
    "        optimizer.step()            # move one step\n",
    "        \n",
    "        if ii % step == 0:\n",
    "            \n",
    "            acc_t = validate(model, avloss, train_x[:n], train_t[:n]) \n",
    "            acc_v = validate(model, avloss, valid_x[:n], valid_t[:n])\n",
    "\n",
    "            if len(xx) < 1:\n",
    "                xx.append(0)\n",
    "                print(\"%10d\\t%10.6f\\t%10.6f\" % \\\n",
    "                      (xx[-1], acc_t, acc_v))\n",
    "            else:\n",
    "                xx.append(xx[-1] + step)\n",
    "                print(\"\\r%10d\\t%10.6f\\t%10.6f\" % \\\n",
    "                      (xx[-1], acc_t, acc_v), end='')\n",
    "                \n",
    "            yy_t.append(acc_t)\n",
    "            yy_v.append(acc_v)\n",
    "    print()      \n",
    "    return (xx, yy_t, yy_v)"
   ]
  },
  {
   "cell_type": "code",
   "execution_count": 72,
   "id": "6e1993d9-7768-49f1-98c8-4513eb23dca3",
   "metadata": {},
   "outputs": [],
   "source": [
    "def plot_average_loss(traces):\n",
    "    \n",
    "    xx, yy_t, yy_v = traces\n",
    "    \n",
    "    # create an empty figure\n",
    "    fig = plt.figure(figsize=(5, 5))\n",
    "    fig.tight_layout()\n",
    "    \n",
    "    # add a subplot to it\n",
    "    nrows, ncols, index = 1,1,1\n",
    "    ax  = fig.add_subplot(nrows,ncols,index)\n",
    "\n",
    "    ax.set_title(\"Average loss\")\n",
    "    \n",
    "    ax.plot(xx, yy_t, 'b', lw=2, label='Training')\n",
    "    ax.plot(xx, yy_v, 'r', lw=2, label='Validation')\n",
    "\n",
    "    ax.set_xlabel('Iterations', fontsize=FONTSIZE)\n",
    "    ax.set_ylabel('average loss', fontsize=FONTSIZE)\n",
    "    ax.set_xscale('log')\n",
    "    ax.set_yscale('log')\n",
    "    ax.grid(True, which=\"both\", linestyle='-')\n",
    "    ax.legend(loc='upper right')\n",
    "\n",
    "    plt.show()"
   ]
  },
  {
   "cell_type": "code",
   "execution_count": 76,
   "id": "d73b90b2-2b9f-4f86-8bcf-a69723aebb6f",
   "metadata": {},
   "outputs": [],
   "source": [
    "import torch\n",
    "import torch.nn as nn\n",
    "\n",
    "class Model(nn.Module):\n",
    "    \n",
    "    def __init__(self, n_inputs=4, n_nodes=20, n_layers=50):\n",
    "\n",
    "        # call constructor of base (or super, or parent) class\n",
    "        super(Model, self).__init__()\n",
    "\n",
    "        self.layers = []\n",
    "        \n",
    "        # create input layer\n",
    "        self.layer0 = nn.Linear(n_inputs, n_nodes)\n",
    "        self.layers.append(self.layer0)\n",
    "\n",
    "        # create \"hidden\" layers\n",
    "        for l in range(1, n_layers):\n",
    "            cmd = 'self.layer%d = nn.Linear(%d, %d)' % \\\n",
    "            (l, n_nodes, n_nodes)\n",
    "            exec(cmd)\n",
    "            cmd = 'self.layers.append(self.layer%d)' % l\n",
    "            exec(cmd)\n",
    "          \n",
    "        # create output layer\n",
    "        cmd = 'self.layer%d = nn.Linear(%d, 1)' % (n_layers, n_nodes)\n",
    "        exec(cmd)\n",
    "        cmd = 'self.layers.append(self.layer%d)' % n_layers\n",
    "        exec(cmd)\n",
    "\n",
    "    # define (required) method to compute output of network\n",
    "    def forward(self, x):\n",
    "        y = x\n",
    "        for layer in self.layers[:-1]:\n",
    "            y = layer(y)\n",
    "            y = torch.relu(y)\n",
    "        y = self.layers[-1](y)\n",
    "        y = torch.sigmoid(y)\n",
    "        return y"
   ]
  },
  {
   "cell_type": "code",
   "execution_count": 77,
   "id": "523025d9-a802-458e-85f9-98db823436dd",
   "metadata": {},
   "outputs": [],
   "source": [
    "model = Model()\n",
    "# print(model)"
   ]
  },
  {
   "cell_type": "code",
   "execution_count": 38,
   "id": "3d60b457-74d5-4e41-9b1f-272829c7a7a2",
   "metadata": {},
   "outputs": [
    {
     "name": "stdout",
     "output_type": "stream",
     "text": [
      "[('layer0.weight', torch.Size([20, 4])), ('layer0.bias', torch.Size([20])), ('layer1.weight', torch.Size([20, 20])), ('layer1.bias', torch.Size([20])), ('layer2.weight', torch.Size([20, 20])), ('layer2.bias', torch.Size([20])), ('layer3.weight', torch.Size([20, 20])), ('layer3.bias', torch.Size([20])), ('layer4.weight', torch.Size([20, 20])), ('layer4.bias', torch.Size([20])), ('layer5.weight', torch.Size([20, 20])), ('layer5.bias', torch.Size([20])), ('layer6.weight', torch.Size([20, 20])), ('layer6.bias', torch.Size([20])), ('layer7.weight', torch.Size([20, 20])), ('layer7.bias', torch.Size([20])), ('layer8.weight', torch.Size([20, 20])), ('layer8.bias', torch.Size([20])), ('layer9.weight', torch.Size([20, 20])), ('layer9.bias', torch.Size([20])), ('layer10.weight', torch.Size([20, 20])), ('layer10.bias', torch.Size([20])), ('layer11.weight', torch.Size([20, 20])), ('layer11.bias', torch.Size([20])), ('layer12.weight', torch.Size([20, 20])), ('layer12.bias', torch.Size([20])), ('layer13.weight', torch.Size([20, 20])), ('layer13.bias', torch.Size([20])), ('layer14.weight', torch.Size([20, 20])), ('layer14.bias', torch.Size([20])), ('layer15.weight', torch.Size([20, 20])), ('layer15.bias', torch.Size([20])), ('layer16.weight', torch.Size([20, 20])), ('layer16.bias', torch.Size([20])), ('layer17.weight', torch.Size([20, 20])), ('layer17.bias', torch.Size([20])), ('layer18.weight', torch.Size([20, 20])), ('layer18.bias', torch.Size([20])), ('layer19.weight', torch.Size([20, 20])), ('layer19.bias', torch.Size([20])), ('layer20.weight', torch.Size([20, 20])), ('layer20.bias', torch.Size([20])), ('layer21.weight', torch.Size([20, 20])), ('layer21.bias', torch.Size([20])), ('layer22.weight', torch.Size([20, 20])), ('layer22.bias', torch.Size([20])), ('layer23.weight', torch.Size([20, 20])), ('layer23.bias', torch.Size([20])), ('layer24.weight', torch.Size([20, 20])), ('layer24.bias', torch.Size([20])), ('layer25.weight', torch.Size([20, 20])), ('layer25.bias', torch.Size([20])), ('layer26.weight', torch.Size([20, 20])), ('layer26.bias', torch.Size([20])), ('layer27.weight', torch.Size([20, 20])), ('layer27.bias', torch.Size([20])), ('layer28.weight', torch.Size([20, 20])), ('layer28.bias', torch.Size([20])), ('layer29.weight', torch.Size([20, 20])), ('layer29.bias', torch.Size([20])), ('layer30.weight', torch.Size([20, 20])), ('layer30.bias', torch.Size([20])), ('layer31.weight', torch.Size([20, 20])), ('layer31.bias', torch.Size([20])), ('layer32.weight', torch.Size([20, 20])), ('layer32.bias', torch.Size([20])), ('layer33.weight', torch.Size([20, 20])), ('layer33.bias', torch.Size([20])), ('layer34.weight', torch.Size([20, 20])), ('layer34.bias', torch.Size([20])), ('layer35.weight', torch.Size([20, 20])), ('layer35.bias', torch.Size([20])), ('layer36.weight', torch.Size([20, 20])), ('layer36.bias', torch.Size([20])), ('layer37.weight', torch.Size([20, 20])), ('layer37.bias', torch.Size([20])), ('layer38.weight', torch.Size([20, 20])), ('layer38.bias', torch.Size([20])), ('layer39.weight', torch.Size([20, 20])), ('layer39.bias', torch.Size([20])), ('layer40.weight', torch.Size([20, 20])), ('layer40.bias', torch.Size([20])), ('layer41.weight', torch.Size([20, 20])), ('layer41.bias', torch.Size([20])), ('layer42.weight', torch.Size([20, 20])), ('layer42.bias', torch.Size([20])), ('layer43.weight', torch.Size([20, 20])), ('layer43.bias', torch.Size([20])), ('layer44.weight', torch.Size([20, 20])), ('layer44.bias', torch.Size([20])), ('layer45.weight', torch.Size([20, 20])), ('layer45.bias', torch.Size([20])), ('layer46.weight', torch.Size([20, 20])), ('layer46.bias', torch.Size([20])), ('layer47.weight', torch.Size([20, 20])), ('layer47.bias', torch.Size([20])), ('layer48.weight', torch.Size([20, 20])), ('layer48.bias', torch.Size([20])), ('layer49.weight', torch.Size([20, 20])), ('layer49.bias', torch.Size([20])), ('layer50.weight', torch.Size([1, 20])), ('layer50.bias', torch.Size([1]))]\n"
     ]
    }
   ],
   "source": [
    "#print all model parameters and layers\n",
    "print([(name, param.shape) for name, param in model.named_parameters()])"
   ]
  },
  {
   "cell_type": "code",
   "execution_count": 78,
   "id": "807c7139-07c6-4d0d-b347-552b8685248e",
   "metadata": {},
   "outputs": [],
   "source": [
    "learning_rate = 1.e-3\n",
    "optimizer     = torch.optim.Adam(model.parameters(), \n",
    "                                 lr=learning_rate) \n",
    "\n",
    "traces = ([], [], [])\n",
    "traces_step = 10"
   ]
  },
  {
   "cell_type": "code",
   "execution_count": 79,
   "id": "8b845c44-7a61-4f48-aad3-87e42c7af95a",
   "metadata": {},
   "outputs": [
    {
     "name": "stdout",
     "output_type": "stream",
     "text": [
      "Iteration vs average loss\n",
      " iteration\t train-set\t valid-set\n",
      "         0\t  0.256648\t  0.256358\n",
      "       490\t  0.105119\t  0.118119\n",
      "Iteration vs average loss\n",
      " iteration\t train-set\t valid-set\n",
      "     10490\t  0.105092\t  0.117839\n"
     ]
    },
    {
     "data": {
      "image/png": "[encoded data removed]",
      "text/plain": [
       "<Figure size 360x360 with 1 Axes>"
      ]
     },
     "metadata": {
      "needs_background": "light"
     },
     "output_type": "display_data"
    }
   ],
   "source": [
    "n_batch       = 50\n",
    "n_iterations  = 500\n",
    "\n",
    "traces = train(model, optimizer, average_loss,\n",
    "               get_batch,\n",
    "               train_x, train_t, \n",
    "               valid_x, valid_t,\n",
    "               n_batch, \n",
    "               n_iterations,\n",
    "               traces,\n",
    "               step=traces_step)\n",
    "\n",
    "n_batch       = 500\n",
    "n_iterations  = 10000\n",
    "\n",
    "traces = train(model, optimizer, average_loss,\n",
    "               get_batch,\n",
    "               train_x, train_t, \n",
    "               valid_x, valid_t,\n",
    "               n_batch, \n",
    "               n_iterations,\n",
    "               traces,\n",
    "               step=traces_step)\n",
    "\n",
    "plot_average_loss(traces)"
   ]
  },
  {
   "cell_type": "markdown",
   "id": "4e152e4b-342e-44ed-b9c0-ccd4f85315f4",
   "metadata": {},
   "source": [
    "Save trained model"
   ]
  },
  {
   "cell_type": "code",
   "execution_count": 62,
   "id": "d07bd013-c6a3-490d-bf80-7aa33c07a629",
   "metadata": {},
   "outputs": [],
   "source": [
    "torch.save(model, 'Regressor_TwoParams_theta_nu_m_n.pth')\n",
    "# model.parameters"
   ]
  },
  {
   "cell_type": "code",
   "execution_count": 63,
   "id": "faa21944-2f73-4e0b-a81e-a183cc03c766",
   "metadata": {},
   "outputs": [],
   "source": [
    "model = torch.load('Regressor_TwoParams_theta_nu_m_n.pth');# model.parameters"
   ]
  },
  {
   "cell_type": "markdown",
   "id": "a66dc6aa-f748-49a6-b334-745ceaf3ea58",
   "metadata": {},
   "source": [
    "# Inference, and Comparing $\\hat{p}(N,M,\\theta,\\nu)$ to caluclated p-value and histogrammed expectation value"
   ]
  },
  {
   "cell_type": "markdown",
   "id": "84ef401f-3cc2-48f4-a78e-caa8a7d3e74c",
   "metadata": {},
   "source": [
    "What we want to approximate is the following:\n",
    "\n",
    "$$P(\\lambda_{\\text{gen}} < \\lambda_D)$$\n",
    "\n",
    "### Interlude: Calculation of exact p-values\n"
   ]
  },
  {
   "cell_type": "code",
   "execution_count": 55,
   "id": "f26f404e-16f3-4950-8c62-8d96639399fa",
   "metadata": {},
   "outputs": [
    {
     "name": "stdout",
     "output_type": "stream",
     "text": [
      "torch.Size([1000000])\n"
     ]
    }
   ],
   "source": [
    "inputs = ['theta', 'nu', 'N', 'M']#input features (X)\n",
    "data_df='data/two_parameters_N_M_Uniformly_sampled_1M.csv'\n",
    "df = pd.read_csv(data_df)\n",
    "Input_features = data_2_param\n",
    "############ ML inference part\n",
    "with torch.no_grad():\n",
    "    model.eval()\n",
    "\n",
    "    X = torch.Tensor(Input_features.values)\n",
    "    phat = model(X)\n",
    "    phat = phat.detach().flatten()\n",
    "    # phat=phat.numpy()\n",
    "    PHAT = phat.view(-1).numpy()\n",
    "    print(phat.flatten().shape)\n",
    "# plt.hist(phat)\n",
    "# ax.plot(theta_bin_centers, phat,label='phat')"
   ]
  },
  {
   "cell_type": "code",
   "execution_count": 89,
   "id": "b1ca539a-7281-4ec0-be8f-3b4a989fed79",
   "metadata": {},
   "outputs": [],
   "source": [
    "# th=np.array(df.theta).flatten()\n",
    "# plot_weighted_hist(data_df)"
   ]
  },
  {
   "cell_type": "code",
   "execution_count": 90,
   "id": "bf63552d-fa39-437a-87df-797bc018f830",
   "metadata": {},
   "outputs": [],
   "source": [
    "# inference_df.csvplt.hist(PHAT.flatten(), label=r'$\\hat{p}=\\hat{E}[Z|\\theta]$', density=True)\n",
    "# plt.hist(df.Z, label=r'Exact $E[Z]=P(\\lambda_{\\tinference_df.csvext{gen}} \\le \\lambda_{\\text{Obs}})$', density=True); plt.legend()"
   ]
  },
  {
   "cell_type": "code",
   "execution_count": 91,
   "id": "41a82d10-cb39-43d9-903e-6c469100e12d",
   "metadata": {},
   "outputs": [],
   "source": [
    "# chi2_exp_size=4000\n",
    "\n",
    "# def run_sim( theta, nu):\n",
    "#     \"\"\"Sample n ~ Pois(theta+nu), m ~ Pois(nu), and compute lambda(theta, n, m)\"\"\"\n",
    "#     n = st.poisson.rvs(theta+nu, size=chi2_exp_size)\n",
    "#     m = st.poisson.rvs(nu, size=chi2_exp_size)\n",
    "#     lambda_ = lambda_test(theta, n, m, MLE)\n",
    "#     return (n, m, lambda_)\n",
    "\n",
    "# def run_sims(points):\n",
    "#     \"\"\"Run an entire simulation (that is, generate n and m from run_sim above, and calculate lambda) for each point, where a point is a tuple of (theta, nu)\"\"\"\n",
    "#     lambda_results=[]\n",
    "\n",
    "#     for p in points:\n",
    "#         theta, nu = p\n",
    "#         n, m, lambda_ = run_sim(theta, nu)\n",
    "#         lambda_results.append((n, m, lambda_, theta, nu))\n",
    "#         print((theta, nu))\n",
    "#     return lambda_results\n",
    "\n",
    "\n",
    "# def plot_one(lambda_, theta, nu, ax):\n",
    "#     \"\"\"Histogram the CDF of  lambda_t = -2log(Lp(theta)/Lp(theta_hat)), for a given (fixed) theta and nu.\n",
    "#     Also, plot the actual CDF of a chi^2 distribution with 1 free parameter (since only theta is left after we profile nu) \"\"\"\n",
    "#     ftsize = 16\n",
    "#     xmin= 0\n",
    "#     xmax= 10\n",
    "#     ymin= 0\n",
    "#     ymax= 1\n",
    "#     x_range = (xmin, xmax)\n",
    "#     y_range = (ymin, ymax)\n",
    "#     ax.set_xlim(x_range)\n",
    "#     ax.set_ylim(y_range)\n",
    "#     ax.set_xlabel(r'$\\lambda (\\theta, n, m, \\hat{\\nu}(\\theta))$',fontsize=ftsize)\n",
    "#     ax.set_ylabel(r'cdf$(\\lambda)$', fontsize=ftsize)\n",
    "#     ax.hist(lambda_, bins=5*xmax, range=x_range,\n",
    "#     color=(0.8,0.8,0.9),\n",
    "#     density=True, cumulative=True,\n",
    "#     histtype='stepfilled', edgecolor='black')\n",
    "    \n",
    "#     x = np.arange(0, xmax, 0.2)\n",
    "#     y = st.chi2.cdf(x, 1)\n",
    "#     ax.plot(x, y, color='blue',\n",
    "#     linewidth=2)\n",
    "#     # annotate\n",
    "#     xwid = (xmax-xmin)/12\n",
    "#     ywid = (ymax-ymin)/12\n",
    "#     xpos = xmin + xwid/2\n",
    "#     ypos = ymin + ywid*2\n",
    "#     ax.text(xpos, ypos,\n",
    "#     r'$ \\theta = %d, \\nu = %d$' % (theta, nu),\n",
    "#     fontsize=ftsize)\n",
    "    \n",
    "# def plot_all(results, fgsize=(10,6)):\n",
    "#     plt.figure(figsize=fgsize)\n",
    "#     fig, ax = plt.subplots(2, 3, figsize=fgsize)\n",
    "#     plt.subplots_adjust(hspace=0.01)\n",
    "#     plt.subplots_adjust(wspace=0.2)\n",
    "#     ax = ax.flatten()\n",
    "    \n",
    "#     for i, result in enumerate(results):\n",
    "#         n, m, lambda_, theta, nu = result\n",
    "#         plot_one(lambda_, theta, nu, ax[i])\n",
    "#     for j in range(len(results), len(ax)):\n",
    "#         ax[j].set_visible(False)\n",
    "        \n",
    "#     plt.tight_layout()\n",
    "#     plt.show()\n",
    "    "
   ]
  },
  {
   "cell_type": "code",
   "execution_count": 60,
   "id": "64437e57-1e56-4665-866c-b10f27dc6fae",
   "metadata": {},
   "outputs": [
    {
     "data": {
      "text/html": [
       "<div>\n",
       "<style scoped>\n",
       "    .dataframe tbody tr th:only-of-type {\n",
       "        vertical-align: middle;\n",
       "    }\n",
       "\n",
       "    .dataframe tbody tr th {\n",
       "        vertical-align: top;\n",
       "    }\n",
       "\n",
       "    .dataframe thead th {\n",
       "        text-align: right;\n",
       "    }\n",
       "</style>\n",
       "<table border=\"1\" class=\"dataframe\">\n",
       "  <thead>\n",
       "    <tr style=\"text-align: right;\">\n",
       "      <th></th>\n",
       "      <th>Z</th>\n",
       "      <th>theta</th>\n",
       "      <th>nu</th>\n",
       "      <th>N</th>\n",
       "      <th>M</th>\n",
       "      <th>phat</th>\n",
       "    </tr>\n",
       "  </thead>\n",
       "  <tbody>\n",
       "    <tr>\n",
       "      <th>0</th>\n",
       "      <td>1</td>\n",
       "      <td>29.014641</td>\n",
       "      <td>37.674462</td>\n",
       "      <td>9</td>\n",
       "      <td>22</td>\n",
       "      <td>1.000000</td>\n",
       "    </tr>\n",
       "    <tr>\n",
       "      <th>1</th>\n",
       "      <td>1</td>\n",
       "      <td>5.216490</td>\n",
       "      <td>36.416669</td>\n",
       "      <td>5</td>\n",
       "      <td>21</td>\n",
       "      <td>0.999976</td>\n",
       "    </tr>\n",
       "    <tr>\n",
       "      <th>2</th>\n",
       "      <td>1</td>\n",
       "      <td>19.011076</td>\n",
       "      <td>13.583114</td>\n",
       "      <td>15</td>\n",
       "      <td>2</td>\n",
       "      <td>0.824368</td>\n",
       "    </tr>\n",
       "    <tr>\n",
       "      <th>3</th>\n",
       "      <td>1</td>\n",
       "      <td>2.730501</td>\n",
       "      <td>5.468507</td>\n",
       "      <td>1</td>\n",
       "      <td>12</td>\n",
       "      <td>0.999671</td>\n",
       "    </tr>\n",
       "    <tr>\n",
       "      <th>4</th>\n",
       "      <td>1</td>\n",
       "      <td>11.254103</td>\n",
       "      <td>1.051720</td>\n",
       "      <td>15</td>\n",
       "      <td>22</td>\n",
       "      <td>0.998790</td>\n",
       "    </tr>\n",
       "  </tbody>\n",
       "</table>\n",
       "</div>"
      ],
      "text/plain": [
       "   Z      theta         nu   N   M      phat\n",
       "0  1  29.014641  37.674462   9  22  1.000000\n",
       "1  1   5.216490  36.416669   5  21  0.999976\n",
       "2  1  19.011076  13.583114  15   2  0.824368\n",
       "3  1   2.730501   5.468507   1  12  0.999671\n",
       "4  1  11.254103   1.051720  15  22  0.998790"
      ]
     },
     "execution_count": 60,
     "metadata": {},
     "output_type": "execute_result"
    }
   ],
   "source": [
    "data_df = pd.read_csv(data_df)\n",
    "inference_df = data_df\n",
    "inference_df['phat'] = PHAT\n",
    "cols = ['Z', 'theta', 'nu', 'N', 'M', 'phat']\n",
    "inference_df=inference_df[cols]\n",
    "inference_df.head()"
   ]
  },
  {
   "cell_type": "code",
   "execution_count": 80,
   "id": "f5f8e8b8-bddf-4dc5-9519-245d313d185f",
   "metadata": {},
   "outputs": [
    {
     "data": {
      "image/png": "[encoded data removed]",
      "text/plain": [
       "<Figure size 720x432 with 6 Axes>"
      ]
     },
     "metadata": {
      "needs_background": "light"
     },
     "output_type": "display_data"
    }
   ],
   "source": [
    "XMIN  = 0\n",
    "XMAX  = 20\n",
    "XBINS = 200\n",
    "NU    = 3#set\n",
    "D     = [(1, 0), (2, 0), (3, 0), \n",
    "         (1, 1), (2, 1), (3, 1)]#pairs of (N,M)\n",
    "import LFIutil as lfi\n",
    "\n",
    "def hist_data(nu, N, M,\n",
    "              xbins=XBINS,\n",
    "              xmin=XMIN, \n",
    "              xmax=XMAX,\n",
    "              mle=MLE,\n",
    "              Ndata=100000):\n",
    "\n",
    "    theta = st.uniform.rvs(xmin, xmax, size=Ndata)\n",
    "    n = st.poisson.rvs(theta + nu)\n",
    "    m = st.poisson.rvs(nu, size=Ndata)\n",
    "    Z = (lfi.t2(theta, n, m, mle) < \n",
    "         lfi.t2(theta, N, M, mle)).astype(np.int32)\n",
    "\n",
    "    xrange = (xmin, xmax)\n",
    "\n",
    "    # weighted histogram   (count the number of ones per bin)\n",
    "    y1, bb = np.histogram(theta, \n",
    "                          bins=xbins, \n",
    "                          range=xrange, \n",
    "                          weights=Z)\n",
    "    \n",
    "    # unweighted histogram (count number of ones and zeros per bin)\n",
    "    yt, _ = np.histogram(theta, \n",
    "                         bins=xbins, \n",
    "                         range=xrange)\n",
    "\n",
    "    y =  y1 / yt    \n",
    "    \n",
    "    return y, bb\n",
    "\n",
    "def plot_data(nu, D, \n",
    "              func=None,\n",
    "              xbins=XBINS,\n",
    "              xmin=XMIN, \n",
    "              xmax=XMAX,\n",
    "              fgsize=(10, 6)):\n",
    "    \n",
    "    # make room for 6 sub-plots\n",
    "    fig, ax = plt.subplots(nrows=2, \n",
    "                           ncols=3, \n",
    "                           figsize=fgsize)\n",
    "    \n",
    "    # padding\n",
    "    plt.subplots_adjust(hspace=0.01)\n",
    "    plt.subplots_adjust(wspace=0.20)\n",
    "    \n",
    "    # use flatten() to convert a numpy array of \n",
    "    # shape (nrows, ncols) to a 1-d array. \n",
    "    ax = ax.flatten()\n",
    "    \n",
    "    for j, (N, M) in enumerate(D):\n",
    "        \n",
    "        y, bb = hist_data(nu, N, M)\n",
    "        \n",
    "        ax[j].set_xlim(xmin, xmax)\n",
    "        ax[j].set_ylim(0, 1)\n",
    "        ax[j].set_xlabel(r'$\\theta$', fontsize=FONTSIZE)\n",
    "        ax[j].set_ylabel(r'$E(Z|\\theta, \\nu)$', fontsize=FONTSIZE)\n",
    "        \n",
    "        x = (bb[1:]+bb[:-1])/2\n",
    "        ax[j].plot(x, y, 'b', lw=2, label='approx')\n",
    "        \n",
    "        if func:\n",
    "            p, _ = func(nu, N, M)\n",
    "            ax[j].plot(x, p, 'r', lw=2, label='model')\n",
    "        \n",
    "        ax[j].grid(True, which=\"both\", linestyle='-')\n",
    "        ax[j].text(10.1, 0.42, r'$N, M = %d, %d$' % (N, M), \n",
    "                   fontsize=FONTSIZE) \n",
    "\n",
    "        ax[j].text(10.1, 0.30, r'$\\nu = %5.1f$' % nu, \n",
    "                   fontsize=FONTSIZE) \n",
    "\n",
    "        ax[j].legend(loc='upper right')\n",
    "        \n",
    "    # hide unused sub-plots\n",
    "    for k in range(j+1, len(ax)):\n",
    "        ax[k].set_visible(False)\n",
    "    \n",
    "    plt.tight_layout()\n",
    "    # plt.savefig(gfile)\n",
    "    plt.show()\n",
    "\n",
    "def usemodel(nu, N, M,\n",
    "             xbins=XBINS,\n",
    "             xmin=XMIN,\n",
    "             xmax=XMAX):\n",
    "    \n",
    "    xstep = (xmax-xmin) / xbins\n",
    "    bb    = np.arange(xmin, xmax+xstep, xstep)\n",
    "    X     = (bb[1:] + bb[:-1])/2\n",
    "    X     = torch.Tensor([[x, nu, N, M] for x in X])\n",
    "    \n",
    "    model.eval()\n",
    "    return model(X).detach().numpy(), bb\n",
    "\n",
    "plot_data(NU, D, \n",
    "          func=usemodel)"
   ]
  },
  {
   "cell_type": "code",
   "execution_count": null,
   "id": "cff7cde3-ef41-4349-9e42-7d8b7c010373",
   "metadata": {},
   "outputs": [],
   "source": []
  }
 ],
 "metadata": {
  "kernelspec": {
   "display_name": "Python 3 (ipykernel)",
   "language": "python",
   "name": "python3"
  },
  "language_info": {
   "codemirror_mode": {
    "name": "ipython",
    "version": 3
   },
   "file_extension": ".py",
   "mimetype": "text/x-python",
   "name": "python",
   "nbconvert_exporter": "python",
   "pygments_lexer": "ipython3",
   "version": "3.7.10"
  }
 },
 "nbformat": 4,
 "nbformat_minor": 5
}
