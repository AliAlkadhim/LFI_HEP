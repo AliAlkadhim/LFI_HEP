{
 "cells": [
  {
   "cell_type": "code",
   "execution_count": 3,
   "id": "11e6018e-5c9f-4b12-953f-47ac838f94ec",
   "metadata": {},
   "outputs": [],
   "source": [
    "import numpy as np\n",
    "import scipy as sp\n",
    "import scipy.stats as st\n",
    "import torch\n",
    "from sklearn.preprocessing import StandardScaler\n",
    "from sklearn.model_selection import train_test_split\n",
    "import matplotlib as mp\n",
    "mp.rcParams['agg.path.chunksize'] = 10000\n",
    "import matplotlib.pyplot as plt\n",
    "# force inline plots\n",
    "# %matplotlib inline\n",
    "plt.style.use('seaborn-deep')\n",
    "import torch.nn as nn\n",
    "import copy\n",
    "import pandas as pd\n",
    "import sys\n",
    "import os\n",
    "import utils\n",
    "# update fonts\n",
    "FONTSIZE = 14\n",
    "font = {'family' : 'serif',\n",
    "        'weight' : 'normal',\n",
    "        'size'   : FONTSIZE}\n",
    "mp.rc('font', **font)\n",
    "\n",
    "# set a seed to ensure reproducibility\n",
    "# seed = 128\n",
    "# rnd  = np.random.RandomState(seed)\n",
    "#matplotlib configurations\n",
    "def use_svg_display(): \n",
    "    \"\"\"Use the svg format to display a plot in Jupyter for sharper images!\"\"\"\n",
    "    backend_inline.set_matplotlib_formats('svg')\n",
    "def set_figsize(figsize=(3.5, 2.5)):  \n",
    "    \"\"\"Set the figure size for matplotlib.\"\"\"\n",
    "    use_svg_display()\n",
    "    plt.rcParams['figure.figsize'] = figsize\n",
    "    \n",
    "def set_axes(axes, xlabel, ylabel, xlim, ylim, xscale, yscale, legend):\n",
    "    \"\"\"Set the axes for matplotlib.\"\"\"\n",
    "    axes.set_xlabel(xlabel)\n",
    "    axes.set_ylabel(ylabel)\n",
    "    axes.set_xscale(xscale)\n",
    "    axes.set_yscale(yscale)\n",
    "    axes.set_xlim(xlim)\n",
    "    axes.set_ylim(ylim)\n",
    "    if legend:\n",
    "        axes.legend(legend)\n",
    "    axes.grid()\n",
    "    \n",
    "    \n",
    "def DR(s, theta):\n",
    "    return sp.special.gammainc(s, theta)\n",
    "\n",
    "def DL(s, theta):\n",
    "    return 1 - sp.special.gammainc(s+1, theta)\n",
    "import random"
   ]
  },
  {
   "cell_type": "markdown",
   "id": "64686974-3f76-4ce5-a9d8-d43d3d1bd168",
   "metadata": {},
   "source": [
    "Load a trained model"
   ]
  },
  {
   "cell_type": "code",
   "execution_count": 2,
   "id": "acd8aa55-2337-4f6a-993b-4b4a3d84f924",
   "metadata": {},
   "outputs": [
    {
     "name": "stdout",
     "output_type": "stream",
     "text": [
      "Model's state_dict:\n",
      "model.0.weight \t torch.Size([128, 4])\n",
      "model.0.bias \t torch.Size([128])\n",
      "model.1.weight \t torch.Size([128])\n",
      "model.1.bias \t torch.Size([128])\n",
      "model.1.running_mean \t torch.Size([128])\n",
      "model.1.running_var \t torch.Size([128])\n",
      "model.1.num_batches_tracked \t torch.Size([])\n",
      "model.4.weight \t torch.Size([128, 128])\n",
      "model.4.bias \t torch.Size([128])\n",
      "model.5.weight \t torch.Size([128])\n",
      "model.5.bias \t torch.Size([128])\n",
      "model.5.running_mean \t torch.Size([128])\n",
      "model.5.running_var \t torch.Size([128])\n",
      "model.5.num_batches_tracked \t torch.Size([])\n",
      "model.8.weight \t torch.Size([128, 128])\n",
      "model.8.bias \t torch.Size([128])\n",
      "model.9.weight \t torch.Size([128])\n",
      "model.9.bias \t torch.Size([128])\n",
      "model.9.running_mean \t torch.Size([128])\n",
      "model.9.running_var \t torch.Size([128])\n",
      "model.9.num_batches_tracked \t torch.Size([])\n",
      "model.12.weight \t torch.Size([128, 128])\n",
      "model.12.bias \t torch.Size([128])\n",
      "model.13.weight \t torch.Size([128])\n",
      "model.13.bias \t torch.Size([128])\n",
      "model.13.running_mean \t torch.Size([128])\n",
      "model.13.running_var \t torch.Size([128])\n",
      "model.13.num_batches_tracked \t torch.Size([])\n",
      "model.16.weight \t torch.Size([128, 128])\n",
      "model.16.bias \t torch.Size([128])\n",
      "model.17.weight \t torch.Size([128])\n",
      "model.17.bias \t torch.Size([128])\n",
      "model.17.running_mean \t torch.Size([128])\n",
      "model.17.running_var \t torch.Size([128])\n",
      "model.17.num_batches_tracked \t torch.Size([])\n",
      "model.20.weight \t torch.Size([1, 128])\n",
      "model.20.bias \t torch.Size([1])\n"
     ]
    }
   ],
   "source": [
    "model = torch.load( 'TWO_PARAMETERS_TRAINED _MODEL.pth')\n",
    "\n",
    "print(\"Model's state_dict:\")\n",
    "for param_tensor in model.state_dict():\n",
    "    print(param_tensor, \"\\t\", model.state_dict()[param_tensor].size())"
   ]
  },
  {
   "cell_type": "markdown",
   "id": "f6819a04-59e7-41f2-832a-e3f0a3d3f2b9",
   "metadata": {},
   "source": [
    "Correct shaping for our data"
   ]
  },
  {
   "cell_type": "code",
   "execution_count": 19,
   "id": "500d6206-a6c7-4e84-ab2b-1c8aada9b998",
   "metadata": {},
   "outputs": [
    {
     "data": {
      "text/plain": [
       "torch.Size([1, 4])"
      ]
     },
     "execution_count": 19,
     "metadata": {},
     "output_type": "execute_result"
    }
   ],
   "source": [
    "N, M = 2, 3\n",
    "points = [(theta, nu) for theta, nu in \n",
    "        zip(np.random.randint(low=0,high=4,size=6), np.random.randint(low=0,high=4,size=6))]\n",
    "theta, nu = points[0]\n",
    "\n",
    "X = np.array([theta, nu, N, M]) \n",
    "X=X.reshape(1,-1)\n",
    "\n",
    "X =torch.Tensor(X)\n",
    "X.shape\n"
   ]
  },
  {
   "cell_type": "markdown",
   "id": "b7d3ac9b-540e-4d46-8c98-35ab221d477a",
   "metadata": {},
   "source": [
    "# Minibatch\n",
    "The concept of minibatches is fundamental to training an ML model. Let's generate data and access them in batches"
   ]
  },
  {
   "cell_type": "code",
   "execution_count": 6,
   "id": "abd69735-b7cb-4ac1-bb73-dbe7f2dde16d",
   "metadata": {},
   "outputs": [
    {
     "data": {
      "text/plain": [
       "tensor([[-1.2737e+00,  1.7328e-01,  1.1156e-01,  2.3508e-01],\n",
       "        [-1.0235e+00, -9.6387e-01,  5.9923e-01, -9.1092e-04],\n",
       "        [-3.0900e+00, -5.8915e-01, -9.3988e-01,  2.0903e-01]])"
      ]
     },
     "execution_count": 6,
     "metadata": {},
     "output_type": "execute_result"
    }
   ],
   "source": [
    "torch.normal(0, 1, (3, 4))"
   ]
  },
  {
   "cell_type": "code",
   "execution_count": 9,
   "id": "291982be-b76b-4c20-88e9-5c02b8c18368",
   "metadata": {},
   "outputs": [
    {
     "data": {
      "text/plain": [
       "(tensor([[-0.0562, -0.4451],\n",
       "         [ 0.8839, -0.4414],\n",
       "         [-0.4544, -0.2906],\n",
       "         [ 0.3892,  0.7024],\n",
       "         [ 0.0430, -0.3618]]),\n",
       " tensor([[5.6019],\n",
       "         [7.4903],\n",
       "         [4.2720],\n",
       "         [2.6031],\n",
       "         [5.5131]]))"
      ]
     },
     "execution_count": 9,
     "metadata": {},
     "output_type": "execute_result"
    }
   ],
   "source": [
    "def synthetic_data(w, b, num_examples):  #@save\n",
    "    \"\"\"Generate y = Xw + b + noise.\"\"\"\n",
    "    X = torch.normal(0, 1, (num_examples, len(w)))\n",
    "    y = torch.matmul(X, w) + b\n",
    "    y += torch.normal(0, 0.01, y.shape)# noise term\n",
    "    return X, y.reshape((-1, 1))\n",
    "\n",
    "true_w = torch.tensor([2, -3.4])\n",
    "true_b = 4.2\n",
    "features, labels = synthetic_data(true_w, true_b, 1000)\n",
    "features[:5], labels[:5]"
   ]
  },
  {
   "cell_type": "markdown",
   "id": "ecf6e749-de7a-4d86-a02d-c583a7c32fe4",
   "metadata": {},
   "source": [
    "{features, labels, batch_size} $\\rightarrow$ data_iter $\\rightarrow$ features[batch_index], labels[batch_index]"
   ]
  },
  {
   "cell_type": "code",
   "execution_count": 10,
   "id": "3cfe547e-34c0-40fa-891a-68040ea7fc1e",
   "metadata": {},
   "outputs": [],
   "source": [
    "def data_iter(batch_size, features, labels):\n",
    "    num_examples = len(features)\n",
    "    indices = list(range(num_examples))\n",
    "    # The examples are read at random, in no particular order\n",
    "    random.shuffle(indices)\n",
    "    for i in range(0, num_examples, batch_size):\n",
    "        batch_indices = torch.tensor(\n",
    "            indices[i: min(i + batch_size, num_examples)])\n",
    "        yield features[batch_indices], labels[batch_indices]\n",
    "        "
   ]
  },
  {
   "cell_type": "code",
   "execution_count": 13,
   "id": "5d9f4720-005f-49e5-a80f-569860373027",
   "metadata": {},
   "outputs": [
    {
     "name": "stdout",
     "output_type": "stream",
     "text": [
      "tensor([[-1.1840,  0.4181],\n",
      "        [-0.5254, -2.3070],\n",
      "        [ 1.6039, -1.7719],\n",
      "        [ 0.7554, -1.4603],\n",
      "        [ 2.0491,  2.2939],\n",
      "        [-0.2689,  0.0716],\n",
      "        [-2.0974, -0.0233],\n",
      "        [-0.8122,  1.3602],\n",
      "        [-0.2452,  0.6785],\n",
      "        [-0.9300, -0.9762]]) \n",
      " tensor([[ 0.4069],\n",
      "        [10.9828],\n",
      "        [13.4321],\n",
      "        [10.6778],\n",
      "        [ 0.5063],\n",
      "        [ 3.4177],\n",
      "        [ 0.0798],\n",
      "        [-2.0425],\n",
      "        [ 1.4001],\n",
      "        [ 5.6748]])\n"
     ]
    }
   ],
   "source": [
    "batch_size = 10\n",
    "\n",
    "for X, y in data_iter(batch_size, features, labels):\n",
    "    print(X, '\\n', y)\n",
    "    break"
   ]
  },
  {
   "cell_type": "markdown",
   "id": "61cb8fe4-7069-4281-bc92-be4d520a9d1c",
   "metadata": {},
   "source": [
    "# Autograd\n",
    "\n",
    "Suppose we have a multivariate function $f(\\mathbf{x})$, wheren the input to the function is an $n$-dimensional vector $\\mathbf{x}=[x_1, x_2, ..., x_n]^T$, and the output is a scalar. Then\n",
    "The gradiant of function $f(\\mathbf{x})$ with respect to $\\mathbf{x}$ is \n",
    "$$ \\nabla_{\\mathbf{x}} f(\\mathbf{x})=\\left[\\frac{\\partial f(\\mathbf{x})}{\\partial x_{1}}, \\frac{\\partial f(\\mathbf{x})}{\\partial x_{2}}, \\ldots, \\frac{\\partial f(\\mathbf{x})}{\\partial x_{n}}\\right]^{\\top} $$\n",
    "\n",
    "Of course, the gradiant (of a scalar function) will be a vector, and will have the same shape as $\\mathbf{x}$."
   ]
  },
  {
   "cell_type": "code",
   "execution_count": 28,
   "id": "b82715a9-f98c-4208-89c9-2ef07d2c898f",
   "metadata": {},
   "outputs": [
    {
     "data": {
      "text/plain": [
       "tensor([0., 1., 2., 3.])"
      ]
     },
     "execution_count": 28,
     "metadata": {},
     "output_type": "execute_result"
    }
   ],
   "source": [
    "x = torch.arange(4.0)\n",
    "x"
   ]
  },
  {
   "cell_type": "markdown",
   "id": "d21fbb0a-86ef-4136-9244-87c1fe7c94ca",
   "metadata": {},
   "source": [
    "Suppose that $y=2 \\mathbf{x}^{\\top} \\mathbf{x}$, and say we want to differentiate it with respect to the column vector $x$. Before we can calculate $\\nabla_\\mathbf{x} y(\\mathbf{x})$ we need a place to store it. "
   ]
  },
  {
   "cell_type": "markdown",
   "id": "72fe5eb3-0ab9-4122-87ce-a4dc1486811c",
   "metadata": {},
   "source": [
    "It is important that we don't allocate new memory every time we take a derivative with respect to a parameter, since during training we update parameters millions of times so we could run out of memory quickly. Therefore we first have to say that we want to store the gradiants of this vector"
   ]
  },
  {
   "cell_type": "code",
   "execution_count": 33,
   "id": "b7fbba4b-ff89-4561-805e-0759faf2607e",
   "metadata": {},
   "outputs": [
    {
     "data": {
      "text/plain": [
       "tensor([0., 1., 2., 3.], requires_grad=True)"
      ]
     },
     "execution_count": 33,
     "metadata": {},
     "output_type": "execute_result"
    }
   ],
   "source": [
    "x.requires_grad_(True)\n",
    "x"
   ]
  },
  {
   "cell_type": "code",
   "execution_count": 34,
   "id": "626ac1c7-0ef8-472a-9c53-7bcb8953a4ae",
   "metadata": {},
   "outputs": [
    {
     "data": {
      "text/plain": [
       "\u001b[0;31mType:\u001b[0m        property\n",
       "\u001b[0;31mString form:\u001b[0m <property object at 0x7f85acf5ff50>\n",
       "\u001b[0;31mDocstring:\u001b[0m  \n",
       "This attribute is ``None`` by default and becomes a Tensor the first time a call to\n",
       ":func:`backward` computes gradients for ``self``.\n",
       "The attribute will then contain the gradients computed and future calls to\n",
       ":func:`backward` will accumulate (add) gradients into it.\n"
      ]
     },
     "metadata": {},
     "output_type": "display_data"
    }
   ],
   "source": [
    "x.grad?"
   ]
  },
  {
   "cell_type": "code",
   "execution_count": 35,
   "id": "8d3c40ee-c619-4973-af9b-e6ff1b2ab9a1",
   "metadata": {},
   "outputs": [],
   "source": [
    "x.grad#default is none as expected"
   ]
  },
  {
   "cell_type": "code",
   "execution_count": 36,
   "id": "c7fbed7e-055d-4a22-8ded-4b9d35be6394",
   "metadata": {},
   "outputs": [
    {
     "data": {
      "text/plain": [
       "tensor(28., grad_fn=<MulBackward0>)"
      ]
     },
     "execution_count": 36,
     "metadata": {},
     "output_type": "execute_result"
    }
   ],
   "source": [
    "y = 2 * torch.dot(x, x)\n",
    "y"
   ]
  },
  {
   "cell_type": "markdown",
   "id": "60d22f1e-36a5-4519-a83e-ecbca46ea0be",
   "metadata": {},
   "source": [
    "Next, we can automatically calculate the gradient of y with respect to each component of x,$\\nabla_\\mathbf{x} y(\\mathbf{x})$, by calling the function for backpropagation and printing the gradient."
   ]
  },
  {
   "cell_type": "code",
   "execution_count": 37,
   "id": "c2416664-6963-4e79-9fbf-0dc95533db7c",
   "metadata": {},
   "outputs": [
    {
     "data": {
      "text/plain": [
       "tensor([ 0.,  4.,  8., 12.])"
      ]
     },
     "execution_count": 37,
     "metadata": {},
     "output_type": "execute_result"
    }
   ],
   "source": [
    "y.backward()\n",
    "x.grad"
   ]
  },
  {
   "cell_type": "code",
   "execution_count": 38,
   "id": "3ffda712-53ad-4d4e-86c5-357d05e7e3bf",
   "metadata": {},
   "outputs": [
    {
     "data": {
      "text/plain": [
       "tensor([0., 1., 2., 3.], requires_grad=True)"
      ]
     },
     "execution_count": 38,
     "metadata": {},
     "output_type": "execute_result"
    }
   ],
   "source": [
    "x"
   ]
  },
  {
   "cell_type": "markdown",
   "id": "86c2b158-cef1-49aa-af8c-8bcc32f9f1f5",
   "metadata": {},
   "source": [
    "Since $y=2 \\mathbf{x}^{\\top} \\mathbf{x}$, $\\nabla_\\mathbf{x} y(\\mathbf{x})=4 \\mathbf{x}$. Let's verify that pytorch calculated the gradient correctly"
   ]
  },
  {
   "cell_type": "code",
   "execution_count": 39,
   "id": "c5041d9a-9694-4c7a-a5ed-4b9e439945c8",
   "metadata": {},
   "outputs": [
    {
     "data": {
      "text/plain": [
       "tensor([True, True, True, True])"
      ]
     },
     "execution_count": 39,
     "metadata": {},
     "output_type": "execute_result"
    }
   ],
   "source": [
    "x.grad == 4 * x"
   ]
  },
  {
   "cell_type": "code",
   "execution_count": 40,
   "id": "8f4a0ef2-6754-4b1a-ab5a-b1758721a666",
   "metadata": {},
   "outputs": [
    {
     "data": {
      "text/plain": [
       "tensor([0., 1., 2., 3.], requires_grad=True)"
      ]
     },
     "execution_count": 40,
     "metadata": {},
     "output_type": "execute_result"
    }
   ],
   "source": [
    "# PyTorch accumulates the gradient in default, we need to clear the previous\n",
    "# values\n",
    "x.grad.zero_()\n",
    "x"
   ]
  },
  {
   "cell_type": "code",
   "execution_count": 41,
   "id": "32eb503a-9d66-44f6-9de2-7f0d619007f3",
   "metadata": {},
   "outputs": [],
   "source": [
    "#calculate the gradient of another function"
   ]
  },
  {
   "cell_type": "code",
   "execution_count": 42,
   "id": "4c415259-7337-463d-a12c-799e7614a9d3",
   "metadata": {},
   "outputs": [
    {
     "data": {
      "text/plain": [
       "tensor([1., 1., 1., 1.])"
      ]
     },
     "execution_count": 42,
     "metadata": {},
     "output_type": "execute_result"
    }
   ],
   "source": [
    "y = x.sum()\n",
    "y.backward()\n",
    "x.grad"
   ]
  },
  {
   "cell_type": "code",
   "execution_count": 27,
   "id": "b5f05033-880e-4c5b-9c2d-e4c59fc9b4a7",
   "metadata": {},
   "outputs": [
    {
     "data": {
      "text/plain": [
       "<matplotlib.legend.Legend at 0x7fc4045f7790>"
      ]
     },
     "execution_count": 27,
     "metadata": {},
     "output_type": "execute_result"
    },
    {
     "data": {
      "image/png": "[encoded data removed]",
      "text/plain": [
       "<Figure size 432x288 with 1 Axes>"
      ]
     },
     "metadata": {
      "needs_background": "light"
     },
     "output_type": "display_data"
    }
   ],
   "source": [
    "x = torch.arange(-8.0, 8.0, 0.1, requires_grad=True)\n",
    "y = torch.relu(x)\n",
    "plt.plot(x.detach(), y.detach(), label=r'$ReLU(x) = max(x,0)$')\n",
    "plt.xlabel('x')\n",
    "y.backward(torch.ones_like(x), retain_graph=True)\n",
    "plt.plot(x.detach(), x.grad, label=r'$\\frac{\\partial \\ ReLU(x)}{\\partial x}$')\n",
    "plt.legend()"
   ]
  },
  {
   "cell_type": "code",
   "execution_count": 29,
   "id": "4e1fe2a4-181f-4010-9b7b-59df192bfedf",
   "metadata": {},
   "outputs": [
    {
     "data": {
      "text/plain": [
       "<matplotlib.legend.Legend at 0x7fc403e5ce50>"
      ]
     },
     "execution_count": 29,
     "metadata": {},
     "output_type": "execute_result"
    },
    {
     "data": {
      "image/png": "[encoded data removed]",
      "text/plain": [
       "<Figure size 432x288 with 1 Axes>"
      ]
     },
     "metadata": {
      "needs_background": "light"
     },
     "output_type": "display_data"
    }
   ],
   "source": [
    "y = torch.sigmoid(x)\n",
    "plt.plot(x.detach(), y.detach(), label=r'Sigmoid $(x)$')\n",
    "# Clear out previous gradients\n",
    "x.grad.data.zero_()\n",
    "y.backward(torch.ones_like(x),retain_graph=True)\n",
    "plt.plot(x.detach(), x.grad, label=r'$\\frac{\\partial \\ Sigmoid(x)}{\\partial x}$')\n",
    "plt.xlabel(r'$x$'); plt.legend()"
   ]
  },
  {
   "cell_type": "code",
   "execution_count": 30,
   "id": "9ae14c23-f71b-4b85-9bd5-5d612b966a54",
   "metadata": {},
   "outputs": [
    {
     "data": {
      "text/plain": [
       "<matplotlib.legend.Legend at 0x7fc403025250>"
      ]
     },
     "execution_count": 30,
     "metadata": {},
     "output_type": "execute_result"
    },
    {
     "data": {
      "image/png": "[encoded data removed]",
      "text/plain": [
       "<Figure size 432x288 with 1 Axes>"
      ]
     },
     "metadata": {
      "needs_background": "light"
     },
     "output_type": "display_data"
    }
   ],
   "source": [
    "y = torch.tanh(x)\n",
    "plt.plot(x.detach(), y.detach(), label=r'tanh $(x)$')\n",
    "# Clear out previous gradients\n",
    "x.grad.data.zero_()\n",
    "y.backward(torch.ones_like(x),retain_graph=True)\n",
    "plt.plot(x.detach(), x.grad, label=r'$\\frac{\\partial \\ tanh(x)}{\\partial x}$')\n",
    "plt.xlabel(r'$x$'); plt.legend()"
   ]
  },
  {
   "cell_type": "code",
   "execution_count": null,
   "id": "8cfd7887-f8d6-4d17-93a8-0fb2bd5a50b3",
   "metadata": {},
   "outputs": [],
   "source": []
  }
 ],
 "metadata": {
  "kernelspec": {
   "display_name": "Python 3 (ipykernel)",
   "language": "python",
   "name": "python3"
  },
  "language_info": {
   "codemirror_mode": {
    "name": "ipython",
    "version": 3
   },
   "file_extension": ".py",
   "mimetype": "text/x-python",
   "name": "python",
   "nbconvert_exporter": "python",
   "pygments_lexer": "ipython3",
   "version": "3.7.7"
  }
 },
 "nbformat": 4,
 "nbformat_minor": 5
}
